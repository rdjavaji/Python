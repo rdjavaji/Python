{
 "cells": [
  {
   "cell_type": "markdown",
   "id": "6228b002-13a4-4cfc-8ffa-d039c9df71d2",
   "metadata": {},
   "source": [
    "# If Statements"
   ]
  },
  {
   "cell_type": "markdown",
   "id": "66494db6-e43a-463f-a82d-edce1ef45465",
   "metadata": {},
   "source": [
    "# Demonstrate conditional logic using if, else, and elif statements."
   ]
  },
  {
   "cell_type": "markdown",
   "id": "e7c699eb-6746-4bac-9f1c-53d1982f02cc",
   "metadata": {},
   "source": [
    "1: Age Classification"
   ]
  },
  {
   "cell_type": "code",
   "execution_count": 6,
   "id": "295daa40-cb05-4cc9-9be9-d12da4cc0462",
   "metadata": {},
   "outputs": [
    {
     "name": "stdout",
     "output_type": "stream",
     "text": [
      "Age: 5 - Classification: Child\n",
      "Age: 13 - Classification: Teenager\n",
      "Age: 17 - Classification: Teenager\n",
      "Age: 30 - Classification: Adult\n",
      "Age: 70 - Classification: Senior\n",
      "Age: -1 - Classification: Invalid age\n"
     ]
    }
   ],
   "source": [
    "def classify_age(age):\n",
    "    if age < 0:\n",
    "        return \"Invalid age\"\n",
    "    elif age < 13:\n",
    "        return \"Child\"\n",
    "    elif age < 20:\n",
    "        return \"Teenager\"\n",
    "    elif age < 65:\n",
    "        return \"Adult\"\n",
    "    else:\n",
    "        return \"Senior\"\n",
    "\n",
    "# Test the function with different ages\n",
    "ages = [5, 13, 17, 30, 70, -1]\n",
    "for age in ages:\n",
    "    classification = classify_age(age)\n",
    "    print(f\"Age: {age} - Classification: {classification}\")"
   ]
  },
  {
   "cell_type": "markdown",
   "id": "fd549d9e-87f6-4869-8a2b-79db3f1d45fb",
   "metadata": {},
   "source": [
    "2. Simple Calculator"
   ]
  },
  {
   "cell_type": "code",
   "execution_count": 9,
   "id": "5c80788b-92a0-4120-8c97-c97f8f8a63ca",
   "metadata": {},
   "outputs": [
    {
     "name": "stdout",
     "output_type": "stream",
     "text": [
      "15\n",
      "5\n",
      "50\n",
      "Error: Division by zero\n",
      "Invalid operation\n"
     ]
    }
   ],
   "source": [
    "def simple_calculator(a, b, operation):\n",
    "    if operation == 'add':\n",
    "        return a + b\n",
    "    elif operation == 'subtract':\n",
    "        return a - b\n",
    "    elif operation == 'multiply':\n",
    "        return a * b\n",
    "    elif operation == 'divide':\n",
    "        if b != 0:\n",
    "            return a / b\n",
    "        else:\n",
    "            return \"Error: Division by zero\"\n",
    "    else:\n",
    "        return \"Invalid operation\"\n",
    "\n",
    "# Testing the calculator\n",
    "print(simple_calculator(10, 5, 'add'))        # Output: 15\n",
    "print(simple_calculator(10, 5, 'subtract'))   # Output: 5\n",
    "print(simple_calculator(10, 5, 'multiply'))   # Output: 50\n",
    "print(simple_calculator(10, 0, 'divide'))     # Output: Error: Division by zero\n",
    "print(simple_calculator(10, 5, 'unknown'))    # Output: Invalid operation"
   ]
  },
  {
   "cell_type": "markdown",
   "id": "98cb126a-eef8-4c25-8fd8-d40879bedfb0",
   "metadata": {},
   "source": [
    "3: Temperature Converter"
   ]
  },
  {
   "cell_type": "code",
   "execution_count": 12,
   "id": "6ffe2a85-6d7b-4685-85c6-ac57888e4466",
   "metadata": {},
   "outputs": [
    {
     "name": "stdout",
     "output_type": "stream",
     "text": [
      "212.0\n",
      "0.0\n",
      "Invalid scale\n"
     ]
    }
   ],
   "source": [
    "def convert_temperature(value, scale):\n",
    "    if scale == 'C':\n",
    "        return (value * 9/5) + 32  # Convert to Fahrenheit\n",
    "    elif scale == 'F':\n",
    "        return (value - 32) * 5/9   # Convert to Celsius\n",
    "    else:\n",
    "        return \"Invalid scale\"\n",
    "\n",
    "# Test the temperature converter\n",
    "print(convert_temperature(100, 'C'))  # Output: 212.0\n",
    "print(convert_temperature(32, 'F'))    # Output: 0.0\n",
    "print(convert_temperature(0, 'K'))     # Output: Invalid scale"
   ]
  },
  {
   "cell_type": "markdown",
   "id": "b5bb956c-fea4-4e53-a656-ab661ad9c827",
   "metadata": {},
   "source": [
    "4: Grading System"
   ]
  },
  {
   "cell_type": "code",
   "execution_count": 15,
   "id": "3c079cc2-6d90-4840-af6d-43fbbbfd3d0d",
   "metadata": {},
   "outputs": [
    {
     "name": "stdout",
     "output_type": "stream",
     "text": [
      "Score: 95 - Grade: A\n",
      "Score: 82 - Grade: B\n",
      "Score: 67 - Grade: D\n",
      "Score: 58 - Grade: F\n",
      "Score: 105 - Grade: Invalid score\n",
      "Score: -10 - Grade: Invalid score\n"
     ]
    }
   ],
   "source": [
    "def determine_grade(score):\n",
    "    if score < 0 or score > 100:\n",
    "        return \"Invalid score\"\n",
    "    elif score >= 90:\n",
    "        return \"A\"\n",
    "    elif score >= 80:\n",
    "        return \"B\"\n",
    "    elif score >= 70:\n",
    "        return \"C\"\n",
    "    elif score >= 60:\n",
    "        return \"D\"\n",
    "    else:\n",
    "        return \"F\"\n",
    "\n",
    "# Test the grading function\n",
    "scores = [95, 82, 67, 58, 105, -10]\n",
    "for score in scores:\n",
    "    grade = determine_grade(score)\n",
    "    print(f\"Score: {score} - Grade: {grade}\")"
   ]
  },
  {
   "cell_type": "markdown",
   "id": "b0284bf2-e156-4301-ada4-80a5bb0e14d8",
   "metadata": {},
   "source": [
    "# Create complex conditional expressions."
   ]
  },
  {
   "cell_type": "markdown",
   "id": "168e881a-d08c-4e8a-869c-41708bce1124",
   "metadata": {},
   "source": [
    "1: Checking Eligibility for a Discount"
   ]
  },
  {
   "cell_type": "code",
   "execution_count": 18,
   "id": "02c878b7-6ecc-4334-8c78-ee70795b2bd6",
   "metadata": {},
   "outputs": [
    {
     "name": "stdout",
     "output_type": "stream",
     "text": [
      "Eligible for discount\n",
      "Eligible for discount\n",
      "Not eligible for discount\n",
      "Not eligible for discount\n"
     ]
    }
   ],
   "source": [
    "def check_discount(membership, purchase_amount):\n",
    "    if (membership == \"premium\" and purchase_amount > 100) or (membership == \"regular\" and purchase_amount > 200):\n",
    "        return \"Eligible for discount\"\n",
    "    else:\n",
    "        return \"Not eligible for discount\"\n",
    "\n",
    "# Test the function\n",
    "print(check_discount(\"premium\", 150))  # Expected: Eligible for discount\n",
    "print(check_discount(\"regular\", 250))   # Expected: Eligible for discount\n",
    "print(check_discount(\"regular\", 150))   # Expected: Not eligible for discount\n",
    "print(check_discount(\"basic\", 150))     # Expected: Not eligible for discount"
   ]
  },
  {
   "cell_type": "markdown",
   "id": "04f34734-0621-4db7-9358-ca10c0aa84e7",
   "metadata": {},
   "source": [
    "2: Evaluating a Student's Status"
   ]
  },
  {
   "cell_type": "code",
   "execution_count": 30,
   "id": "400adb50-f5db-4420-98ff-f172375a7635",
   "metadata": {},
   "outputs": [
    {
     "name": "stdout",
     "output_type": "stream",
     "text": [
      "Grade: 95 - Status: Excellent\n",
      "Grade: 85 - Status: Good\n",
      "Grade: 60 - Status: Average\n",
      "Grade: 45 - Status: Needs Improvement\n",
      "Grade: -10 - Status: Invalid grade\n",
      "Grade: 105 - Status: Invalid grade\n"
     ]
    }
   ],
   "source": [
    "def evaluate_student(grade):\n",
    "    # Check for invalid grades\n",
    "    if grade < 0 or grade > 100:\n",
    "        return \"Invalid grade\"\n",
    "    # Evaluate the grade and return the corresponding status\n",
    "    elif grade >= 90:\n",
    "        return \"Excellent\"\n",
    "    elif grade >= 75:\n",
    "        return \"Good\"\n",
    "    elif grade >= 50:\n",
    "        return \"Average\"\n",
    "    else:\n",
    "        return \"Needs Improvement\"\n",
    "\n",
    "# Test the function with different grades\n",
    "test_grades = [95, 85, 60, 45, -10, 105]\n",
    "\n",
    "for grade in test_grades:\n",
    "    status = evaluate_student(grade)\n",
    "    print(f\"Grade: {grade} - Status: {status}\")"
   ]
  },
  {
   "cell_type": "markdown",
   "id": "5b865bde-76e5-42de-bbb0-edd8d5006a7e",
   "metadata": {},
   "source": [
    "3: Complex Age Group Classification"
   ]
  },
  {
   "cell_type": "code",
   "execution_count": 33,
   "id": "b7fc67be-b693-4566-81fe-507a5fc734f3",
   "metadata": {},
   "outputs": [
    {
     "name": "stdout",
     "output_type": "stream",
     "text": [
      "Age: 5 - Classification: Child\n",
      "Age: 13 - Classification: Teenager\n",
      "Age: 17 - Classification: Teenager\n",
      "Age: 25 - Classification: Young Adult\n",
      "Age: 40 - Classification: Adult\n",
      "Age: 70 - Classification: Senior\n",
      "Age: -1 - Classification: Invalid age\n",
      "Age: 85 - Classification: Senior\n",
      "Age: 34 - Classification: Young Adult\n",
      "Age: 19 - Classification: Teenager\n"
     ]
    }
   ],
   "source": [
    "def classify_age(age):\n",
    "    # Check for invalid age\n",
    "    if age < 0:\n",
    "        return \"Invalid age\"\n",
    "    # Age classifications\n",
    "    elif age <= 12:\n",
    "        return \"Child\"\n",
    "    elif age <= 19:\n",
    "        return \"Teenager\"\n",
    "    elif age <= 34:\n",
    "        return \"Young Adult\"\n",
    "    elif age <= 64:\n",
    "        return \"Adult\"\n",
    "    else:  # age >= 65\n",
    "        return \"Senior\"\n",
    "\n",
    "# Test the function with a range of ages\n",
    "test_ages = [5, 13, 17, 25, 40, 70, -1, 85, 34, 19]\n",
    "\n",
    "for age in test_ages:\n",
    "    classification = classify_age(age)\n",
    "    print(f\"Age: {age} - Classification: {classification}\")"
   ]
  },
  {
   "cell_type": "markdown",
   "id": "c13c858d-7f35-4854-943e-444737e3deeb",
   "metadata": {},
   "source": [
    "4: Login Access Control"
   ]
  },
  {
   "cell_type": "code",
   "execution_count": 36,
   "id": "ed2c6754-e7b3-4da4-9843-7d886b8bdc7f",
   "metadata": {},
   "outputs": [
    {
     "name": "stdout",
     "output_type": "stream",
     "text": [
      "Access granted: Admin\n",
      "Access granted: User\n",
      "Access denied: Invalid username\n",
      "Access denied: Incorrect password\n"
     ]
    }
   ],
   "source": [
    "def check_login(username, password):\n",
    "    if username == \"admin\" and password == \"admin123\":\n",
    "       return \"Access granted: Admin\"\n",
    "    elif username == \"user\" and password == \"user123\":\n",
    "       return \"Access granted: User\"\n",
    "    elif username != \"admin\" and username != \"user\":\n",
    "       return \"Access denied: Invalid username\"\n",
    "    else:\n",
    "       return \"Access denied: Incorrect password\"\n",
    "        \n",
    "# Test the function\n",
    "print(check_login(\"admin\", \"admin123\"))\n",
    "print(check_login(\"user\", \"user123\"))\n",
    "print(check_login(\"guest\", \"guest123\"))\n",
    "print(check_login(\"user\", \"wrongpass\"))"
   ]
  },
  {
   "cell_type": "markdown",
   "id": "ed2f0d5e-6183-443f-a95c-bda2a5ac842d",
   "metadata": {},
   "source": [
    "# Implement nested if statements."
   ]
  },
  {
   "cell_type": "markdown",
   "id": "ff964aaf-e0a8-4dfb-8b5c-d0d69a7d7a19",
   "metadata": {},
   "source": [
    "1: Grade Classification"
   ]
  },
  {
   "cell_type": "code",
   "execution_count": 44,
   "id": "bd6a0eeb-fa86-4db2-94bb-6a5e99ac9d1c",
   "metadata": {},
   "outputs": [
    {
     "name": "stdout",
     "output_type": "stream",
     "text": [
      "Score: 95 - Grade: A\n",
      "Score: 82 - Grade: B\n",
      "Score: 67 - Grade: D\n",
      "Score: 45 - Grade: F\n",
      "Score: -10 - Grade: Invalid score\n"
     ]
    }
   ],
   "source": [
    "def classify_grade(score):\n",
    "    if score >= 0:  # Check if the score is valid\n",
    "        if score >= 90:\n",
    "            return \"A\"\n",
    "        else:\n",
    "            if score >= 80:\n",
    "                return \"B\"\n",
    "            else:\n",
    "                if score >= 70:\n",
    "                    return \"C\"\n",
    "                else:\n",
    "                    if score >= 60:\n",
    "                        return \"D\"\n",
    "                    else:\n",
    "                        return \"F\"  # score < 60\n",
    "    else:\n",
    "        return \"Invalid score\"\n",
    "\n",
    "# Test the function\n",
    "grades = [95, 82, 67, 45, -10]\n",
    "for grade in grades:\n",
    "    classification = classify_grade(grade)\n",
    "    print(f\"Score: {grade} - Grade: {classification}\")"
   ]
  },
  {
   "cell_type": "markdown",
   "id": "69a327df-e071-4b2b-8375-d0e48e118160",
   "metadata": {},
   "source": [
    "2. Vehicle Classification"
   ]
  },
  {
   "cell_type": "code",
   "execution_count": 47,
   "id": "214a43ff-6850-46f7-9da0-b39680885c47",
   "metadata": {},
   "outputs": [
    {
     "name": "stdout",
     "output_type": "stream",
     "text": [
      "Vehicle Type: Car, Size: Small - Classification: Compact Car\n",
      "Vehicle Type: Car, Size: Medium - Classification: Sedan\n",
      "Vehicle Type: Truck, Size: Large - Classification: Heavy Duty Truck\n",
      "Vehicle Type: Motorcycle, Size:  - Classification: Two-wheeler\n",
      "Vehicle Type: Truck, Size: Medium - Classification: Invalid size for truck\n"
     ]
    }
   ],
   "source": [
    "def classify_vehicle(vehicle_type, size):\n",
    "    if vehicle_type.lower() == \"car\":\n",
    "        if size.lower() == \"small\":\n",
    "            return \"Compact Car\"\n",
    "        elif size.lower() == \"medium\":\n",
    "            return \"Sedan\"\n",
    "        elif size.lower() == \"large\":\n",
    "            return \"SUV\"\n",
    "        else:\n",
    "            return \"Invalid size for car\"\n",
    "    elif vehicle_type.lower() == \"truck\":\n",
    "        if size.lower() == \"small\":\n",
    "            return \"Mini Truck\"\n",
    "        elif size.lower() == \"large\":\n",
    "            return \"Heavy Duty Truck\"\n",
    "        else:\n",
    "            return \"Invalid size for truck\"\n",
    "    elif vehicle_type.lower() == \"motorcycle\":\n",
    "        return \"Two-wheeler\"\n",
    "    else:\n",
    "        return \"Invalid vehicle type\"\n",
    "\n",
    "# Test the function\n",
    "vehicles = [\n",
    "    (\"Car\", \"Small\"),\n",
    "    (\"Car\", \"Medium\"),\n",
    "    (\"Truck\", \"Large\"),\n",
    "    (\"Motorcycle\", \"\"),\n",
    "    (\"Truck\", \"Medium\")\n",
    "]\n",
    "\n",
    "for vehicle in vehicles:\n",
    "    vehicle_type, size = vehicle\n",
    "    classification = classify_vehicle(vehicle_type, size)\n",
    "    print(f\"Vehicle Type: {vehicle_type}, Size: {size} - Classification: {classification}\")"
   ]
  },
  {
   "cell_type": "markdown",
   "id": "b7966a4d-b5d4-4b34-8cc4-06f1f1d877b3",
   "metadata": {},
   "source": [
    "3. Login System"
   ]
  },
  {
   "cell_type": "code",
   "execution_count": 50,
   "id": "343e8deb-b1ac-475b-8a9b-0bfc67ecb394",
   "metadata": {},
   "outputs": [
    {
     "name": "stdout",
     "output_type": "stream",
     "text": [
      "Username: admin, Password: 1234 - Result: Login successful\n",
      "Username: admin, Password: wrongpass - Result: Incorrect password\n",
      "Username: user, Password: 1234 - Result: Invalid username\n",
      "Username: user, Password: wrongpass - Result: Invalid username\n"
     ]
    }
   ],
   "source": [
    "def login(username, password):\n",
    "    if username == \"admin\":  # Check if username is correct\n",
    "        if password == \"1234\":  # Check if password is correct\n",
    "            return \"Login successful\"\n",
    "        else:\n",
    "            return \"Incorrect password\"\n",
    "    else:\n",
    "        return \"Invalid username\"\n",
    "\n",
    "# Test the login system\n",
    "login_attempts = [\n",
    "    (\"admin\", \"1234\"),\n",
    "    (\"admin\", \"wrongpass\"),\n",
    "    (\"user\", \"1234\"),\n",
    "    (\"user\", \"wrongpass\"),\n",
    "]\n",
    "\n",
    "for username, password in login_attempts:\n",
    "    result = login(username, password)\n",
    "    print(f\"Username: {username}, Password: {password} - Result: {result}\")"
   ]
  },
  {
   "cell_type": "code",
   "execution_count": null,
   "id": "3abf2598-4844-45e9-9bc1-dfd8a6c7933c",
   "metadata": {},
   "outputs": [],
   "source": []
  }
 ],
 "metadata": {
  "kernelspec": {
   "display_name": "Python 3 (ipykernel)",
   "language": "python",
   "name": "python3"
  },
  "language_info": {
   "codemirror_mode": {
    "name": "ipython",
    "version": 3
   },
   "file_extension": ".py",
   "mimetype": "text/x-python",
   "name": "python",
   "nbconvert_exporter": "python",
   "pygments_lexer": "ipython3",
   "version": "3.12.4"
  }
 },
 "nbformat": 4,
 "nbformat_minor": 5
}
