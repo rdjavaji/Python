{
 "cells": [
  {
   "cell_type": "markdown",
   "id": "81f6dda2-3112-46cd-b9bd-1b65f2400ccd",
   "metadata": {},
   "source": [
    "# Operators"
   ]
  },
  {
   "cell_type": "markdown",
   "id": "126dcfb5-3c72-438d-ab1b-4ea5d81dbc78",
   "metadata": {},
   "source": [
    "# Use arithmetic, comparison, logical, and assignment operators."
   ]
  },
  {
   "cell_type": "markdown",
   "id": "877a84ac-9cba-44ed-b417-f9fdbac3b128",
   "metadata": {},
   "source": [
    "Arithmetic"
   ]
  },
  {
   "cell_type": "code",
   "execution_count": 4,
   "id": "871a56df-6584-4892-a240-8a8be6148616",
   "metadata": {},
   "outputs": [
    {
     "name": "stdout",
     "output_type": "stream",
     "text": [
      "Addition: 13\n",
      "Subtraction: 7\n",
      "Multiplication: 30\n",
      "Division: 3.3333333333333335\n",
      "Floor Division: 3\n",
      "Modulus: 1\n",
      "Exponentiation: 1000\n"
     ]
    }
   ],
   "source": [
    "a = 10\n",
    "b = 3\n",
    "\n",
    "# Performing various arithmetic operations\n",
    "addition = a + b           # Addition\n",
    "subtraction = a - b        # Subtraction\n",
    "multiplication = a * b     # Multiplication\n",
    "division = a / b           # Division (float)\n",
    "floor_division = a // b    # Floor Division\n",
    "modulus = a % b            # Modulus\n",
    "exponentiation = a ** b    # Exponentiation\n",
    "\n",
    "# Printing the results of each operation\n",
    "print(\"Addition:\", addition)             # Output: 13\n",
    "print(\"Subtraction:\", subtraction)       # Output: 7\n",
    "print(\"Multiplication:\", multiplication)  # Output: 30\n",
    "print(\"Division:\", division)              # Output: 3.3333333333333335\n",
    "print(\"Floor Division:\", floor_division)  # Output: 3\n",
    "print(\"Modulus:\", modulus)                # Output: 1\n",
    "print(\"Exponentiation:\", exponentiation)  # Output: 1000"
   ]
  },
  {
   "cell_type": "markdown",
   "id": "16ce218e-7860-4bbd-9c0c-6cae3a3ffda3",
   "metadata": {},
   "source": [
    "Comparison Operators"
   ]
  },
  {
   "cell_type": "code",
   "execution_count": 7,
   "id": "71ef623d-20fc-472f-ad77-c28771e13155",
   "metadata": {},
   "outputs": [
    {
     "name": "stdout",
     "output_type": "stream",
     "text": [
      "Is Equal: False\n",
      "Is Not Equal: True\n",
      "Is Greater: False\n",
      "Is Less: True\n",
      "Is Greater or Equal: False\n",
      "Is Less or Equal: True\n"
     ]
    }
   ],
   "source": [
    "x = 5\n",
    "y = 10\n",
    "\n",
    "# Performing various comparison operations\n",
    "is_equal = (x == y)              # Equal to\n",
    "is_not_equal = (x != y)          # Not equal to\n",
    "is_greater = (x > y)             # Greater than\n",
    "is_less = (x < y)                # Less than\n",
    "is_greater_equal = (x >= y)      # Greater than or equal to\n",
    "is_less_equal = (x <= y)         # Less than or equal to\n",
    "\n",
    "# Printing the results of each comparison\n",
    "print(\"Is Equal:\", is_equal)                      # Output: False\n",
    "print(\"Is Not Equal:\", is_not_equal)              # Output: True\n",
    "print(\"Is Greater:\", is_greater)                  # Output: False\n",
    "print(\"Is Less:\", is_less)                        # Output: True\n",
    "print(\"Is Greater or Equal:\", is_greater_equal)   # Output: False\n",
    "print(\"Is Less or Equal:\", is_less_equal)         # Output: True"
   ]
  },
  {
   "cell_type": "markdown",
   "id": "d2e44628-675d-44c5-b908-82d4fc45d812",
   "metadata": {},
   "source": [
    "Logical Operators"
   ]
  },
  {
   "cell_type": "code",
   "execution_count": 11,
   "id": "b3d17796-bf41-402c-9e87-d93e59a537dd",
   "metadata": {},
   "outputs": [
    {
     "name": "stdout",
     "output_type": "stream",
     "text": [
      "Logical AND: False\n",
      "Logical OR: True\n",
      "Logical NOT: False\n"
     ]
    }
   ],
   "source": [
    "a = True\n",
    "b = False\n",
    "\n",
    "# Performing logical operations\n",
    "logical_and = a and b  # Logical AND\n",
    "logical_or = a or b    # Logical OR\n",
    "logical_not = not a    # Logical NOT\n",
    "\n",
    "# Printing the results of each logical operation\n",
    "print(\"Logical AND:\", logical_and)   # Output: False\n",
    "print(\"Logical OR:\", logical_or)     # Output: True\n",
    "print(\"Logical NOT:\", logical_not)    # Output: False"
   ]
  },
  {
   "cell_type": "markdown",
   "id": "9ff76ae6-7ceb-45d5-a52b-bbbac3c8bc7c",
   "metadata": {},
   "source": [
    "Assignment Operators"
   ]
  },
  {
   "cell_type": "code",
   "execution_count": 16,
   "id": "882c2369-7497-4b7c-b2dc-15d2e28f47a3",
   "metadata": {},
   "outputs": [
    {
     "name": "stdout",
     "output_type": "stream",
     "text": [
      "Final value of x: 8.0\n"
     ]
    }
   ],
   "source": [
    "x = 5          # Initial value of x\n",
    "x += 3         # Add 3 to x (x becomes 8)\n",
    "x -= 2         # Subtract 2 from x (x becomes 6)\n",
    "x *= 4         # Multiply x by 4 (x becomes 24)\n",
    "x /= 6         # Divide x by 6 (x becomes 4.0)\n",
    "x //= 2        # Floor divide x by 2 (x becomes 2.0)\n",
    "x %= 3         # Modulus: x % 3 (x becomes 2.0)\n",
    "x **= 3        # Exponentiate x (x becomes 8.0)\n",
    "\n",
    "# Print the final value of x\n",
    "print(\"Final value of x:\", x)  # Output: 8.0"
   ]
  },
  {
   "cell_type": "markdown",
   "id": "01ccd4c3-d089-4055-8755-f56758f7f79a",
   "metadata": {},
   "source": [
    "# Understand operator precedence."
   ]
  },
  {
   "cell_type": "raw",
   "id": "cf175916-b9d3-4ce0-a7dd-0f8f6d279d82",
   "metadata": {},
   "source": [
    "# Operator Precedence Table\n",
    "Parentheses: ()\n",
    "Exponentiation: **\n",
    "Unary Plus and Minus: +x, -x\n",
    "Multiplication, Division, Floor Division, Modulus: *, /, //, %\n",
    "Addition and Subtraction: +, -\n",
    "Bitwise Shift Operators: <<, >>\n",
    "Bitwise AND: &\n",
    "Bitwise XOR: ^\n",
    "Bitwise OR: |\n",
    "Comparison Operators: ==, !=, >, <, >=, <=\n",
    "Identity Operators: is, is not\n",
    "Membership Operators: in, not in\n",
    "Logical NOT: not\n",
    "Logical AND: and\n",
    "Logical OR: or"
   ]
  },
  {
   "cell_type": "markdown",
   "id": "5887a7ba-4bbe-4db1-84e7-751f19361505",
   "metadata": {},
   "source": [
    "# Apply operators in expressions and calculations."
   ]
  },
  {
   "cell_type": "markdown",
   "id": "9100f00c-f806-40b3-843a-bbd2edf8f218",
   "metadata": {},
   "source": [
    "1. Arithmetic Operators"
   ]
  },
  {
   "cell_type": "code",
   "execution_count": 21,
   "id": "e52c4600-d055-47fe-97db-71739fb1b7b8",
   "metadata": {},
   "outputs": [
    {
     "name": "stdout",
     "output_type": "stream",
     "text": [
      "Addition: 19\n",
      "Subtraction: 11\n",
      "Multiplication: 60\n",
      "Division: 3.75\n",
      "Floor Division: 3\n",
      "Modulus: 3\n",
      "Exponentiation: 50625\n"
     ]
    }
   ],
   "source": [
    "# Defining variables\n",
    "a = 15\n",
    "b = 4\n",
    "\n",
    "# Addition\n",
    "addition = a + b # 19\n",
    "print(\"Addition:\", addition)\n",
    "\n",
    "# Subtraction\n",
    "subtraction = a - b # 11\n",
    "print(\"Subtraction:\", subtraction)\n",
    "\n",
    "# Multiplication\n",
    "multiplication = a * b # 60\n",
    "print(\"Multiplication:\", multiplication)\n",
    "\n",
    "# Division\n",
    "division = a / b # 3.75\n",
    "print(\"Division:\", division)\n",
    "\n",
    "# Floor Division\n",
    "floor_division = a // b # 3\n",
    "print(\"Floor Division:\", floor_division)\n",
    "\n",
    "# Modulus\n",
    "modulus = a % b # 3\n",
    "print(\"Modulus:\", modulus)\n",
    "\n",
    "# Exponentiation\n",
    "exponentiation = a ** b # 50625\n",
    "print(\"Exponentiation:\", exponentiation)"
   ]
  },
  {
   "cell_type": "markdown",
   "id": "cf9fbf0c-a7c0-4029-8f0a-e99e89f3d711",
   "metadata": {},
   "source": [
    "2. Comparison Operators"
   ]
  },
  {
   "cell_type": "code",
   "execution_count": 24,
   "id": "3501669e-db69-49f8-ae2f-c5c4bf79065a",
   "metadata": {},
   "outputs": [
    {
     "name": "stdout",
     "output_type": "stream",
     "text": [
      "Is Equal: False\n",
      "Is Not Equal: True\n",
      "Is Greater: False\n",
      "Is Less: True\n",
      "Is Greater or Equal: False\n",
      "Is Less or Equal: True\n"
     ]
    }
   ],
   "source": [
    "x = 10\n",
    "y = 20\n",
    "\n",
    "# Equal to\n",
    "is_equal = (x == y) # False\n",
    "print(\"Is Equal:\", is_equal)\n",
    "\n",
    "# Not equal to\n",
    "is_not_equal = (x != y) # True\n",
    "print(\"Is Not Equal:\", is_not_equal)\n",
    "\n",
    "# Greater than\n",
    "is_greater = (x > y) # False\n",
    "print(\"Is Greater:\", is_greater)\n",
    "\n",
    "# Less than\n",
    "is_less = (x < y) # True\n",
    "print(\"Is Less:\", is_less)\n",
    "\n",
    "# Greater than or equal to\n",
    "is_greater_equal = (x >= y) # False\n",
    "print(\"Is Greater or Equal:\", is_greater_equal)\n",
    "\n",
    "# Less than or equal to\n",
    "is_less_equal = (x <= y) # True\n",
    "print(\"Is Less or Equal:\", is_less_equal)"
   ]
  },
  {
   "cell_type": "markdown",
   "id": "0f55ef05-bd4d-4e07-bc5b-14117745f49c",
   "metadata": {},
   "source": [
    "3. Logical Operators"
   ]
  },
  {
   "cell_type": "code",
   "execution_count": 27,
   "id": "a0797563-57cb-440d-8342-98af32b07e0f",
   "metadata": {},
   "outputs": [
    {
     "name": "stdout",
     "output_type": "stream",
     "text": [
      "Logical AND: False\n",
      "Logical OR: True\n",
      "Logical NOT: False\n"
     ]
    }
   ],
   "source": [
    "a = True\n",
    "b = False\n",
    "\n",
    "# Logical AND\n",
    "and_result = a and b # False\n",
    "print(\"Logical AND:\", and_result)\n",
    "\n",
    "# Logical OR\n",
    "or_result = a or b # True\n",
    "print(\"Logical OR:\", or_result)\n",
    "\n",
    "# Logical NOT\n",
    "not_result = not a # False\n",
    "print(\"Logical NOT:\", not_result)"
   ]
  },
  {
   "cell_type": "markdown",
   "id": "7cb827b4-0a90-432c-aca4-dcd55ab786ae",
   "metadata": {},
   "source": [
    "4. Bitwise Operators"
   ]
  },
  {
   "cell_type": "code",
   "execution_count": 30,
   "id": "0e0e4f9c-8708-47aa-b232-dd3240d187ca",
   "metadata": {},
   "outputs": [
    {
     "name": "stdout",
     "output_type": "stream",
     "text": [
      "Bitwise AND: 0\n",
      "Bitwise OR: 14\n",
      "Bitwise XOR: 14\n",
      "Bitwise NOT: -11\n",
      "Left Shift: 40\n",
      "Right Shift: 2\n"
     ]
    }
   ],
   "source": [
    "x = 10 # Binary: 1010\n",
    "y = 4 # Binary: 0100\n",
    "# Bitwise AND\n",
    "bitwise_and = x & y # 0 (Binary: 0000)\n",
    "print(\"Bitwise AND:\", bitwise_and)\n",
    "\n",
    "# Bitwise OR\n",
    "bitwise_or = x | y # 14 (Binary: 1110)\n",
    "print(\"Bitwise OR:\", bitwise_or)\n",
    "\n",
    "# Bitwise XOR\n",
    "bitwise_xor = x ^ y # 14 (Binary: 1110)\n",
    "print(\"Bitwise XOR:\", bitwise_xor)\n",
    "\n",
    "# Bitwise NOT\n",
    "bitwise_not = ~x # -11 (Binary: ...11110101)\n",
    "print(\"Bitwise NOT:\", bitwise_not)\n",
    "\n",
    "# Left Shift\n",
    "left_shift = x << 2 # 40 (Binary: 101000)\n",
    "print(\"Left Shift:\", left_shift)\n",
    "\n",
    "# Right Shift\n",
    "right_shift = x >> 2 # 2 (Binary: 0010)\n",
    "print(\"Right Shift:\", right_shift)"
   ]
  },
  {
   "cell_type": "markdown",
   "id": "b071e573-8b61-4481-acf8-6249484b7afb",
   "metadata": {},
   "source": [
    "5. Combining Operators in Expressions"
   ]
  },
  {
   "cell_type": "code",
   "execution_count": 33,
   "id": "cbee380b-3f2f-486c-a163-c1c138f221d9",
   "metadata": {},
   "outputs": [
    {
     "name": "stdout",
     "output_type": "stream",
     "text": [
      "Combined Expression Result: 25.0\n"
     ]
    }
   ],
   "source": [
    "a = 10\n",
    "b = 5\n",
    "c = 2\n",
    "\n",
    "# Combined expression\n",
    "result = (a + b) * c - (b ** 2) / (a - b)\n",
    "# = (15) * 2 - (25) / (5)\n",
    "# = 30 - 5\n",
    "# = 25\n",
    "print(\"Combined Expression Result:\", result)"
   ]
  },
  {
   "cell_type": "code",
   "execution_count": null,
   "id": "fba7e9c7-0b50-4b18-ae5b-da10225c5e96",
   "metadata": {},
   "outputs": [],
   "source": []
  }
 ],
 "metadata": {
  "kernelspec": {
   "display_name": "Python 3 (ipykernel)",
   "language": "python",
   "name": "python3"
  },
  "language_info": {
   "codemirror_mode": {
    "name": "ipython",
    "version": 3
   },
   "file_extension": ".py",
   "mimetype": "text/x-python",
   "name": "python",
   "nbconvert_exporter": "python",
   "pygments_lexer": "ipython3",
   "version": "3.12.4"
  }
 },
 "nbformat": 4,
 "nbformat_minor": 5
}
