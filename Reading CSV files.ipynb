{
 "cells": [
  {
   "cell_type": "markdown",
   "id": "407d3d22-a7bb-43e5-8dae-0fc59e1d6b54",
   "metadata": {},
   "source": [
    "# Reading CSV files"
   ]
  },
  {
   "cell_type": "markdown",
   "id": "7f76042e-38e9-4947-8644-ac81bd84b9e3",
   "metadata": {},
   "source": [
    "# Read CSV files into Pandas DataFrames."
   ]
  },
  {
   "cell_type": "raw",
   "id": "63877c7e-b2a2-45a4-86c1-2223b95bff21",
   "metadata": {},
   "source": [
    "1. Install Pandas "
   ]
  },
  {
   "cell_type": "code",
   "execution_count": 3,
   "id": "34674573-006c-4039-8800-148a13683ff1",
   "metadata": {},
   "outputs": [
    {
     "name": "stdout",
     "output_type": "stream",
     "text": [
      "Requirement already satisfied: pandas in c:\\users\\rajsh\\anaconda3\\lib\\site-packages (2.2.2)\n",
      "Requirement already satisfied: numpy>=1.26.0 in c:\\users\\rajsh\\anaconda3\\lib\\site-packages (from pandas) (1.26.4)\n",
      "Requirement already satisfied: python-dateutil>=2.8.2 in c:\\users\\rajsh\\anaconda3\\lib\\site-packages (from pandas) (2.9.0.post0)\n",
      "Requirement already satisfied: pytz>=2020.1 in c:\\users\\rajsh\\anaconda3\\lib\\site-packages (from pandas) (2024.1)\n",
      "Requirement already satisfied: tzdata>=2022.7 in c:\\users\\rajsh\\anaconda3\\lib\\site-packages (from pandas) (2023.3)\n",
      "Requirement already satisfied: six>=1.5 in c:\\users\\rajsh\\anaconda3\\lib\\site-packages (from python-dateutil>=2.8.2->pandas) (1.16.0)\n",
      "Note: you may need to restart the kernel to use updated packages.\n"
     ]
    }
   ],
   "source": [
    "pip install pandas"
   ]
  },
  {
   "cell_type": "markdown",
   "id": "1c2c49d2-97a3-4e30-b561-95179aefdcf1",
   "metadata": {},
   "source": [
    "2: Import Pandas"
   ]
  },
  {
   "cell_type": "code",
   "execution_count": 13,
   "id": "cf95d962-be70-4e88-b0e8-e1459a974b9b",
   "metadata": {},
   "outputs": [],
   "source": [
    "import pandas as pd"
   ]
  },
  {
   "cell_type": "code",
   "execution_count": null,
   "id": "c236e3ec-c00e-4272-aa82-f30297c9c5ee",
   "metadata": {},
   "outputs": [],
   "source": [
    "# Sample CSV File\n",
    "name,age,city\n",
    "Alice,30,New York\n",
    "Bob,25,Los Angeles\n",
    "Charlie,35,Chicago"
   ]
  },
  {
   "cell_type": "markdown",
   "id": "a2f6b14d-ad08-4f13-a33d-6dedc652247f",
   "metadata": {},
   "source": [
    "3. Read a CSV File"
   ]
  },
  {
   "cell_type": "code",
   "execution_count": null,
   "id": "bc4fd013-7282-49b7-acdf-d0314b92f32a",
   "metadata": {},
   "outputs": [],
   "source": [
    "df = pd.read_csv('C:\\\\Users\\\\rajsh\\\\Desktop\\\\NCPL\\\\samplecsvdata.csv')"
   ]
  },
  {
   "cell_type": "markdown",
   "id": "58391617-aeb9-4a55-adc2-856b52bd54a1",
   "metadata": {},
   "source": [
    "1: Basic CSV Reading"
   ]
  },
  {
   "cell_type": "code",
   "execution_count": null,
   "id": "80578487-fe24-4426-be85-fc513c8579a8",
   "metadata": {},
   "outputs": [],
   "source": [
    "import pandas as pd\n",
    "\n",
    "# Read the CSV file into a DataFrame #df = pd.read_csv('C:\\\\Users\\\\rajsh\\\\Desktop\\\\NCPL\\\\samplecsvdata.csv')\n",
    "df = pd.read_csv('data.csv') #\n",
    "\n",
    "# Display the DataFrame\n",
    "print(df)"
   ]
  },
  {
   "cell_type": "markdown",
   "id": "d8b4df7b-4bd0-4c05-893e-dab08eb98de8",
   "metadata": {},
   "source": [
    "2: Displaying Data Types"
   ]
  },
  {
   "cell_type": "code",
   "execution_count": null,
   "id": "437a9f60-5d94-40c4-88ce-577193d16522",
   "metadata": {},
   "outputs": [],
   "source": [
    "print(df.dtypes)"
   ]
  },
  {
   "cell_type": "markdown",
   "id": "c8eb78b3-1d29-4807-8425-3024368f8c9f",
   "metadata": {},
   "source": [
    "4. Common Parameters for read_csv()"
   ]
  },
  {
   "cell_type": "code",
   "execution_count": null,
   "id": "c5819b2c-1744-4440-adf9-00eb97342a71",
   "metadata": {},
   "outputs": [],
   "source": [
    "# Read the CSV file into a DataFrame\n",
    "df = pd.read_csv(\n",
    "    'data.csv',\n",
    "    sep=',',  # Separator\n",
    "    header=0,  # Use the first row as the header\n",
    "    index_col=None,  # No specific index column\n",
    "    usecols=['name', 'age'],  # Read only the 'name' and 'age' columns\n",
    "    dtype={'age': int}  # Ensure 'age' is read as an integer\n",
    ")\n",
    "\n",
    "# Print the DataFrame\n",
    "print(df)"
   ]
  },
  {
   "cell_type": "markdown",
   "id": "3811cbdf-c73c-4c18-8e9f-72cac94eb30b",
   "metadata": {},
   "source": [
    "5. Handling Missing Values"
   ]
  },
  {
   "cell_type": "code",
   "execution_count": null,
   "id": "78bc19fa-0948-4ad3-ab05-198ce0534049",
   "metadata": {},
   "outputs": [],
   "source": [
    "# Sample CSV data with missing values\n",
    "csv_data_with_missing = \"\"\"name,age,city\n",
    "Alice,30,New York\n",
    "Bob,,Los Angeles\n",
    "Charlie,35,Chicago\n",
    "Diana,,Houston\n",
    "\"\"\"\n",
    "\n",
    "# Write the sample data to a CSV file\n",
    "with open('data_with_missing.csv', 'w') as f:\n",
    "    f.write(csv_data_with_missing)"
   ]
  },
  {
   "cell_type": "markdown",
   "id": "2061fe6f-e8ac-4d92-9427-67d124958ba9",
   "metadata": {},
   "source": [
    "# Explore different CSV reading options and parameters."
   ]
  },
  {
   "cell_type": "raw",
   "id": "95097bfa-f380-49b6-b05f-527cbd6c4d1c",
   "metadata": {},
   "source": [
    "# sep or delimiter: Specify the delimiter used in the CSV file. The default is a comma (,).\n",
    "df = pd.read_csv('file.csv', sep=';')  # For semicolon-delimited files\n",
    "\n",
    "# header: Specify which row to use as the column names. The default is 0 (the first row). Use None if there is no header.\n",
    "df = pd.read_csv('file.csv', header=None)  # Treat first row as data, not header\n",
    "\n",
    "# names: Use this parameter to set custom column names when the CSV file does not have a header. \n",
    "df = pd.read_csv('file.csv', names=['col1', 'col2', 'col3'])\n",
    "\n",
    "# index_col: Specify a column to use as the row labels of the DataFrame. Use None to not use any column as the index.\n",
    "df = pd.read_csv('file.csv', index_col=0)  # Use the first column as index\n",
    "\n",
    "# usecols: Specify a subset of columns to read. This can be a list of column names or their indices.\n",
    "df = pd.read_csv('file.csv', usecols=['col1', 'col3'])  # Only read specific columns\n",
    "\n",
    "# dtype: Specify the data types for the DataFrame columns.\n",
    "df = pd.read_csv('file.csv', dtype={'col1': int, 'col2': float})\n",
    "\n",
    "# skiprows: Skip a specified number of rows at the start of the file.\n",
    "df = pd.read_csv('file.csv', skiprows=2)  # Skip the first two rows\n",
    "\n",
    "# na_values: Specify additional strings to recognize as NA/NaN.\n",
    "df = pd.read_csv('file.csv', na_values=['NA', 'N/A', 'missing'])\n",
    "\n",
    "# fillna: You can fill missing values directly after reading.\n",
    "df = pd.read_csv('file.csv').fillna(0)  # Replace NaN with 0\n",
    "\n",
    "# parse_dates: Automatically parse dates. You can specify the column(s) to parse.\n",
    "df = pd.read_csv('file.csv', parse_dates=['date_column'])\n",
    "\n",
    "# low_memory: If the dataset is large, set this to False to read the entire file at once, which may help with type inference.\n",
    "df = pd.read_csv('file.csv', low_memory=False)\n",
    "\n",
    "# encoding: Specify the encoding to use for reading the file.\n",
    "df = pd.read_csv('file.csv', encoding='utf-8')  # Default is 'utf-8'"
   ]
  },
  {
   "cell_type": "markdown",
   "id": "22a9750e-8c46-40cf-9a88-ffb0bbeafea5",
   "metadata": {},
   "source": [
    "# Handle missing values and data cleaning"
   ]
  },
  {
   "cell_type": "markdown",
   "id": "d1c7b07e-c69c-4836-93b4-44bdc64b51b1",
   "metadata": {},
   "source": [
    "1. Detecting Missing Values"
   ]
  },
  {
   "cell_type": "code",
   "execution_count": 30,
   "id": "bdf86ea5-4168-424d-8575-7f2d15655b1e",
   "metadata": {},
   "outputs": [
    {
     "name": "stdout",
     "output_type": "stream",
     "text": [
      "    name    age   city\n",
      "0  False  False  False\n",
      "1  False   True  False\n",
      "2   True  False  False\n",
      "3  False  False   True\n"
     ]
    }
   ],
   "source": [
    "# Sample DataFrame\n",
    "data = {\n",
    "'name': ['Alice', 'Bob', None, 'Charlie'],\n",
    "'age': [30, None, 25, 35],\n",
    "'city': ['New York', 'Los Angeles', 'Chicago', None]\n",
    "}\n",
    "df = pd.DataFrame(data)\n",
    "# Check for missing values\n",
    "print(df.isnull())"
   ]
  },
  {
   "cell_type": "markdown",
   "id": "3bf95c0c-1a65-43d8-a6ae-b2c862f04381",
   "metadata": {},
   "source": [
    "2. Summarizing Missing Values"
   ]
  },
  {
   "cell_type": "code",
   "execution_count": 33,
   "id": "cdb94441-2e29-4b10-8248-d4eff49d0b7c",
   "metadata": {},
   "outputs": [
    {
     "name": "stdout",
     "output_type": "stream",
     "text": [
      "Missing Values Count:\n",
      " name    1\n",
      "age     1\n",
      "city    1\n",
      "dtype: int64\n"
     ]
    }
   ],
   "source": [
    "missing_count = df.isnull().sum()\n",
    "print(\"Missing Values Count:\\n\", missing_count)"
   ]
  },
  {
   "cell_type": "markdown",
   "id": "ee2f1973-6484-4386-80c2-487f1f604568",
   "metadata": {},
   "source": [
    "3. Dropping Missing Values"
   ]
  },
  {
   "cell_type": "code",
   "execution_count": 36,
   "id": "ebb5998e-578a-46f0-a96c-fef509afc4d1",
   "metadata": {},
   "outputs": [
    {
     "name": "stdout",
     "output_type": "stream",
     "text": [
      "    name   age      city\n",
      "0  Alice  30.0  New York\n"
     ]
    }
   ],
   "source": [
    "# Drop rows with any missing values\n",
    "df_cleaned = df.dropna()\n",
    "print(df_cleaned)"
   ]
  },
  {
   "cell_type": "markdown",
   "id": "b2fe6599-75c8-4ae0-9998-da85bd24b78b",
   "metadata": {},
   "source": [
    "4. Filling Missing Values"
   ]
  },
  {
   "cell_type": "code",
   "execution_count": 39,
   "id": "8468ae49-4490-4f87-819d-be1936e69aa5",
   "metadata": {},
   "outputs": [
    {
     "name": "stdout",
     "output_type": "stream",
     "text": [
      "      name   age         city\n",
      "0    Alice  30.0     New York\n",
      "1      Bob   0.0  Los Angeles\n",
      "2  Unknown  25.0      Chicago\n",
      "3  Charlie  35.0      Unknown\n"
     ]
    }
   ],
   "source": [
    "df_filled = df.fillna({'name': 'Unknown', 'age': 0, 'city': 'Unknown'})\n",
    "print(df_filled)"
   ]
  },
  {
   "cell_type": "markdown",
   "id": "d1be4e04-c6fb-4e0a-9fe2-78c05ced254d",
   "metadata": {},
   "source": [
    "5. Removing Duplicates"
   ]
  },
  {
   "cell_type": "code",
   "execution_count": 42,
   "id": "507f3192-1157-4575-ad60-2c3770f0b7be",
   "metadata": {},
   "outputs": [
    {
     "name": "stdout",
     "output_type": "stream",
     "text": [
      "      name  age\n",
      "0    Alice   30\n",
      "1      Bob   25\n",
      "3  Charlie   35\n"
     ]
    }
   ],
   "source": [
    "# Sample DataFrame with duplicates\n",
    "data_with_duplicates = {\n",
    "'name': ['Alice', 'Bob', 'Alice', 'Charlie'],\n",
    "'age': [30, 25, 30, 35]\n",
    "}\n",
    "df_duplicates = pd.DataFrame(data_with_duplicates)\n",
    "# Remove duplicates\n",
    "df_no_duplicates = df_duplicates.drop_duplicates()\n",
    "print(df_no_duplicates)"
   ]
  },
  {
   "cell_type": "markdown",
   "id": "a00cd400-1a8b-4e64-8301-20b8f2099ca8",
   "metadata": {},
   "source": [
    "6. Renaming Columns"
   ]
  },
  {
   "cell_type": "code",
   "execution_count": 45,
   "id": "fc0b9e02-0f58-4f73-8c9b-0a42b76d863a",
   "metadata": {},
   "outputs": [
    {
     "name": "stdout",
     "output_type": "stream",
     "text": [
      "      Name   Age         city\n",
      "0    Alice  30.0     New York\n",
      "1      Bob   NaN  Los Angeles\n",
      "2     None  25.0      Chicago\n",
      "3  Charlie  35.0         None\n"
     ]
    }
   ],
   "source": [
    "df_renamed = df.rename(columns={'name': 'Name', 'age': 'Age'})\n",
    "print(df_renamed)"
   ]
  },
  {
   "cell_type": "code",
   "execution_count": null,
   "id": "05dd4ffc-f4e7-4ae8-95fb-936f95d2dddf",
   "metadata": {},
   "outputs": [],
   "source": []
  }
 ],
 "metadata": {
  "kernelspec": {
   "display_name": "Python 3 (ipykernel)",
   "language": "python",
   "name": "python3"
  },
  "language_info": {
   "codemirror_mode": {
    "name": "ipython",
    "version": 3
   },
   "file_extension": ".py",
   "mimetype": "text/x-python",
   "name": "python",
   "nbconvert_exporter": "python",
   "pygments_lexer": "ipython3",
   "version": "3.12.4"
  }
 },
 "nbformat": 4,
 "nbformat_minor": 5
}
