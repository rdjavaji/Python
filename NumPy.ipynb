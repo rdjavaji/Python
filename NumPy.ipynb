{
 "cells": [
  {
   "cell_type": "markdown",
   "id": "07acf08d-7da7-4d3f-bc77-9ac439c7c3c4",
   "metadata": {},
   "source": [
    "# NumPy"
   ]
  },
  {
   "cell_type": "markdown",
   "id": "f2029feb-16c9-4f8b-8ed6-adb091ffe752",
   "metadata": {},
   "source": [
    "# Create different types of NumPy arrays (1D, 2D, 3D)."
   ]
  },
  {
   "cell_type": "markdown",
   "id": "deff1e26-f5ae-4187-ae5c-741a9ede5840",
   "metadata": {},
   "source": [
    "1. Importing NumPy"
   ]
  },
  {
   "cell_type": "code",
   "execution_count": 7,
   "id": "20eb2264-9d3b-444c-a390-be3fd1b9303d",
   "metadata": {},
   "outputs": [],
   "source": [
    "import numpy as np"
   ]
  },
  {
   "cell_type": "markdown",
   "id": "4a2dd34a-e5fb-4366-8e27-8801cb370b05",
   "metadata": {},
   "source": [
    "2. Creating a 1D Array"
   ]
  },
  {
   "cell_type": "code",
   "execution_count": 10,
   "id": "fbf6bd61-de31-4a85-adf7-dc1a3acd5409",
   "metadata": {},
   "outputs": [
    {
     "name": "stdout",
     "output_type": "stream",
     "text": [
      "1D Array:\n",
      "[1 2 3 4 5]\n"
     ]
    }
   ],
   "source": [
    "import numpy as np  # Import the NumPy library\n",
    "\n",
    "# Creating a 1D NumPy array\n",
    "array_1d = np.array([1, 2, 3, 4, 5])\n",
    "\n",
    "# Printing the 1D array\n",
    "print(\"1D Array:\")\n",
    "print(array_1d)"
   ]
  },
  {
   "cell_type": "markdown",
   "id": "89e120cf-aeb1-4014-99b6-5c0fd9b99a23",
   "metadata": {},
   "source": [
    "3. Creating a 2D Array"
   ]
  },
  {
   "cell_type": "code",
   "execution_count": 20,
   "id": "a24968ff-144c-4f1b-ae83-37d89dbb32d5",
   "metadata": {},
   "outputs": [
    {
     "name": "stdout",
     "output_type": "stream",
     "text": [
      "\n",
      "2D Array:\n",
      "[[1 2 3]\n",
      " [4 5 6]]\n"
     ]
    }
   ],
   "source": [
    "# Creating a 2D NumPy array\n",
    "array_2d = np.array([[1, 2, 3], [4, 5, 6]])\n",
    "\n",
    "# Printing the 2D array\n",
    "print(\"\\n2D Array:\")\n",
    "print(array_2d)"
   ]
  },
  {
   "cell_type": "markdown",
   "id": "df8077a3-966f-4518-a6b0-daa9594b002e",
   "metadata": {},
   "source": [
    "4. Creating a 3D Array"
   ]
  },
  {
   "cell_type": "code",
   "execution_count": 18,
   "id": "cd72f076-fc66-468a-be13-d52c027525c2",
   "metadata": {},
   "outputs": [
    {
     "name": "stdout",
     "output_type": "stream",
     "text": [
      "\n",
      "3D Array:\n",
      "[[[1 2]\n",
      "  [3 4]]\n",
      "\n",
      " [[5 6]\n",
      "  [7 8]]]\n"
     ]
    }
   ],
   "source": [
    "# Creating a 3D NumPy array\n",
    "array_3d = np.array([[[1, 2], [3, 4]], [[5, 6], [7, 8]]])\n",
    "\n",
    "# Printing the 3D array\n",
    "print(\"\\n3D Array:\")\n",
    "print(array_3d)"
   ]
  },
  {
   "cell_type": "markdown",
   "id": "41bb3bcb-40e3-4191-b1a6-9fb35fdf19b1",
   "metadata": {},
   "source": [
    "5. Creating Arrays with Built-in Functions"
   ]
  },
  {
   "cell_type": "code",
   "execution_count": 23,
   "id": "5ba2c84c-6f0a-436e-a4ea-21f2fe2931fa",
   "metadata": {},
   "outputs": [
    {
     "name": "stdout",
     "output_type": "stream",
     "text": [
      "\n",
      "1D Array with arange:\n",
      "[0 1 2 3 4 5 6 7 8 9]\n"
     ]
    }
   ],
   "source": [
    "# Creating a 1D Array with arange()\n",
    "array_1d_range = np.arange(10)\n",
    "print(\"\\n1D Array with arange:\")\n",
    "print(array_1d_range)"
   ]
  },
  {
   "cell_type": "code",
   "execution_count": 25,
   "id": "91ea9d8f-8f5b-4f6f-8607-a2e228454cb5",
   "metadata": {},
   "outputs": [
    {
     "name": "stdout",
     "output_type": "stream",
     "text": [
      "\n",
      "2D Array of zeros:\n",
      "[[0. 0. 0. 0.]\n",
      " [0. 0. 0. 0.]\n",
      " [0. 0. 0. 0.]]\n"
     ]
    }
   ],
   "source": [
    "# Creating a 2D Array with zeros()\n",
    "array_2d_zeros = np.zeros((3, 4)) # 3 rows and 4 columns\n",
    "print(\"\\n2D Array of zeros:\")\n",
    "print(array_2d_zeros)"
   ]
  },
  {
   "cell_type": "code",
   "execution_count": 27,
   "id": "c8b7b6c4-aed6-46f9-9c3d-56083a209aac",
   "metadata": {},
   "outputs": [
    {
     "name": "stdout",
     "output_type": "stream",
     "text": [
      "\n",
      "3D Array of ones:\n",
      "[[[1. 1. 1. 1.]\n",
      "  [1. 1. 1. 1.]\n",
      "  [1. 1. 1. 1.]]\n",
      "\n",
      " [[1. 1. 1. 1.]\n",
      "  [1. 1. 1. 1.]\n",
      "  [1. 1. 1. 1.]]]\n"
     ]
    }
   ],
   "source": [
    "# Creating a 3D Array with ones()\n",
    "array_3d_ones = np.ones((2, 3, 4))\n",
    "print(\"\\n3D Array of ones:\")\n",
    "print(array_3d_ones)"
   ]
  },
  {
   "cell_type": "markdown",
   "id": "a2261d05-327c-4917-afd0-fc7ba7ed90e9",
   "metadata": {},
   "source": [
    "# Perform basic arithmetic operations on arrays."
   ]
  },
  {
   "cell_type": "markdown",
   "id": "d9809520-127b-4190-bcd7-bfeadcfb7ce3",
   "metadata": {},
   "source": [
    "1. Creating Sample Arrays"
   ]
  },
  {
   "cell_type": "code",
   "execution_count": 35,
   "id": "34e7d410-efbc-404c-951f-e1252f7832ad",
   "metadata": {},
   "outputs": [
    {
     "name": "stdout",
     "output_type": "stream",
     "text": [
      "Array A:\n",
      "[1 2 3 4 5]\n",
      "\n",
      "Array B:\n",
      "[10 20 30 40 50]\n"
     ]
    }
   ],
   "source": [
    "array_a = np.array([1, 2, 3, 4, 5])\n",
    "array_b = np.array([10, 20, 30, 40, 50])\n",
    "\n",
    "# Printing the arrays\n",
    "print(\"Array A:\")\n",
    "print(array_a)\n",
    "\n",
    "print(\"\\nArray B:\")\n",
    "print(array_b)"
   ]
  },
  {
   "cell_type": "markdown",
   "id": "03dcc7ed-4118-46f4-b800-e927401a11ee",
   "metadata": {},
   "source": [
    "2. Basic Arithmetic Operations"
   ]
  },
  {
   "cell_type": "code",
   "execution_count": 38,
   "id": "5f967b74-285c-4c1b-bc14-f9991b7a2ecb",
   "metadata": {},
   "outputs": [
    {
     "name": "stdout",
     "output_type": "stream",
     "text": [
      "Addition:\n",
      "[11 22 33 44 55]\n"
     ]
    }
   ],
   "source": [
    "# Addition\n",
    "addition = array_a + array_b\n",
    "print(\"Addition:\")\n",
    "print(addition)"
   ]
  },
  {
   "cell_type": "code",
   "execution_count": 40,
   "id": "78207946-7676-4e41-bbea-74fa29ae1ec7",
   "metadata": {},
   "outputs": [
    {
     "name": "stdout",
     "output_type": "stream",
     "text": [
      "\n",
      "Subtraction:\n",
      "[ 9 18 27 36 45]\n"
     ]
    }
   ],
   "source": [
    "# Subtraction\n",
    "subtraction = array_b - array_a\n",
    "print(\"\\nSubtraction:\")\n",
    "print(subtraction)"
   ]
  },
  {
   "cell_type": "code",
   "execution_count": 42,
   "id": "6a86df8c-adad-4316-9015-7b419c5e02dc",
   "metadata": {},
   "outputs": [
    {
     "name": "stdout",
     "output_type": "stream",
     "text": [
      "\n",
      "Multiplication:\n",
      "[ 10  40  90 160 250]\n"
     ]
    }
   ],
   "source": [
    "# Multiplication\n",
    "multiplication = array_a * array_b\n",
    "print(\"\\nMultiplication:\")\n",
    "print(multiplication)"
   ]
  },
  {
   "cell_type": "code",
   "execution_count": 44,
   "id": "39e99da8-faff-424a-973f-b037d7d19c0f",
   "metadata": {},
   "outputs": [
    {
     "name": "stdout",
     "output_type": "stream",
     "text": [
      "\n",
      "Division:\n",
      "[10. 10. 10. 10. 10.]\n"
     ]
    }
   ],
   "source": [
    "# Division\n",
    "division = array_b / array_a\n",
    "print(\"\\nDivision:\")\n",
    "print(division)"
   ]
  },
  {
   "cell_type": "markdown",
   "id": "fc765911-c5eb-4bf0-8038-a0e344c8ca0d",
   "metadata": {},
   "source": [
    "3. Operations on 2D Arrays"
   ]
  },
  {
   "cell_type": "code",
   "execution_count": 51,
   "id": "e3a5c7d0-e2cc-4106-a92a-a502c45081fe",
   "metadata": {},
   "outputs": [
    {
     "name": "stdout",
     "output_type": "stream",
     "text": [
      "Array A:\n",
      "[1 2 3 4 5]\n",
      "\n",
      "Array B:\n",
      "[10 20 30 40 50]\n"
     ]
    }
   ],
   "source": [
    "# create\n",
    "array_2d_a = np.array([[1, 2], [3, 4]])\n",
    "array_2d_b = np.array([[10, 20], [30, 40]])\n",
    "\n",
    "# Printing the arrays\n",
    "print(\"Array A:\")\n",
    "print(array_a)\n",
    "\n",
    "print(\"\\nArray B:\")\n",
    "print(array_b)"
   ]
  },
  {
   "cell_type": "code",
   "execution_count": 53,
   "id": "96d8040b-f90e-4493-9727-16ea7ea1756a",
   "metadata": {},
   "outputs": [
    {
     "name": "stdout",
     "output_type": "stream",
     "text": [
      "\n",
      "2D Addition:\n",
      "[[11 22]\n",
      " [33 44]]\n"
     ]
    }
   ],
   "source": [
    "# Addition\n",
    "addition_2d = array_2d_a + array_2d_b\n",
    "print(\"\\n2D Addition:\")\n",
    "print(addition_2d)"
   ]
  },
  {
   "cell_type": "code",
   "execution_count": 55,
   "id": "a0f308f6-265f-4420-92b4-cb5e7ee483bc",
   "metadata": {},
   "outputs": [
    {
     "name": "stdout",
     "output_type": "stream",
     "text": [
      "\n",
      "2D Subtraction:\n",
      "[[ 9 18]\n",
      " [27 36]]\n"
     ]
    }
   ],
   "source": [
    "# Subtraction\n",
    "subtraction_2d = array_2d_b - array_2d_a\n",
    "print(\"\\n2D Subtraction:\")\n",
    "print(subtraction_2d)"
   ]
  },
  {
   "cell_type": "code",
   "execution_count": 57,
   "id": "8fbb8928-f3a2-44ee-9069-d2db03357735",
   "metadata": {},
   "outputs": [
    {
     "name": "stdout",
     "output_type": "stream",
     "text": [
      "\n",
      "2D Multiplication:\n",
      "[[ 10  40]\n",
      " [ 90 160]]\n"
     ]
    }
   ],
   "source": [
    "# Multiplication\n",
    "multiplication_2d = array_2d_a * array_2d_b\n",
    "print(\"\\n2D Multiplication:\")\n",
    "print(multiplication_2d)"
   ]
  },
  {
   "cell_type": "code",
   "execution_count": 59,
   "id": "1358ac03-a8cd-4d5b-b264-7aa320264bd5",
   "metadata": {},
   "outputs": [
    {
     "name": "stdout",
     "output_type": "stream",
     "text": [
      "\n",
      "2D Division:\n",
      "[[10. 10.]\n",
      " [10. 10.]]\n"
     ]
    }
   ],
   "source": [
    "# Division\n",
    "division_2d = array_2d_b / array_2d_a\n",
    "print(\"\\n2D Division:\")\n",
    "print(division_2d)"
   ]
  },
  {
   "cell_type": "markdown",
   "id": "ebb55860-5b62-46e2-800b-08d9bb29783f",
   "metadata": {},
   "source": [
    "4. Scalar Operations"
   ]
  },
  {
   "cell_type": "code",
   "execution_count": 61,
   "id": "9fb6cb43-de2d-46ee-82f7-3d480d35e165",
   "metadata": {},
   "outputs": [
    {
     "name": "stdout",
     "output_type": "stream",
     "text": [
      "\n",
      "Scalar Addition:\n",
      "[ 6  7  8  9 10]\n",
      "\n",
      "Scalar Multiplication:\n",
      "[[2 4]\n",
      " [6 8]]\n"
     ]
    }
   ],
   "source": [
    "# Scalar addition\n",
    "scalar_add = array_a + 5\n",
    "print(\"\\nScalar Addition:\")\n",
    "print(scalar_add) # Output: [ 6 7 8 9 10]\n",
    "\n",
    "# Scalar multiplication\n",
    "scalar_multiply = array_2d_a * 2\n",
    "print(\"\\nScalar Multiplication:\")\n",
    "print(scalar_multiply)"
   ]
  },
  {
   "cell_type": "markdown",
   "id": "a654dce0-d1fa-4159-bbe3-533b200946ee",
   "metadata": {},
   "source": [
    "# Use indexing and slicing to access elements."
   ]
  },
  {
   "cell_type": "markdown",
   "id": "8c56cbee-58ec-49d8-9525-ed649c6bcd69",
   "metadata": {},
   "source": [
    "1. Indexing in 1D Arrays"
   ]
  },
  {
   "cell_type": "code",
   "execution_count": 67,
   "id": "cc664733-ca72-4523-a4b0-ed6bfbdf5249",
   "metadata": {},
   "outputs": [
    {
     "name": "stdout",
     "output_type": "stream",
     "text": [
      "\n",
      "First Element: 10\n",
      "Last Element: 50\n"
     ]
    }
   ],
   "source": [
    "# Creating a sample Array\n",
    "array_1d = np.array([10, 20, 30, 40, 50])\n",
    "\n",
    "first_element = array_1d[0]\n",
    "print(\"\\nFirst Element:\", first_element)\n",
    "last_element = array_1d[-1]\n",
    "print(\"Last Element:\", last_element)"
   ]
  },
  {
   "cell_type": "markdown",
   "id": "165503d8-4839-4043-aad6-2c68cb542b09",
   "metadata": {},
   "source": [
    "2. Slicing in 1D Arrays"
   ]
  },
  {
   "cell_type": "code",
   "execution_count": 70,
   "id": "1f6902c2-8d80-459d-92a2-6e9056b7e8b8",
   "metadata": {},
   "outputs": [
    {
     "name": "stdout",
     "output_type": "stream",
     "text": [
      "\n",
      "Sliced Array (from index 1 to 3): [20 30 40]\n",
      "Sliced Array with Step 2: [10 30 50]\n"
     ]
    }
   ],
   "source": [
    "# Slicing from index 1 to 3 (exclusive of 3)\n",
    "slice_1d = array_1d[1:4]\n",
    "print(\"\\nSliced Array (from index 1 to 3):\", slice_1d)\n",
    "\n",
    "# Slicing with step\n",
    "slice_step = array_1d[::2]\n",
    "print(\"Sliced Array with Step 2:\", slice_step)"
   ]
  },
  {
   "cell_type": "markdown",
   "id": "8b3d0db6-463d-4273-afda-f7794277e313",
   "metadata": {},
   "source": [
    "3. Indexing in 2D Arrays"
   ]
  },
  {
   "cell_type": "code",
   "execution_count": 72,
   "id": "8e82f943-de83-4107-bcac-cbe0e41f3641",
   "metadata": {},
   "outputs": [
    {
     "name": "stdout",
     "output_type": "stream",
     "text": [
      "\n",
      "Element at (1, 1): 5\n",
      "Element at (2, 0): 7\n"
     ]
    }
   ],
   "source": [
    "# Creating a 2D Array\n",
    "array_2d = np.array([[1, 2, 3], [4, 5, 6], [7, 8, 9]])\n",
    "\n",
    "# Accessing the element in the second row and second column\n",
    "element_2d = array_2d[1, 1]\n",
    "print(\"\\nElement at (1, 1):\", element_2d)\n",
    "\n",
    "# Accessing the element in the third row and first column\n",
    "element_3rd_row = array_2d[2, 0]\n",
    "print(\"Element at (2, 0):\", element_3rd_row)"
   ]
  },
  {
   "cell_type": "markdown",
   "id": "f98cda66-ac6a-4ca6-b600-4ba4a09f9d6c",
   "metadata": {},
   "source": [
    "4. Slicing in 2D Array"
   ]
  },
  {
   "cell_type": "code",
   "execution_count": 85,
   "id": "79a8586b-02f5-4514-9e5b-2955114c981d",
   "metadata": {},
   "outputs": [
    {
     "name": "stdout",
     "output_type": "stream",
     "text": [
      "\n",
      "Sliced Rows (first two):\n",
      "[[1 2 3]\n",
      " [4 5 6]]\n"
     ]
    }
   ],
   "source": [
    "# Slicing the first two rows of the 2D array\n",
    "slice_rows = array_2d[0:2]\n",
    "\n",
    "# Printing the sliced rows\n",
    "print(\"\\nSliced Rows (first two):\")\n",
    "print(slice_rows)"
   ]
  },
  {
   "cell_type": "code",
   "execution_count": 81,
   "id": "6512722e-e615-4576-8e9d-bc70e1822301",
   "metadata": {},
   "outputs": [
    {
     "name": "stdout",
     "output_type": "stream",
     "text": [
      "\n",
      "Sliced Column (first column): [1 4 7]\n"
     ]
    }
   ],
   "source": [
    "# Slicing the first column\n",
    "slice_column = array_2d[:, 0]\n",
    "\n",
    "# Printing the sliced column\n",
    "print(\"\\nSliced Column (first column):\", slice_column)"
   ]
  },
  {
   "cell_type": "code",
   "execution_count": 83,
   "id": "74a396e3-615d-4a33-a169-8adfb3aa5c55",
   "metadata": {},
   "outputs": [
    {
     "name": "stdout",
     "output_type": "stream",
     "text": [
      "\n",
      "Sliced Submatrix (first two rows and columns):\n",
      "[[1 2]\n",
      " [4 5]]\n"
     ]
    }
   ],
   "source": [
    "# Slicing a Submatrix\n",
    "submatrix = array_2d[0:2, 0:2]\n",
    "\n",
    "# Printing the sliced Submatrix\n",
    "print(\"\\nSliced Submatrix (first two rows and columns):\")\n",
    "print(submatrix)"
   ]
  },
  {
   "cell_type": "markdown",
   "id": "ed1012fc-91d8-4c71-a580-ba53aa05c09c",
   "metadata": {},
   "source": [
    "# Explore array manipulation functions (reshape, transpose, concatenate)."
   ]
  },
  {
   "cell_type": "markdown",
   "id": "ef92cbd2-d334-46d6-8acc-596504fd23b6",
   "metadata": {},
   "source": [
    "1. Reshape"
   ]
  },
  {
   "cell_type": "code",
   "execution_count": 88,
   "id": "881a5107-cd91-4c2b-918e-a7f93b2938c1",
   "metadata": {},
   "outputs": [
    {
     "name": "stdout",
     "output_type": "stream",
     "text": [
      "\n",
      "Reshaped to 2D Array (2x3):\n",
      "[[1 2 3]\n",
      " [4 5 6]]\n"
     ]
    }
   ],
   "source": [
    "# Creating a Sample Array\n",
    "array_1d = np.array([1, 2, 3, 4, 5, 6])\n",
    "\n",
    "#Reshape to 2D\n",
    "array_2d = array_1d.reshape((2, 3))\n",
    "print(\"\\nReshaped to 2D Array (2x3):\")\n",
    "print(array_2d)"
   ]
  },
  {
   "cell_type": "code",
   "execution_count": 93,
   "id": "3bfef9f4-1807-4579-b09d-c67631d07200",
   "metadata": {},
   "outputs": [
    {
     "name": "stdout",
     "output_type": "stream",
     "text": [
      "\n",
      "Reshaped to 3D Array (1x2x3):\n",
      "[[[1 2 3]\n",
      "  [4 5 6]]]\n"
     ]
    }
   ],
   "source": [
    "# Reshape to 3D\n",
    "array_3d = array_1d.reshape((1, 2, 3))\n",
    "print(\"\\nReshaped to 3D Array (1x2x3):\")\n",
    "print(array_3d)"
   ]
  },
  {
   "cell_type": "markdown",
   "id": "c2946779-2c55-4b9d-8e85-099c96b43df4",
   "metadata": {},
   "source": [
    "2. Transpose"
   ]
  },
  {
   "cell_type": "code",
   "execution_count": 96,
   "id": "6a010877-6ab7-43e6-84b0-4c86d641616f",
   "metadata": {},
   "outputs": [
    {
     "name": "stdout",
     "output_type": "stream",
     "text": [
      "\n",
      "Transposed 2D Array:\n",
      "[[1 4]\n",
      " [2 5]\n",
      " [3 6]]\n"
     ]
    }
   ],
   "source": [
    "# Creating a 2D NumPy array\n",
    "array_2d = np.array([[1, 2, 3], [4, 5, 6]])\n",
    "\n",
    "# Transposing the 2D array\n",
    "transposed_array = array_2d.T\n",
    "\n",
    "# Printing the transposed 2D array\n",
    "print(\"\\nTransposed 2D Array:\")\n",
    "print(transposed_array)"
   ]
  },
  {
   "cell_type": "code",
   "execution_count": 98,
   "id": "8828610c-038c-49b6-9dac-d73b636ca5c3",
   "metadata": {},
   "outputs": [
    {
     "name": "stdout",
     "output_type": "stream",
     "text": [
      "Original 3D Array:\n",
      "[[[1 2]\n",
      "  [3 4]]\n",
      "\n",
      " [[5 6]\n",
      "  [7 8]]]\n",
      "\n",
      "Transposed 3D Array (axes reordered):\n",
      "[[[1 2]\n",
      "  [5 6]]\n",
      "\n",
      " [[3 4]\n",
      "  [7 8]]]\n"
     ]
    }
   ],
   "source": [
    "# Creating a 3D NumPy array\n",
    "array_3d = np.array([[[1, 2], [3, 4]], \n",
    "                      [[5, 6], [7, 8]]])\n",
    "\n",
    "# Printing the original 3D array\n",
    "print(\"Original 3D Array:\")\n",
    "print(array_3d)\n",
    "\n",
    "# Transposing the 3D array\n",
    "transposed_3d = np.transpose(array_3d, axes=(1, 0, 2))  # Change the order of axes\n",
    "\n",
    "# Printing the transposed 3D array\n",
    "print(\"\\nTransposed 3D Array (axes reordered):\")\n",
    "print(transposed_3d)"
   ]
  },
  {
   "cell_type": "markdown",
   "id": "7a8227bb-4ce2-47c6-a413-1d5eee05263b",
   "metadata": {},
   "source": [
    "3. Concatenate"
   ]
  },
  {
   "cell_type": "code",
   "execution_count": 101,
   "id": "f418f709-a820-439b-b5c0-8f8b1f9da74b",
   "metadata": {},
   "outputs": [
    {
     "name": "stdout",
     "output_type": "stream",
     "text": [
      "\n",
      "Concatenated 1D Array:\n",
      "[1 2 3 4 5 6]\n"
     ]
    }
   ],
   "source": [
    "# Concatenate 1D Arrays\n",
    "array_a = np.array([1, 2, 3])\n",
    "array_b = np.array([4, 5, 6])\n",
    "\n",
    "# Concatenating along the first axis (default)\n",
    "concatenated_1d = np.concatenate((array_a, array_b))\n",
    "print(\"\\nConcatenated 1D Array:\")\n",
    "print(concatenated_1d)"
   ]
  },
  {
   "cell_type": "code",
   "execution_count": 106,
   "id": "32146e6a-c01a-4cfa-9a23-4d71dbaff928",
   "metadata": {},
   "outputs": [
    {
     "name": "stdout",
     "output_type": "stream",
     "text": [
      "\n",
      "Concatenated 2D Array (along rows):\n",
      "[[ 1  2  3]\n",
      " [ 4  5  6]\n",
      " [ 7  8  9]\n",
      " [10 11 12]]\n",
      "\n",
      "Concatenated 2D Array (along columns):\n",
      "[[ 1  2  3  7  8  9]\n",
      " [ 4  5  6 10 11 12]]\n"
     ]
    }
   ],
   "source": [
    "# Creating two 2D arrays\n",
    "array_2d_a = np.array([[1, 2, 3], [4, 5, 6]])\n",
    "array_2d_b = np.array([[7, 8, 9], [10, 11, 12]])\n",
    "\n",
    "# Concatenating along rows (axis 0)\n",
    "concatenated_2d_rows = np.concatenate((array_2d_a, array_2d_b), axis=0)\n",
    "print(\"\\nConcatenated 2D Array (along rows):\")\n",
    "print(concatenated_2d_rows)\n",
    "\n",
    "# Concatenating along columns (axis 1)\n",
    "concatenated_2d_cols = np.concatenate((array_2d_a, array_2d_b), axis=1)\n",
    "print(\"\\nConcatenated 2D Array (along columns):\")\n",
    "print(concatenated_2d_cols)"
   ]
  },
  {
   "cell_type": "markdown",
   "id": "452d38c0-e168-4229-b3f7-786682dd6148",
   "metadata": {},
   "source": [
    "# Create and use NumPy random number generators."
   ]
  },
  {
   "cell_type": "markdown",
   "id": "613aa85e-9783-495a-95c9-1a3acf796f05",
   "metadata": {},
   "source": [
    "1. Creating Random Number Generators"
   ]
  },
  {
   "cell_type": "code",
   "execution_count": 109,
   "id": "017c6106-635a-47c4-89d1-74b6f33b4f1b",
   "metadata": {},
   "outputs": [],
   "source": [
    "rng = np.random.default_rng()"
   ]
  },
  {
   "cell_type": "markdown",
   "id": "aa149da0-79ee-4e94-a992-0eaa87777960",
   "metadata": {},
   "source": [
    "2. Generating Random Numbers"
   ]
  },
  {
   "cell_type": "code",
   "execution_count": 112,
   "id": "8541650a-212f-4dc8-af5c-96e1e767800f",
   "metadata": {},
   "outputs": [
    {
     "name": "stdout",
     "output_type": "stream",
     "text": [
      "Random Floats:\n",
      "[0.68978903 0.47509682 0.6658086  0.03225646 0.85361639]\n"
     ]
    }
   ],
   "source": [
    "# Generating 5 random floats\n",
    "random_floats = rng.random(5)\n",
    "\n",
    "print(\"Random Floats:\")\n",
    "print(random_floats)"
   ]
  },
  {
   "cell_type": "code",
   "execution_count": 114,
   "id": "71a2bf2e-9059-411f-be4c-cf6efde787b6",
   "metadata": {},
   "outputs": [
    {
     "name": "stdout",
     "output_type": "stream",
     "text": [
      "\n",
      "Random Integers:\n",
      "[9 1 3 4 4]\n"
     ]
    }
   ],
   "source": [
    "# Generating 5 random integers between 0 and 10 (exclusive)\n",
    "random_integers = rng.integers(low=0, high=10, size=5)\n",
    "\n",
    "print(\"\\nRandom Integers:\")\n",
    "print(random_integers)"
   ]
  },
  {
   "cell_type": "markdown",
   "id": "1866a21f-667f-4037-a6ed-481818dde64c",
   "metadata": {},
   "source": [
    "3. Generating Random Samples from a Normal Distribution"
   ]
  },
  {
   "cell_type": "code",
   "execution_count": 124,
   "id": "a793fb91-bab1-4119-bce7-1931bbb08461",
   "metadata": {},
   "outputs": [
    {
     "name": "stdout",
     "output_type": "stream",
     "text": [
      "\n",
      "Random Samples from Normal Distribution:\n",
      "[0.53029107 0.54785792 0.7279842  1.00121169 0.15637181]\n"
     ]
    }
   ],
   "source": [
    "# Create a random number generator\n",
    "rng = np.random.default_rng()\n",
    "\n",
    "# Generate random samples from a normal distribution\n",
    "normal_samples = rng.normal(loc=0.0, scale=1.0, size=5)\n",
    "\n",
    "# Printing the random samples\n",
    "print(\"\\nRandom Samples from Normal Distribution:\")\n",
    "print(normal_samples)"
   ]
  },
  {
   "cell_type": "markdown",
   "id": "3d5173eb-7539-42f7-88ee-1d576724e6b7",
   "metadata": {},
   "source": [
    "4. Generating Random Samples from a Uniform Distribution"
   ]
  },
  {
   "cell_type": "code",
   "execution_count": 122,
   "id": "f221778d-60bf-4342-9483-f5099c653ab9",
   "metadata": {},
   "outputs": [
    {
     "name": "stdout",
     "output_type": "stream",
     "text": [
      "\n",
      "Random Samples from Uniform Distribution:\n",
      "[9.69294676 6.43748378 1.20964323 5.50671193 1.77677182]\n"
     ]
    }
   ],
   "source": [
    "# Create a random number generator\n",
    "rng = np.random.default_rng()\n",
    "\n",
    "# Generate random samples from a uniform distribution\n",
    "uniform_samples = rng.uniform(low=1.0, high=10.0, size=5)\n",
    "\n",
    "# Printing the random samples\n",
    "print(\"\\nRandom Samples from Uniform Distribution:\")\n",
    "print(uniform_samples)"
   ]
  },
  {
   "cell_type": "code",
   "execution_count": null,
   "id": "d6e3ca4d-1a53-4858-afbf-7fce4c1e342f",
   "metadata": {},
   "outputs": [],
   "source": []
  }
 ],
 "metadata": {
  "kernelspec": {
   "display_name": "Python 3 (ipykernel)",
   "language": "python",
   "name": "python3"
  },
  "language_info": {
   "codemirror_mode": {
    "name": "ipython",
    "version": 3
   },
   "file_extension": ".py",
   "mimetype": "text/x-python",
   "name": "python",
   "nbconvert_exporter": "python",
   "pygments_lexer": "ipython3",
   "version": "3.12.4"
  }
 },
 "nbformat": 4,
 "nbformat_minor": 5
}
