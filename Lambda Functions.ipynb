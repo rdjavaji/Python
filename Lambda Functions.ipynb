{
 "cells": [
  {
   "cell_type": "markdown",
   "id": "d6948796-910d-42be-8712-9403a9278c78",
   "metadata": {},
   "source": [
    "# Lambda Functions"
   ]
  },
  {
   "cell_type": "markdown",
   "id": "dc5ebd58-79de-45e0-82f3-294701632892",
   "metadata": {},
   "source": [
    "# Create simple lambda functions for various operations."
   ]
  },
  {
   "cell_type": "markdown",
   "id": "95e14fc0-68fb-4e4a-9889-61d85360afe1",
   "metadata": {},
   "source": [
    "1. Basic Arithmetic Operations"
   ]
  },
  {
   "cell_type": "code",
   "execution_count": 5,
   "id": "823be256-4359-4f41-80fd-724c185a0739",
   "metadata": {},
   "outputs": [
    {
     "name": "stdout",
     "output_type": "stream",
     "text": [
      "8\n"
     ]
    }
   ],
   "source": [
    "add = lambda x, y: x + y\n",
    "print(add(5, 3))"
   ]
  },
  {
   "cell_type": "code",
   "execution_count": 7,
   "id": "d3e7c169-cbfb-47ef-968b-7218179243c2",
   "metadata": {},
   "outputs": [
    {
     "name": "stdout",
     "output_type": "stream",
     "text": [
      "6\n"
     ]
    }
   ],
   "source": [
    "subtract = lambda x, y: x - y\n",
    "print(subtract(10, 4))"
   ]
  },
  {
   "cell_type": "code",
   "execution_count": 9,
   "id": "66b7786c-f346-42b0-ae7c-ed4b7f092d6e",
   "metadata": {},
   "outputs": [
    {
     "name": "stdout",
     "output_type": "stream",
     "text": [
      "42\n"
     ]
    }
   ],
   "source": [
    "multiply = lambda x, y: x * y\n",
    "print(multiply(7, 6))"
   ]
  },
  {
   "cell_type": "code",
   "execution_count": 11,
   "id": "07d391e8-a7cb-463a-9f8c-2263da8242a7",
   "metadata": {},
   "outputs": [
    {
     "name": "stdout",
     "output_type": "stream",
     "text": [
      "5.0\n",
      "Cannot divide by zero\n"
     ]
    }
   ],
   "source": [
    "divide = lambda x, y: x / y if y != 0 else 'Cannot divide by zero'\n",
    "print(divide(10, 2))\n",
    "print(divide(10, 0))"
   ]
  },
  {
   "cell_type": "markdown",
   "id": "90f2351d-a3b9-417d-8b64-49976b2cee1e",
   "metadata": {},
   "source": [
    "2. Lambda Functions with Conditionals Maximum of Two Numbers"
   ]
  },
  {
   "cell_type": "code",
   "execution_count": 13,
   "id": "f437727e-572a-425b-bede-ebfb16524085",
   "metadata": {},
   "outputs": [
    {
     "name": "stdout",
     "output_type": "stream",
     "text": [
      "7\n"
     ]
    }
   ],
   "source": [
    "maximum = lambda a, b: a if a > b else b\n",
    "print(maximum(4, 7))"
   ]
  },
  {
   "cell_type": "markdown",
   "id": "b513a8d9-9510-4440-be48-04f40295adf3",
   "metadata": {},
   "source": [
    "Check Even or Odd"
   ]
  },
  {
   "cell_type": "code",
   "execution_count": 15,
   "id": "6dd6dcf8-5e27-474c-a73b-c918dc307c3f",
   "metadata": {},
   "outputs": [
    {
     "name": "stdout",
     "output_type": "stream",
     "text": [
      "True\n",
      "False\n"
     ]
    }
   ],
   "source": [
    "is_even = lambda x: x % 2 == 0\n",
    "print(is_even(4))\n",
    "print(is_even(5))"
   ]
  },
  {
   "cell_type": "markdown",
   "id": "5c383985-55e4-4462-b330-f1abf80f894c",
   "metadata": {},
   "source": [
    "3. Lambda Functions with map, filter, and reduce Using map to Square a List of Numbers"
   ]
  },
  {
   "cell_type": "code",
   "execution_count": 17,
   "id": "a3a8a63a-5791-4665-a334-e65c7b9e269d",
   "metadata": {},
   "outputs": [
    {
     "name": "stdout",
     "output_type": "stream",
     "text": [
      "[1, 4, 9, 16, 25]\n"
     ]
    }
   ],
   "source": [
    "numbers = [1, 2, 3, 4, 5]\n",
    "squared = list(map(lambda x: x ** 2, numbers))\n",
    "print(squared)"
   ]
  },
  {
   "cell_type": "markdown",
   "id": "a8e57f7e-467c-4e78-b62e-4fa9f895aa6e",
   "metadata": {},
   "source": [
    "Using filter to Get Even Numbers"
   ]
  },
  {
   "cell_type": "code",
   "execution_count": 34,
   "id": "d53caeb1-2bd1-472c-83ec-a20dc2493ea9",
   "metadata": {},
   "outputs": [
    {
     "name": "stdout",
     "output_type": "stream",
     "text": [
      "[2, 4]\n"
     ]
    }
   ],
   "source": [
    "# Using filter with a lambda function to get even numbers\n",
    "even_numbers = list(filter(lambda x: x % 2 == 0, numbers))\n",
    "\n",
    "# Output the result\n",
    "print(even_numbers)"
   ]
  },
  {
   "cell_type": "markdown",
   "id": "e9284fd4-680b-4cda-8561-85afd2c78077",
   "metadata": {},
   "source": [
    "Using reduce with a Lambda Function to Find the Product of All Elements"
   ]
  },
  {
   "cell_type": "code",
   "execution_count": 30,
   "id": "f364de01-13b8-479d-a79a-55fd6df99d1d",
   "metadata": {},
   "outputs": [
    {
     "name": "stdout",
     "output_type": "stream",
     "text": [
      "120\n"
     ]
    }
   ],
   "source": [
    "from functools import reduce\n",
    "\n",
    "# Using reduce with a lambda function to multiply all numbers\n",
    "product = reduce(lambda x, y: x * y, numbers)\n",
    "\n",
    "# Output the result\n",
    "print(product)  "
   ]
  },
  {
   "cell_type": "markdown",
   "id": "eae19048-99cf-4ad6-ab58-617fd25161e1",
   "metadata": {},
   "source": [
    "4. Sorting with Lambda FunctionsSort a List of Tuples by Second Element"
   ]
  },
  {
   "cell_type": "code",
   "execution_count": 39,
   "id": "a026f533-7ad0-4cf4-ae36-45c34fa0d91b",
   "metadata": {},
   "outputs": [
    {
     "name": "stdout",
     "output_type": "stream",
     "text": [
      "[(3, 'Australia'), (1, 'Canada'), (2, 'India')]\n"
     ]
    }
   ],
   "source": [
    "# List of tuples with an integer and a fruit name\n",
    "data = [(1, 'Canada'), (2, 'India'), (3, 'Australia')]\n",
    "\n",
    "# Sort the list based on the second element in each tuple (fruit name)\n",
    "sorted_data = sorted(data, key=lambda x: x[1])\n",
    "\n",
    "# Print the sorted list\n",
    "print(sorted_data)"
   ]
  },
  {
   "cell_type": "markdown",
   "id": "f14073f3-fd97-4f82-ad82-3687beee218f",
   "metadata": {},
   "source": [
    "5. Creating a Simple Lambda Function for Concatenation"
   ]
  },
  {
   "cell_type": "code",
   "execution_count": 44,
   "id": "5f1203bf-84dd-4591-b56e-b2708d0835fe",
   "metadata": {},
   "outputs": [
    {
     "name": "stdout",
     "output_type": "stream",
     "text": [
      "Happy Friday!\n"
     ]
    }
   ],
   "source": [
    "# Lambda function to concatenate two strings with a space\n",
    "concat = lambda a, b: a + \" \" + b\n",
    "\n",
    "# Calling the lambda function and printing the result\n",
    "print(concat(\"Happy\", \"Friday!\"))"
   ]
  },
  {
   "cell_type": "markdown",
   "id": "2630a320-e020-4089-bcc1-afa1eb319cbb",
   "metadata": {},
   "source": [
    "# Use lambda functions with built-in functions like map, filter, and reduce."
   ]
  },
  {
   "cell_type": "markdown",
   "id": "58312579-3c6c-40a3-910a-3c58a8e17e0f",
   "metadata": {},
   "source": [
    "1. Using map()"
   ]
  },
  {
   "cell_type": "code",
   "execution_count": 48,
   "id": "ad7085f1-3d9d-426a-a5e1-6b1bffc252b7",
   "metadata": {},
   "outputs": [
    {
     "name": "stdout",
     "output_type": "stream",
     "text": [
      "[1, 4, 9, 16, 25]\n"
     ]
    }
   ],
   "source": [
    "# List of numbers\n",
    "numbers = [1, 2, 3, 4, 5]\n",
    "\n",
    "# Using map with a lambda function to square each number\n",
    "squared = list(map(lambda x: x ** 2, numbers))\n",
    "\n",
    "# Print the list of squared numbers\n",
    "print(squared)"
   ]
  },
  {
   "cell_type": "markdown",
   "id": "fae8ab7c-ef9c-4f2e-bfcb-09108c6440d7",
   "metadata": {},
   "source": [
    "2. Using filter()"
   ]
  },
  {
   "cell_type": "code",
   "execution_count": 52,
   "id": "df507d17-11ed-4c73-9861-7dd1336faed5",
   "metadata": {},
   "outputs": [
    {
     "name": "stdout",
     "output_type": "stream",
     "text": [
      "[2, 4, 6]\n"
     ]
    }
   ],
   "source": [
    "# List of numbers\n",
    "numbers = [1, 2, 3, 4, 5, 6]\n",
    "\n",
    "# Using filter with a lambda function to get even numbers\n",
    "even_numbers = list(filter(lambda x: x % 2 == 0, numbers))\n",
    "\n",
    "# Print the list of even numbers\n",
    "print(even_numbers)"
   ]
  },
  {
   "cell_type": "markdown",
   "id": "cff623c4-f16a-4faf-afdc-129b23827a3e",
   "metadata": {},
   "source": [
    "3. Using reduce()"
   ]
  },
  {
   "cell_type": "code",
   "execution_count": 57,
   "id": "550bb599-3b06-4bfb-8079-d12da45992bc",
   "metadata": {},
   "outputs": [
    {
     "name": "stdout",
     "output_type": "stream",
     "text": [
      "15\n"
     ]
    }
   ],
   "source": [
    "from functools import reduce\n",
    "\n",
    "# List of numbers\n",
    "numbers = [1, 2, 3, 4, 5]\n",
    "\n",
    "# Using reduce with a lambda function to calculate the sum of numbers\n",
    "sum_of_numbers = reduce(lambda x, y: x + y, numbers)\n",
    "\n",
    "# Print the sum of numbers\n",
    "print(sum_of_numbers)"
   ]
  },
  {
   "cell_type": "markdown",
   "id": "661b52e0-804d-4931-89d8-3bdbaa215fe7",
   "metadata": {},
   "source": [
    "4. Combining map(), filter(), and reduce()"
   ]
  },
  {
   "cell_type": "code",
   "execution_count": 60,
   "id": "3cbea45f-63ce-46c3-8627-bd8d8a975d82",
   "metadata": {},
   "outputs": [
    {
     "name": "stdout",
     "output_type": "stream",
     "text": [
      "20\n"
     ]
    }
   ],
   "source": [
    "from functools import reduce\n",
    "\n",
    "# Original list of numbers\n",
    "numbers = [1, 2, 3, 4, 5]\n",
    "\n",
    "# Step 1: Square each number in the list\n",
    "squared_numbers = list(map(lambda x: x ** 2, numbers))\n",
    "\n",
    "# Step 2: Filter out only the even squares\n",
    "even_squares = list(filter(lambda x: x % 2 == 0, squared_numbers))\n",
    "\n",
    "# Step 3: Sum all the even squares\n",
    "sum_even_squares = reduce(lambda x, y: x + y, even_squares)\n",
    "\n",
    "# Print the final sum\n",
    "print(sum_even_squares)"
   ]
  },
  {
   "cell_type": "markdown",
   "id": "38ce06f8-ce82-46bb-95bb-77b329ea544d",
   "metadata": {},
   "source": [
    "# Compare lambda functions with regular functions in terms of syntax and use cases"
   ]
  },
  {
   "cell_type": "markdown",
   "id": "26c4a5bb-792c-4def-887f-1f9092e36f97",
   "metadata": {},
   "source": [
    "1. Syntax Comparison Regular VS Lambda"
   ]
  },
  {
   "cell_type": "code",
   "execution_count": 68,
   "id": "6392e005-6fee-4101-a86a-94eaed08bd5f",
   "metadata": {},
   "outputs": [
    {
     "name": "stdout",
     "output_type": "stream",
     "text": [
      "8\n"
     ]
    }
   ],
   "source": [
    "# regular function\n",
    "def add(x, y):\n",
    "    return x + y\n",
    "print(add(3, 5))"
   ]
  },
  {
   "cell_type": "code",
   "execution_count": 70,
   "id": "af5a8fdf-3410-4a66-a204-cbfb8efb59bd",
   "metadata": {},
   "outputs": [
    {
     "name": "stdout",
     "output_type": "stream",
     "text": [
      "8\n"
     ]
    }
   ],
   "source": [
    "# Lambda Function\n",
    "add = lambda x, y: x + y\n",
    "print(add(3, 5))"
   ]
  },
  {
   "cell_type": "markdown",
   "id": "971bb96f-2107-4bf3-85e0-2737c1fc9679",
   "metadata": {},
   "source": [
    "2. Sorting comparison Regular VS Lambda"
   ]
  },
  {
   "cell_type": "code",
   "execution_count": 78,
   "id": "fd76ef71-9b80-4339-9503-d4ba9ea08c79",
   "metadata": {},
   "outputs": [
    {
     "name": "stdout",
     "output_type": "stream",
     "text": [
      "[(1, 'apple'), (2, 'banana'), (3, 'cherry')]\n"
     ]
    }
   ],
   "source": [
    "# Regular function with sorted\n",
    "data = [(1, 'apple'), (2, 'banana'), (3, 'cherry')]\n",
    "\n",
    "def sort_key(item):\n",
    "    return item[1]\n",
    "\n",
    "sorted_data = sorted(data, key=sort_key)\n",
    "print(sorted_data)"
   ]
  },
  {
   "cell_type": "code",
   "execution_count": 72,
   "id": "42dda057-41c3-4bd6-bbcf-932df88b0a28",
   "metadata": {},
   "outputs": [
    {
     "name": "stdout",
     "output_type": "stream",
     "text": [
      "[(1, 'apple'), (2, 'banana'), (3, 'cherry')]\n"
     ]
    }
   ],
   "source": [
    "# Lambda with sorted\n",
    "data = [(1, 'apple'), (2, 'banana'), (3, 'cherry')]\n",
    "\n",
    "sorted_data_lambda = sorted(data, key=lambda x: x[1])\n",
    "print(sorted_data_lambda)"
   ]
  },
  {
   "cell_type": "markdown",
   "id": "d1ebbbff-4e61-492b-8237-a7bd3ac00e71",
   "metadata": {},
   "source": [
    "3. Use Cases comparison Regular VS Lambda"
   ]
  },
  {
   "cell_type": "code",
   "execution_count": 83,
   "id": "a248de79-81e4-486c-a08d-39e95084300b",
   "metadata": {},
   "outputs": [
    {
     "name": "stdout",
     "output_type": "stream",
     "text": [
      "120\n"
     ]
    }
   ],
   "source": [
    "# Regular function to calculate the factorial of a number\n",
    "def factorial(n):\n",
    "    if n == 0:        # Base case: factorial of 0 is 1\n",
    "        return 1\n",
    "    else:\n",
    "        return n * factorial(n - 1)  # Recursive case\n",
    "\n",
    "print(factorial(5))"
   ]
  },
  {
   "cell_type": "code",
   "execution_count": 90,
   "id": "6f78451c-8af6-4ae4-ad91-4ef1dfe48ccb",
   "metadata": {},
   "outputs": [
    {
     "name": "stdout",
     "output_type": "stream",
     "text": [
      "[(4, 1), (1, 2), (2, 3)]\n"
     ]
    }
   ],
   "source": [
    "# Lambda Function Use Case: Simple Operations\n",
    "\n",
    "# List of points represented as tuples (x, y)\n",
    "points = [(2, 3), (1, 2), (4, 1)]\n",
    "\n",
    "# Using sorted with a lambda function to sort by the y-coordinate\n",
    "sorted_points = sorted(points, key=lambda point: point[1])\n",
    "\n",
    "# Print the sorted list of points\n",
    "print(sorted_points)"
   ]
  },
  {
   "cell_type": "code",
   "execution_count": null,
   "id": "46715a5a-1fa4-42a3-85b2-228e0c1319a0",
   "metadata": {},
   "outputs": [],
   "source": []
  }
 ],
 "metadata": {
  "kernelspec": {
   "display_name": "Python 3 (ipykernel)",
   "language": "python",
   "name": "python3"
  },
  "language_info": {
   "codemirror_mode": {
    "name": "ipython",
    "version": 3
   },
   "file_extension": ".py",
   "mimetype": "text/x-python",
   "name": "python",
   "nbconvert_exporter": "python",
   "pygments_lexer": "ipython3",
   "version": "3.12.4"
  }
 },
 "nbformat": 4,
 "nbformat_minor": 5
}
