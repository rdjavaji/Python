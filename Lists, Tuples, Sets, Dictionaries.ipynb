{
 "cells": [
  {
   "cell_type": "markdown",
   "id": "687b2b1e-7076-4213-a6b5-7096c90ec5e8",
   "metadata": {},
   "source": [
    "# Lists, Tuples, Sets, Dictionaries"
   ]
  },
  {
   "cell_type": "markdown",
   "id": "3b2e8478-27c6-499f-b0a6-c34880669f06",
   "metadata": {},
   "source": [
    "# Create and manipulate lists, tuples, sets, and dictionaries."
   ]
  },
  {
   "cell_type": "markdown",
   "id": "9245a2af-c758-434a-bf32-eabe1ee85e01",
   "metadata": {},
   "source": [
    "# Lists"
   ]
  },
  {
   "cell_type": "markdown",
   "id": "7d5dba55-19ee-4852-b5ef-b807591f720f",
   "metadata": {},
   "source": [
    "1. create a list"
   ]
  },
  {
   "cell_type": "code",
   "execution_count": 6,
   "id": "725f73ab-7e52-42da-8866-340ed98c3c13",
   "metadata": {},
   "outputs": [
    {
     "name": "stdout",
     "output_type": "stream",
     "text": [
      "['red', 'green', 'blue', 'yellow']\n"
     ]
    }
   ],
   "source": [
    "colors = [\"red\", \"green\", \"blue\", \"yellow\"]  # Creating a list of colors\n",
    "print(colors)  # Printing the list of colors"
   ]
  },
  {
   "cell_type": "markdown",
   "id": "f7e3dbed-bdf6-4c34-8f85-a2bcbff713fc",
   "metadata": {},
   "source": [
    "2. Appending to a List"
   ]
  },
  {
   "cell_type": "code",
   "execution_count": 9,
   "id": "c87842b6-9c69-47a0-a5a4-839760161892",
   "metadata": {},
   "outputs": [
    {
     "name": "stdout",
     "output_type": "stream",
     "text": [
      "List after appending: ['apple', 'banana', 'cherry']\n"
     ]
    }
   ],
   "source": [
    "my_list = []  # Creating an empty list\n",
    "my_list.append(\"apple\")  # Adding \"apple\" to the list\n",
    "my_list.append(\"banana\")  # Adding \"banana\" to the list\n",
    "my_list.append(\"cherry\")  # Adding \"cherry\" to the list\n",
    "print(\"List after appending:\", my_list)  # Printing the list"
   ]
  },
  {
   "cell_type": "markdown",
   "id": "2f643b58-5948-4758-b8cd-aea02edb4ad9",
   "metadata": {},
   "source": [
    "3. Popping from a List"
   ]
  },
  {
   "cell_type": "code",
   "execution_count": 14,
   "id": "c27a167f-cdd5-411a-ab35-8e97f84565fd",
   "metadata": {},
   "outputs": [
    {
     "name": "stdout",
     "output_type": "stream",
     "text": [
      "Original list: ['apple', 'banana', 'cherry', 'date']\n",
      "Popped item: date\n",
      "List after popping: ['apple', 'banana', 'cherry']\n"
     ]
    }
   ],
   "source": [
    "fruits = [\"apple\", \"banana\", \"cherry\", \"date\"]  # Creating a list of fruits\n",
    "print(\"Original list:\", fruits)  # Printing the original list\n",
    "\n",
    "last_fruit = fruits.pop()  # Removing the last item from the list and storing it in last_fruit\n",
    "print(\"Popped item:\", last_fruit)  # Printing the popped item\n",
    "\n",
    "print(\"List after popping:\", fruits)  # Printing the list after popping the last item"
   ]
  },
  {
   "cell_type": "markdown",
   "id": "2e5bc0f4-1922-45f3-ae3b-a5a280e278d1",
   "metadata": {},
   "source": [
    "4. Lists of strings"
   ]
  },
  {
   "cell_type": "code",
   "execution_count": 18,
   "id": "e24e851d-0b6c-4797-b1ae-22cc8d19464b",
   "metadata": {},
   "outputs": [
    {
     "name": "stdout",
     "output_type": "stream",
     "text": [
      "Fruits: ['apple', 'banana', 'cherry', 'date']\n"
     ]
    }
   ],
   "source": [
    "fruits = [\"apple\", \"banana\", \"cherry\", \"date\"]  # Creating a list of fruits\n",
    "print(\"Fruits:\", fruits)  # Printing the list of fruits"
   ]
  },
  {
   "cell_type": "markdown",
   "id": "ab4dc607-3409-499e-a8e2-81a003cfaf1c",
   "metadata": {},
   "source": [
    "5. Nested lists"
   ]
  },
  {
   "cell_type": "code",
   "execution_count": 24,
   "id": "2c33ba5d-bdf6-494e-81e3-a5f32efc8419",
   "metadata": {},
   "outputs": [
    {
     "name": "stdout",
     "output_type": "stream",
     "text": [
      "Nested List: [[1, 2, 3], ['a', 'b', 'c'], [True, False]]\n"
     ]
    }
   ],
   "source": [
    "nested_list = [[1, 2, 3], [\"a\", \"b\", \"c\"], [True, False]]  # Creating a nested list\n",
    "print(\"Nested List:\", nested_list)  # Printing the nested list"
   ]
  },
  {
   "cell_type": "markdown",
   "id": "4e4b3ed2-6105-4538-a7fd-e8bf089688b1",
   "metadata": {},
   "source": [
    "# Tuples"
   ]
  },
  {
   "cell_type": "markdown",
   "id": "17c23167-c324-47fa-ae87-3f7ae5f02308",
   "metadata": {},
   "source": [
    "1. Basic Tuple"
   ]
  },
  {
   "cell_type": "code",
   "execution_count": 27,
   "id": "fbf3fcca-9484-4dc3-af67-4a0557a94d93",
   "metadata": {},
   "outputs": [
    {
     "name": "stdout",
     "output_type": "stream",
     "text": [
      "Basic Tuple: (1, 2, 3, 4, 5)\n"
     ]
    }
   ],
   "source": [
    "numbers = (1, 2, 3, 4, 5)  # Creating a tuple\n",
    "print(\"Basic Tuple:\", numbers)  # Printing the tuple"
   ]
  },
  {
   "cell_type": "markdown",
   "id": "f149d6e7-2469-4a73-b647-3c1d3933c6ac",
   "metadata": {},
   "source": [
    "2. Tuple of Strings"
   ]
  },
  {
   "cell_type": "code",
   "execution_count": 34,
   "id": "c5d5b21b-ef2d-4c62-967c-cb38b7213129",
   "metadata": {},
   "outputs": [
    {
     "name": "stdout",
     "output_type": "stream",
     "text": [
      "Tuple of Names: ('Alice', 'Bob', 'Charlie')\n"
     ]
    }
   ],
   "source": [
    "names = (\"Alice\", \"Bob\", \"Charlie\")  # Creating a tuple of names\n",
    "print(\"Tuple of Names:\", names)  # Printing the tuple"
   ]
  },
  {
   "cell_type": "markdown",
   "id": "cc8664da-2fb6-4cba-a115-49bf0bd34dc7",
   "metadata": {},
   "source": [
    "3. Mixed Data Types - Tuples"
   ]
  },
  {
   "cell_type": "code",
   "execution_count": 40,
   "id": "b00c70ad-c60a-4492-ad5b-0b6d3fd76823",
   "metadata": {},
   "outputs": [
    {
     "name": "stdout",
     "output_type": "stream",
     "text": [
      "Mixed Data Types Tuple: (1, 'hello', 3.14, False)\n"
     ]
    }
   ],
   "source": [
    "mixed_tuple = (1, \"hello\", 3.14, False)  # Creating a tuple with mixed data types\n",
    "print(\"Mixed Data Types Tuple:\", mixed_tuple)  # Printing the tuple"
   ]
  },
  {
   "cell_type": "markdown",
   "id": "f5816dad-c8fc-4edf-8a42-32cec3698bb6",
   "metadata": {},
   "source": [
    "4. Nested Tuples"
   ]
  },
  {
   "cell_type": "code",
   "execution_count": 42,
   "id": "118a69c9-60ac-4f7d-a5c2-0f5063831fbb",
   "metadata": {},
   "outputs": [
    {
     "name": "stdout",
     "output_type": "stream",
     "text": [
      "Nested Tuple: ((1, 2, 3), ('a', 'b', 'c'), (True, False))\n"
     ]
    }
   ],
   "source": [
    "nested_tuple = ((1, 2, 3), (\"a\", \"b\", \"c\"), (True, False))  # Creating a nested tuple\n",
    "print(\"Nested Tuple:\", nested_tuple)  # Printing the nested tuple"
   ]
  },
  {
   "cell_type": "markdown",
   "id": "fed865d9-aafd-4c1b-b30b-3419a823afa2",
   "metadata": {},
   "source": [
    "5. Tuples Unpacking"
   ]
  },
  {
   "cell_type": "code",
   "execution_count": 44,
   "id": "9f372386-84d3-4afe-af25-44950c5ae5c9",
   "metadata": {},
   "outputs": [
    {
     "name": "stdout",
     "output_type": "stream",
     "text": [
      "X Coordinate: 10\n",
      "Y Coordinate: 20\n"
     ]
    }
   ],
   "source": [
    "coordinates = (10, 20)  # Creating a tuple named 'coordinates' with two elements\n",
    "x, y = coordinates  # Unpacking the tuple into two variables, x and y\n",
    "print(\"X Coordinate:\", x)  # Printing the value of x\n",
    "print(\"Y Coordinate:\", y)  # Printing the value of y"
   ]
  },
  {
   "cell_type": "markdown",
   "id": "a673ffdf-b7a2-4027-9834-c543fa9c624e",
   "metadata": {},
   "source": [
    "# Sets"
   ]
  },
  {
   "cell_type": "markdown",
   "id": "2ea15193-8971-4096-946e-7fc4fee3edbe",
   "metadata": {},
   "source": [
    "1. Basic sets"
   ]
  },
  {
   "cell_type": "code",
   "execution_count": 52,
   "id": "3e713f89-81ff-4eed-99e8-bb9f09b32bf0",
   "metadata": {},
   "outputs": [
    {
     "name": "stdout",
     "output_type": "stream",
     "text": [
      "Basic Set: {1, 2, 3, 4, 5}\n"
     ]
    }
   ],
   "source": [
    "numbers = {1, 2, 3, 4, 5}  # Creating a set named 'numbers'\n",
    "print(\"Basic Set:\", numbers)  # Printing the created set"
   ]
  },
  {
   "cell_type": "markdown",
   "id": "48cd4ce1-5f4a-4286-a059-c493c4e997be",
   "metadata": {},
   "source": [
    "2. Set of Strings\n",
    "   "
   ]
  },
  {
   "cell_type": "code",
   "execution_count": 54,
   "id": "bf085183-9b2f-4891-bcbd-14250309d24f",
   "metadata": {},
   "outputs": [
    {
     "name": "stdout",
     "output_type": "stream",
     "text": [
      "Set of Fruits: {'banana', 'apple', 'cherry'}\n"
     ]
    }
   ],
   "source": [
    "fruits = {\"apple\", \"banana\", \"cherry\", \"banana\"} # Duplicates will be ignored\n",
    "print(\"Set of Fruits:\", fruits)"
   ]
  },
  {
   "cell_type": "markdown",
   "id": "d3b2d5e9-e41a-4cfa-8b06-9599a969507a",
   "metadata": {},
   "source": [
    "3. Mixed Data Types"
   ]
  },
  {
   "cell_type": "code",
   "execution_count": 56,
   "id": "ff7a9533-3017-4c67-85d2-029dfed4e2d2",
   "metadata": {},
   "outputs": [
    {
     "name": "stdout",
     "output_type": "stream",
     "text": [
      "Mixed Data Types Set: {1, (1, 2), 3.14, 'hello'}\n"
     ]
    }
   ],
   "source": [
    "mixed_set = {1, \"hello\", 3.14, (1, 2)}  # Creating a set with mixed data types\n",
    "print(\"Mixed Data Types Set:\", mixed_set)  # Printing the created set"
   ]
  },
  {
   "cell_type": "markdown",
   "id": "a5b8d440-0c65-4533-8cb1-cfdc56c111d8",
   "metadata": {},
   "source": [
    "4: Set Comprehension"
   ]
  },
  {
   "cell_type": "code",
   "execution_count": 59,
   "id": "426827c6-ef16-4f37-bc00-352414275f4e",
   "metadata": {},
   "outputs": [
    {
     "name": "stdout",
     "output_type": "stream",
     "text": [
      "Squares of Even Numbers: {0, 64, 4, 36, 100, 16}\n"
     ]
    }
   ],
   "source": [
    "squares_of_evens = {x**2 for x in range(11) if x % 2 == 0}\n",
    "print(\"Squares of Even Numbers:\", squares_of_evens)"
   ]
  },
  {
   "cell_type": "markdown",
   "id": "4a9130fb-75e4-48e2-a969-b115bcf4e760",
   "metadata": {},
   "source": [
    "5: Checking Membership and Subsets"
   ]
  },
  {
   "cell_type": "code",
   "execution_count": 66,
   "id": "4b596f32-9536-47ba-91cb-204788293040",
   "metadata": {},
   "outputs": [
    {
     "name": "stdout",
     "output_type": "stream",
     "text": [
      "Is 2 in set_x? True\n",
      "Is 4 in set_x? False\n",
      "Is set_x a subset of set_y? True\n"
     ]
    }
   ],
   "source": [
    "set_x = {1, 2, 3}\n",
    "set_y = {1, 2, 3, 4, 5}\n",
    "\n",
    "# Checking membership\n",
    "is_two_in_x = 2 in set_x\n",
    "is_four_in_x = 4 in set_x\n",
    "\n",
    "# Checking if set_x is a subset of set_y\n",
    "is_subset = set_x.issubset(set_y)\n",
    "\n",
    "# Displaying the results\n",
    "print(\"Is 2 in set_x?\", is_two_in_x)\n",
    "print(\"Is 4 in set_x?\", is_four_in_x)\n",
    "print(\"Is set_x a subset of set_y?\", is_subset)"
   ]
  },
  {
   "cell_type": "markdown",
   "id": "104f4b08-fe60-4072-95be-e58ef97d8095",
   "metadata": {},
   "source": [
    "# Dictionaries"
   ]
  },
  {
   "cell_type": "markdown",
   "id": "c6afff60-43d8-4b27-8d09-f4d14af27ffc",
   "metadata": {},
   "source": [
    "1. Basic Dictionary"
   ]
  },
  {
   "cell_type": "code",
   "execution_count": 72,
   "id": "255ca74f-3ab9-4bc9-9324-1168ee24fa98",
   "metadata": {},
   "outputs": [
    {
     "name": "stdout",
     "output_type": "stream",
     "text": [
      "Basic Dictionary: {'name': 'Alice', 'age': 30, 'city': 'New York'}\n"
     ]
    }
   ],
   "source": [
    "person = {\n",
    "    \"name\": \"Alice\",\n",
    "    \"age\": 30,\n",
    "    \"city\": \"New York\"\n",
    "}\n",
    "print(\"Basic Dictionary:\", person)"
   ]
  },
  {
   "cell_type": "markdown",
   "id": "53d9195c-c2f7-49da-bc11-a537c663401e",
   "metadata": {},
   "source": [
    "2. Accessing Values"
   ]
  },
  {
   "cell_type": "code",
   "execution_count": 75,
   "id": "4125243b-af16-4333-88d4-516ed6fe8893",
   "metadata": {},
   "outputs": [
    {
     "name": "stdout",
     "output_type": "stream",
     "text": [
      "Number of bananas: 5\n"
     ]
    }
   ],
   "source": [
    "fruits = {\n",
    "\"apple\": 2,\n",
    "\"banana\": 5,\n",
    "\"cherry\": 10\n",
    "}\n",
    "print(\"Number of bananas:\", fruits[\"banana\"])"
   ]
  },
  {
   "cell_type": "markdown",
   "id": "0a4667d1-37a2-44f0-b272-154ef8a169af",
   "metadata": {},
   "source": [
    "3. Adding and Updating Values"
   ]
  },
  {
   "cell_type": "code",
   "execution_count": 78,
   "id": "1b7bf4cd-a7ea-48b7-a9b2-16c641144848",
   "metadata": {},
   "outputs": [
    {
     "name": "stdout",
     "output_type": "stream",
     "text": [
      "Updated Car Dictionary: {'brand': 'Toyota', 'model': 'Camry', 'year': 2021, 'color': 'blue'}\n"
     ]
    }
   ],
   "source": [
    "car = {\n",
    "\"brand\": \"Toyota\",\n",
    "\"model\": \"Camry\",\n",
    "\"year\": 2020\n",
    "}\n",
    "car[\"color\"] = \"blue\"\n",
    "car[\"year\"] = 2021\n",
    "print(\"Updated Car Dictionary:\", car)"
   ]
  },
  {
   "cell_type": "markdown",
   "id": "b06e1082-f24a-4217-beca-e4c7ff24cf88",
   "metadata": {},
   "source": [
    "4. Dictionary Methods"
   ]
  },
  {
   "cell_type": "code",
   "execution_count": 84,
   "id": "be5b4cca-2535-44a8-8e2a-81cfff66c9f6",
   "metadata": {},
   "outputs": [
    {
     "name": "stdout",
     "output_type": "stream",
     "text": [
      "Keys: dict_keys(['name', 'age', 'department'])\n",
      "Values: dict_values(['Bob', 25, 'HR'])\n",
      "Items: dict_items([('name', 'Bob'), ('age', 25), ('department', 'HR')])\n"
     ]
    }
   ],
   "source": [
    "employee = {\n",
    "    \"name\": \"Bob\",\n",
    "    \"age\": 25,\n",
    "    \"department\": \"HR\"\n",
    "}\n",
    "\n",
    "keys = employee.keys()\n",
    "values = employee.values()\n",
    "items = employee.items()\n",
    "\n",
    "print(\"Keys:\", keys)\n",
    "print(\"Values:\", values)\n",
    "print(\"Items:\", items)"
   ]
  },
  {
   "cell_type": "markdown",
   "id": "5a6c4dc4-5cae-4987-becb-85b746ca2dd0",
   "metadata": {},
   "source": [
    "5. Dictionary Comprehension"
   ]
  },
  {
   "cell_type": "code",
   "execution_count": 86,
   "id": "2a17334f-f085-4885-9b8e-2f9b3c432092",
   "metadata": {},
   "outputs": [
    {
     "name": "stdout",
     "output_type": "stream",
     "text": [
      "Dictionary of Squares: {1: 1, 2: 4, 3: 9, 4: 16, 5: 25}\n"
     ]
    }
   ],
   "source": [
    "squares = {x: x**2 for x in range(1, 6)}\n",
    "print(\"Dictionary of Squares:\", squares)"
   ]
  },
  {
   "cell_type": "markdown",
   "id": "f5057761-49df-4754-8349-6efcf7397e58",
   "metadata": {},
   "source": [
    "# Understand the differences between these data structures"
   ]
  },
  {
   "cell_type": "code",
   "execution_count": 95,
   "id": "23331816-1110-434e-9959-182af7bd0f78",
   "metadata": {},
   "outputs": [
    {
     "name": "stdout",
     "output_type": "stream",
     "text": [
      "['apple', 'banana', 'cherry']\n",
      "(10, 20)\n",
      "{1, 2, 3, 4, 5}\n",
      "{'name': 'Alice', 'age': 30, 'city': 'New York'}\n"
     ]
    }
   ],
   "source": [
    "# Creating a list\n",
    "fruits = [\"apple\", \"banana\", \"cherry\"]\n",
    "\n",
    "# Creating a tuple\n",
    "coordinates = (10, 20)\n",
    "\n",
    "# Creating a set\n",
    "unique_numbers = {1, 2, 3, 4, 5}\n",
    "\n",
    "# Creating a dictionary\n",
    "person = {\n",
    "    \"name\": \"Alice\",\n",
    "    \"age\": 30,\n",
    "    \"city\": \"New York\"\n",
    "}\n",
    "\n",
    "print(fruits)\n",
    "print(coordinates)\n",
    "print(unique_numbers)\n",
    "print(person)"
   ]
  },
  {
   "cell_type": "raw",
   "id": "0cad8396-f8ee-47ce-ade9-49b3fed2b7cb",
   "metadata": {},
   "source": [
    "Lists\n",
    "\n",
    "Order: Ordered  \n",
    "Mutability: Mutable\n",
    "Duplicates: Allowed\n",
    "Access: Index-based\n",
    "Use cases: Collection of items.\n",
    "\n",
    "Tuples\n",
    "\n",
    "Order: Ordered  \n",
    "Mutability: Immutable\n",
    "Duplicates: Allowed\n",
    "Access: Index-based\t\n",
    "Use cases: Fixed collections\n",
    "\n",
    "Sets:\n",
    "\n",
    "Order:  Unordered \n",
    "Mutability: Mutable\n",
    "Duplicates: Not allowed\n",
    "Access: No index access\n",
    "Use cases: Unique items, membership tests\n",
    "\n",
    "Dictionaries:\n",
    "\n",
    "Order: Unordered (insertion order maintained in 3.7+) \n",
    "Mutability: Mutable\n",
    "Duplicates: Keys must be unique\n",
    "Access: Key-based access\n",
    "Use cases: Key-value associations"
   ]
  },
  {
   "cell_type": "markdown",
   "id": "b7b0d48e-a162-45e5-adad-1f9c1494dbdd",
   "metadata": {},
   "source": [
    "# Perform operations like indexing, slicing, adding, removing elements."
   ]
  },
  {
   "cell_type": "markdown",
   "id": "2d860ee7-fbe9-4144-bf23-738e9638f2e1",
   "metadata": {},
   "source": [
    "1. Lists - Indexing, Slicing, Adding elements, Removing Elements"
   ]
  },
  {
   "cell_type": "code",
   "execution_count": 99,
   "id": "c5c21fef-5674-4514-b584-054c13d32961",
   "metadata": {},
   "outputs": [
    {
     "name": "stdout",
     "output_type": "stream",
     "text": [
      "First fruit: apple\n"
     ]
    }
   ],
   "source": [
    "# Indexing - Lists\n",
    "fruits = [\"apple\", \"banana\", \"cherry\"]\n",
    "first_fruit = fruits[0] # Accessing the first element\n",
    "print(\"First fruit:\", first_fruit)"
   ]
  },
  {
   "cell_type": "code",
   "execution_count": 101,
   "id": "88d1b96f-db8d-46dd-b9b9-9fff485faea2",
   "metadata": {},
   "outputs": [
    {
     "name": "stdout",
     "output_type": "stream",
     "text": [
      "First two fruits: ['apple', 'banana']\n"
     ]
    }
   ],
   "source": [
    "# Slicing - Lists\n",
    "first_two_fruits = fruits[:2]\n",
    "print(\"First two fruits:\", first_two_fruits)"
   ]
  },
  {
   "cell_type": "code",
   "execution_count": 103,
   "id": "ad293d6b-230f-405e-b73d-d4002bc62336",
   "metadata": {},
   "outputs": [
    {
     "name": "stdout",
     "output_type": "stream",
     "text": [
      "Updated fruits list: ['apple', 'kiwi', 'banana', 'cherry', 'orange']\n"
     ]
    }
   ],
   "source": [
    "# Adding Elements - Lists\n",
    "fruits.append(\"orange\") # Adding to the end\n",
    "fruits.insert(1, \"kiwi\") # Inserting at index 1\n",
    "print(\"Updated fruits list:\", fruits)"
   ]
  },
  {
   "cell_type": "code",
   "execution_count": 105,
   "id": "e27f3fd4-2bb5-4281-b49e-6cdedcc62093",
   "metadata": {},
   "outputs": [
    {
     "name": "stdout",
     "output_type": "stream",
     "text": [
      "Removed fruit: orange\n",
      "Fruits after removal: ['apple', 'kiwi', 'cherry']\n"
     ]
    }
   ],
   "source": [
    "# Removing Elements - Lists\n",
    "fruits.remove(\"banana\") # Remove by value\n",
    "popped_fruit = fruits.pop() # Remove the last element and return it\n",
    "print(\"Removed fruit:\", popped_fruit)\n",
    "print(\"Fruits after removal:\", fruits)"
   ]
  },
  {
   "cell_type": "markdown",
   "id": "8eefc167-28d0-4538-8f98-8c17682bee01",
   "metadata": {},
   "source": [
    "2. Tuples - Indexing, Slicing, Adding elements, Removing Elements"
   ]
  },
  {
   "cell_type": "code",
   "execution_count": 107,
   "id": "0f6ee959-2143-4d19-a287-e00c734f9ad1",
   "metadata": {},
   "outputs": [
    {
     "name": "stdout",
     "output_type": "stream",
     "text": [
      "X coordinate: 10.0\n"
     ]
    }
   ],
   "source": [
    "# Indexing\n",
    "coordinates = (10.0, 20.0)\n",
    "x = coordinates[0] # Accessing the first element\n",
    "print(\"X coordinate:\", x)"
   ]
  },
  {
   "cell_type": "code",
   "execution_count": 114,
   "id": "f5c1298c-f686-4aad-8bd5-7aba1fc803ff",
   "metadata": {},
   "outputs": [
    {
     "name": "stdout",
     "output_type": "stream",
     "text": [
      "First coordinate: (10.0,)\n"
     ]
    }
   ],
   "source": [
    "# slicing\n",
    "first_coordinate = coordinates[:1]\n",
    "print(\"First coordinate:\", first_coordinate)"
   ]
  },
  {
   "cell_type": "code",
   "execution_count": 116,
   "id": "fd6613f9-6ecd-4b25-ba4b-dc7d266417d4",
   "metadata": {},
   "outputs": [
    {
     "name": "stdout",
     "output_type": "stream",
     "text": [
      "New coordinates tuple: (10.0, 20.0, 30.0)\n"
     ]
    }
   ],
   "source": [
    "# Adding elements\n",
    "new_coordinates = coordinates + (30.0,)\n",
    "print(\"New coordinates tuple:\", new_coordinates)"
   ]
  },
  {
   "cell_type": "code",
   "execution_count": 118,
   "id": "047a3426-d0a8-4ee8-b57b-7f4ec86d247a",
   "metadata": {},
   "outputs": [
    {
     "name": "stdout",
     "output_type": "stream",
     "text": [
      "Updated coordinates tuple: (10.0, 30.0)\n"
     ]
    }
   ],
   "source": [
    "# Removing Elements\n",
    "coordinates = (10.0, 20.0, 30.0)\n",
    "updated_coordinates = tuple(x for x in coordinates if x != 20.0)\n",
    "print(\"Updated coordinates tuple:\", updated_coordinates)"
   ]
  },
  {
   "cell_type": "markdown",
   "id": "54a48648-a89c-4839-89f6-82f7478f74e0",
   "metadata": {},
   "source": [
    "3. Sets - Indexing, Slicing, Adding elements, Removing Elements"
   ]
  },
  {
   "cell_type": "code",
   "execution_count": 121,
   "id": "6734c540-6f66-419c-b04d-679012d0e981",
   "metadata": {},
   "outputs": [
    {
     "name": "stdout",
     "output_type": "stream",
     "text": [
      "Unique fruits set after addition: {'banana', 'apple', 'cherry'}\n"
     ]
    }
   ],
   "source": [
    "# Adding Elements\n",
    "unique_fruits = {\"apple\", \"banana\"}\n",
    "unique_fruits.add(\"cherry\")\n",
    "print(\"Unique fruits set after addition:\", unique_fruits)"
   ]
  },
  {
   "cell_type": "code",
   "execution_count": 123,
   "id": "5b6c768f-6f15-4802-a738-9efeeadfb7db",
   "metadata": {},
   "outputs": [
    {
     "name": "stdout",
     "output_type": "stream",
     "text": [
      "Unique fruits set after removal: {'apple', 'cherry'}\n"
     ]
    }
   ],
   "source": [
    "# Removing Elements\n",
    "unique_fruits.remove(\"banana\")\n",
    "# unique_fruits.remove(\"orange\")\n",
    "unique_fruits.discard(\"orange\")\n",
    "print(\"Unique fruits set after removal:\", unique_fruits)"
   ]
  },
  {
   "cell_type": "markdown",
   "id": "35873e6c-2e02-42fa-97dd-55ec85dbcbd4",
   "metadata": {},
   "source": [
    "4. Dictionaries - Indexing, Slicing, Adding elements, Removing Elements"
   ]
  },
  {
   "cell_type": "code",
   "execution_count": 128,
   "id": "f12e9ea7-12d7-4903-88f4-1f2e4dbee67d",
   "metadata": {},
   "outputs": [
    {
     "name": "stdout",
     "output_type": "stream",
     "text": [
      "Alice\n",
      "30\n"
     ]
    }
   ],
   "source": [
    "# Indexing \n",
    "# Creating a dictionary\n",
    "person = {\n",
    "    \"name\": \"Alice\",\n",
    "    \"age\": 30,\n",
    "    \"city\": \"New York\"\n",
    "}\n",
    "\n",
    "# Indexing: Accessing values by keys\n",
    "print(person[\"name\"])  # Output: Alice\n",
    "print(person[\"age\"])   # Output: 30"
   ]
  },
  {
   "cell_type": "code",
   "execution_count": 136,
   "id": "693c6fd6-6559-4550-8d97-bb8ddcf0bc1b",
   "metadata": {},
   "outputs": [
    {
     "name": "stdout",
     "output_type": "stream",
     "text": [
      "{'name': 'Alice', 'age': 30}\n"
     ]
    }
   ],
   "source": [
    "# slicing\n",
    "# Original dictionary\n",
    "person = {\n",
    "    \"name\": \"Alice\",\n",
    "    \"age\": 30,\n",
    "    \"city\": \"New York\",\n",
    "    \"occupation\": \"Engineer\",\n",
    "    \"hobby\": \"Reading\"\n",
    "}\n",
    "\n",
    "# Conceptual slicing: creating a new dictionary with selected keys\n",
    "subset = {k: person[k] for k in (\"name\", \"age\")}\n",
    "print(subset)  # Output: {'name': 'Alice', 'age': 30}"
   ]
  },
  {
   "cell_type": "code",
   "execution_count": 138,
   "id": "8d5134d7-cfd3-404a-ae21-08fe97661cc5",
   "metadata": {},
   "outputs": [
    {
     "name": "stdout",
     "output_type": "stream",
     "text": [
      "{'name': 'Alice', 'age': 30, 'city': 'New York'}\n",
      "{'name': 'Alice', 'age': 30, 'city': 'New York', 'occupation': 'Engineer'}\n"
     ]
    }
   ],
   "source": [
    "# Adding \n",
    "# Original dictionary\n",
    "person = {\n",
    "    \"name\": \"Alice\",\n",
    "    \"age\": 30\n",
    "}\n",
    "\n",
    "# Adding a new key-value pair\n",
    "person[\"city\"] = \"New York\"\n",
    "print(person)  # Output: {'name': 'Alice', 'age': 30, 'city': 'New York'}\n",
    "\n",
    "# Adding another key-value pair\n",
    "person[\"occupation\"] = \"Engineer\"\n",
    "print(person)  # Output: {'name': 'Alice', 'age': 30, 'city': 'New York', 'occupation': 'Engineer'}"
   ]
  },
  {
   "cell_type": "code",
   "execution_count": 142,
   "id": "0b58bc54-d7bb-4a60-a6cb-b55dffc81a12",
   "metadata": {},
   "outputs": [
    {
     "name": "stdout",
     "output_type": "stream",
     "text": [
      "{'name': 'Alice', 'age': 30}\n"
     ]
    }
   ],
   "source": [
    "# Removing\n",
    "person = {\n",
    "    \"name\": \"Alice\",\n",
    "    \"age\": 30,\n",
    "    \"city\": \"New York\"\n",
    "}\n",
    "\n",
    "# Removing an element using del\n",
    "del person[\"city\"]\n",
    "print(person)  # Output: {'name': 'Alice', 'age': 30}"
   ]
  },
  {
   "cell_type": "code",
   "execution_count": 144,
   "id": "7c277683-50aa-4d9a-aa63-c5fd857ab720",
   "metadata": {},
   "outputs": [
    {
     "name": "stdout",
     "output_type": "stream",
     "text": [
      "30\n",
      "{'name': 'Alice', 'city': 'New York'}\n"
     ]
    }
   ],
   "source": [
    "# pop():\n",
    "# Original dictionary\n",
    "person = {\n",
    "    \"name\": \"Alice\",\n",
    "    \"age\": 30,\n",
    "    \"city\": \"New York\"\n",
    "}\n",
    "\n",
    "# Removing an element using pop() and capturing the removed value\n",
    "removed_value = person.pop(\"age\")\n",
    "print(removed_value)  # Output: 30\n",
    "print(person)  # Output: {'name': 'Alice', 'city': 'New York'}"
   ]
  },
  {
   "cell_type": "markdown",
   "id": "5f1a6557-edac-478e-947c-8b3f388b4105",
   "metadata": {},
   "source": [
    "# Explore built-in methods for each data structure."
   ]
  },
  {
   "cell_type": "markdown",
   "id": "d3f5da1f-eb78-489d-9d90-23f2f903a8f5",
   "metadata": {},
   "source": [
    "1. Lists - append(), insert(), remove(), pop(), sort(), reverse()"
   ]
  },
  {
   "cell_type": "code",
   "execution_count": 150,
   "id": "559e6b96-b046-4bb5-a311-12ec8f3cd07b",
   "metadata": {},
   "outputs": [
    {
     "name": "stdout",
     "output_type": "stream",
     "text": [
      "['apple', 'banana', 'cherry', 'Mango']\n",
      "['apple', 'blueberry', 'banana', 'cherry', 'Mango']\n",
      "['apple', 'blueberry', 'cherry', 'Mango']\n",
      "Mango\n",
      "['apple', 'blueberry', 'cherry']\n",
      "['apple', 'blueberry', 'cherry']\n",
      "['cherry', 'blueberry', 'apple']\n"
     ]
    }
   ],
   "source": [
    "fruits = [\"apple\", \"banana\", \"cherry\"]\n",
    "\n",
    "# append(item): Adds an item to the end of the list.\n",
    "fruits.append(\"Mango\")\n",
    "print(fruits) # Output: ['apple', 'banana', 'cherry', 'Mango']\n",
    "\n",
    "# insert(index, item): Inserts an item at a specified index.\n",
    "fruits.insert(1, \"blueberry\")\n",
    "print(fruits)  # Output: ['apple', 'blueberry', 'banana', 'cherry', 'date']\n",
    "\n",
    "# remove(item): Removes the first occurrence of an item.\n",
    "fruits.remove(\"banana\")\n",
    "print(fruits)  # Output: ['apple', 'blueberry', 'cherry', 'date']\n",
    "\n",
    "# pop(index): Removes and returns the item at the specified index.\n",
    "last_fruit = fruits.pop()\n",
    "print(last_fruit)  # Output: date\n",
    "print(fruits)      # Output: ['apple', 'blueberry', 'cherry']\n",
    "\n",
    "# sort(): Sorts the list in ascending order.\n",
    "fruits.sort()\n",
    "print(fruits)  # Output: ['apple', 'blueberry', 'cherry']\n",
    "\n",
    "# reverse(): Reverses the order of the list.\n",
    "fruits.reverse()\n",
    "print(fruits)  # Output: ['cherry', 'blueberry', 'apple']"
   ]
  },
  {
   "cell_type": "markdown",
   "id": "6d9b98e4-d3b2-4ac0-9fcc-ae9917764892",
   "metadata": {},
   "source": [
    "2. Tuples - count(), index()"
   ]
  },
  {
   "cell_type": "code",
   "execution_count": 155,
   "id": "93e24da6-b34e-4325-b145-a70bd9183d62",
   "metadata": {},
   "outputs": [
    {
     "name": "stdout",
     "output_type": "stream",
     "text": [
      "1\n",
      "1\n"
     ]
    }
   ],
   "source": [
    "colors = (\"red\", \"green\", \"blue\")\n",
    "\n",
    "# Count occurrences of an item\n",
    "print(colors.count(\"red\"))  # Output: 1\n",
    "\n",
    "# Find the index of the first occurrence of an item\n",
    "print(colors.index(\"green\"))  # Output: 1"
   ]
  },
  {
   "cell_type": "markdown",
   "id": "54eaabe1-19d8-4cda-b800-3d1f38a3a9f8",
   "metadata": {},
   "source": [
    "3. Sets - add(), remove(), discard(), union(), intersection()"
   ]
  },
  {
   "cell_type": "code",
   "execution_count": 158,
   "id": "b789e358-3b77-44f0-9139-05bdd54d762c",
   "metadata": {},
   "outputs": [
    {
     "name": "stdout",
     "output_type": "stream",
     "text": [
      "{1, 2, 3, 4, 5, 6}\n",
      "{1, 2, 4, 5, 6}\n",
      "{1, 2, 4, 5, 6, 7, 8}\n",
      "{5, 6}\n"
     ]
    }
   ],
   "source": [
    "numbers = {1, 2, 3, 4, 5}\n",
    "\n",
    "# add(item): Adds an item to the set.\n",
    "numbers.add(6)\n",
    "print(numbers)  # Output: {1, 2, 3, 4, 5, 6}\n",
    "\n",
    "# Remove an item\n",
    "numbers.remove(3)\n",
    "print(numbers)  # Output: {1, 2, 4, 5, 6}\n",
    "\n",
    "# Discard an item (no error if the item is not present)\n",
    "numbers.discard(10)  # Does not raise an error\n",
    "\n",
    "# Union with another set\n",
    "other_numbers = {5, 6, 7, 8}\n",
    "combined = numbers.union(other_numbers)\n",
    "print(combined)  # Output: {1, 2, 4, 5, 6, 7, 8}\n",
    "\n",
    "# Intersection with another set\n",
    "intersection = numbers.intersection(other_numbers)\n",
    "print(intersection)  # Output: {5, 6}"
   ]
  },
  {
   "cell_type": "markdown",
   "id": "71d206c6-3f1c-4774-be19-19a3d97dac39",
   "metadata": {},
   "source": [
    "4. Dictionaries - get(), keys(), values(), items(), update(), pop()"
   ]
  },
  {
   "cell_type": "code",
   "execution_count": 162,
   "id": "6f2c3e97-ca3d-43a4-a1d6-09986f444c9e",
   "metadata": {},
   "outputs": [],
   "source": [
    "person = {\n",
    "    \"name\": \"Alice\",\n",
    "    \"age\": 30,\n",
    "    \"city\": \"New York\"\n",
    "}"
   ]
  },
  {
   "cell_type": "code",
   "execution_count": 164,
   "id": "77ea1329-f632-4578-8664-8f9aaf3ccb03",
   "metadata": {},
   "outputs": [
    {
     "name": "stdout",
     "output_type": "stream",
     "text": [
      "Alice\n",
      "Not specified\n",
      "dict_keys(['name', 'age', 'city'])\n",
      "dict_values(['Alice', 30, 'New York'])\n",
      "dict_items([('name', 'Alice'), ('age', 30), ('city', 'New York')])\n",
      "{'name': 'Alice', 'age': 31, 'city': 'New York', 'gender': 'Female'}\n",
      "31\n",
      "{'name': 'Alice', 'city': 'New York', 'gender': 'Female'}\n"
     ]
    }
   ],
   "source": [
    "# get(key, default): Returns the value for the specified key. If the key is not found, it returns the default value.\n",
    "print(person.get(\"name\"))  # Output: Alice\n",
    "print(person.get(\"gender\", \"Not specified\"))  # Output: Not specified\n",
    "\n",
    "# keys(): Returns a view of all keys in the dictionary.\n",
    "print(person.keys())  # Output: dict_keys(['name', 'age', 'city'])\n",
    "\n",
    "# values(): Returns a view of all values in the dictionary.\n",
    "print(person.values())  # Output: dict_values(['Alice', 30, 'New York'])\n",
    "\n",
    "# items(): Returns a view of all key-value pairs in the dictionary.\n",
    "print(person.items())  # Output: dict_items([('name', 'Alice'), ('age', 30), ('city', 'New York')])\n",
    "\n",
    "# update(other_dict): Updates the dictionary with key-value pairs from another dictionary.\n",
    "person.update({\"age\": 31, \"gender\": \"Female\"})\n",
    "print(person)  # Output: {'name': 'Alice', 'age': 31, 'city': 'New York', 'gender': 'Female'}\n",
    "\n",
    "# pop(key): Removes the specified key and returns its value.\n",
    "age = person.pop(\"age\")\n",
    "print(age)      # Output: 31\n",
    "print(person)   # Output: {'name': 'Alice', 'city': 'New York', 'gender': 'Female'}\n"
   ]
  },
  {
   "cell_type": "code",
   "execution_count": null,
   "id": "1ab5a354-008c-4945-afa9-3c852dd48586",
   "metadata": {},
   "outputs": [],
   "source": []
  }
 ],
 "metadata": {
  "kernelspec": {
   "display_name": "Python 3 (ipykernel)",
   "language": "python",
   "name": "python3"
  },
  "language_info": {
   "codemirror_mode": {
    "name": "ipython",
    "version": 3
   },
   "file_extension": ".py",
   "mimetype": "text/x-python",
   "name": "python",
   "nbconvert_exporter": "python",
   "pygments_lexer": "ipython3",
   "version": "3.12.4"
  }
 },
 "nbformat": 4,
 "nbformat_minor": 5
}
