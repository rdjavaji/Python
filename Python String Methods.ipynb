{
 "cells": [
  {
   "cell_type": "markdown",
   "id": "1928afeb-724d-40ce-a724-46760902b568",
   "metadata": {},
   "source": [
    "# Python String Methods"
   ]
  },
  {
   "cell_type": "markdown",
   "id": "57bb0dc4-cdae-4e6f-84f5-d13ab2155ae5",
   "metadata": {},
   "source": [
    "# Manipulate strings using various built-in methods."
   ]
  },
  {
   "cell_type": "markdown",
   "id": "6132bb29-f810-4961-8347-4209c629636a",
   "metadata": {},
   "source": [
    "1. Creating string"
   ]
  },
  {
   "cell_type": "code",
   "execution_count": 5,
   "id": "9d9acd62-eba5-43d0-9e01-ad12a6a73a6b",
   "metadata": {},
   "outputs": [
    {
     "name": "stdout",
     "output_type": "stream",
     "text": [
      "Hello, World!\n"
     ]
    }
   ],
   "source": [
    "my_string = \"Hello, World!\"\n",
    "print(my_string) # Output: Hello, World!"
   ]
  },
  {
   "cell_type": "markdown",
   "id": "ca3dd79f-91ea-4c5f-84f7-a9b7e205f3ac",
   "metadata": {},
   "source": [
    "2. Accessing Characters"
   ]
  },
  {
   "cell_type": "code",
   "execution_count": 8,
   "id": "508ac357-e2a4-4419-8915-06a6e3328785",
   "metadata": {},
   "outputs": [
    {
     "name": "stdout",
     "output_type": "stream",
     "text": [
      "H !\n"
     ]
    }
   ],
   "source": [
    "# Accessing characters\n",
    "first_char = my_string[0] # 'H'\n",
    "last_char = my_string[-1] # '!'\n",
    "print(first_char, last_char)"
   ]
  },
  {
   "cell_type": "markdown",
   "id": "d8714333-f1d0-443d-9afe-be2b9c079c68",
   "metadata": {},
   "source": [
    "3. String Length"
   ]
  },
  {
   "cell_type": "code",
   "execution_count": 13,
   "id": "31fb28a8-66db-4569-b1fc-2ecd4dda1cf0",
   "metadata": {},
   "outputs": [
    {
     "name": "stdout",
     "output_type": "stream",
     "text": [
      "Length: 13\n"
     ]
    }
   ],
   "source": [
    "length = len(my_string) # 13\n",
    "print(\"Length:\", length)"
   ]
  },
  {
   "cell_type": "markdown",
   "id": "bde46bfa-79c0-45e1-a07e-b80d42e76ea5",
   "metadata": {},
   "source": [
    "4. Changing Case"
   ]
  },
  {
   "cell_type": "code",
   "execution_count": 16,
   "id": "6b080fde-1411-4c74-893e-6a87bdfa0380",
   "metadata": {},
   "outputs": [
    {
     "name": "stdout",
     "output_type": "stream",
     "text": [
      "HELLO, WORLD!\n",
      "hello, world!\n",
      "Hello, World!\n",
      "Hello, world!\n"
     ]
    }
   ],
   "source": [
    "# Changing case\n",
    "print(my_string.upper()) # Output: HELLO, WORLD!\n",
    "print(my_string.lower()) # Output: hello, world!\n",
    "print(my_string.title()) # Output: Hello, World!\n",
    "print(my_string.capitalize()) # Output: Hello, world!"
   ]
  },
  {
   "cell_type": "markdown",
   "id": "7e5dcf50-fc4d-44d0-a266-7e32c4955c12",
   "metadata": {},
   "source": [
    "5. Replacing Substrings"
   ]
  },
  {
   "cell_type": "code",
   "execution_count": 22,
   "id": "41351576-7a5a-4c18-af7c-b09081300b01",
   "metadata": {},
   "outputs": [
    {
     "name": "stdout",
     "output_type": "stream",
     "text": [
      "Hello, Python!\n"
     ]
    }
   ],
   "source": [
    "replaced_string = my_string.replace(\"World\", \"Python\")\n",
    "print(replaced_string) # Output: Hello, Python!"
   ]
  },
  {
   "cell_type": "markdown",
   "id": "bd58c5a9-b12f-4891-a033-f27e0cb2b3c8",
   "metadata": {},
   "source": [
    "6. Splitting and Joining Strings"
   ]
  },
  {
   "cell_type": "code",
   "execution_count": 25,
   "id": "5d1e0be3-a61e-4bae-97be-b9b51dab0f27",
   "metadata": {},
   "outputs": [
    {
     "name": "stdout",
     "output_type": "stream",
     "text": [
      "['Hello', 'World!']\n",
      "Hello - World!\n"
     ]
    }
   ],
   "source": [
    "words = my_string.split(\", \") # ['Hello', 'World!']\n",
    "print(words)\n",
    "\n",
    "# Joining a list into a string\n",
    "\n",
    "joined_string = \" - \".join(words) # Hello - World!\n",
    "print(joined_string)"
   ]
  },
  {
   "cell_type": "markdown",
   "id": "8a2b4b94-741a-494e-8800-ce19e20d050b",
   "metadata": {},
   "source": [
    "7. Finding Substrings"
   ]
  },
  {
   "cell_type": "code",
   "execution_count": 30,
   "id": "f30af639-fb00-4d62-9dba-96c212c12426",
   "metadata": {},
   "outputs": [
    {
     "name": "stdout",
     "output_type": "stream",
     "text": [
      "Position of 'World': 7\n",
      "Substring not found.\n"
     ]
    }
   ],
   "source": [
    "position = my_string.find(\"World\") # 7\n",
    "print(\"Position of 'World':\", position)\n",
    "\n",
    "# Using index() will raise an error if not found\n",
    "try:\n",
    "    index_position = my_string.index(\"Python\") # Raises ValueError\n",
    "except ValueError:\n",
    "    print(\"Substring not found.\")"
   ]
  },
  {
   "cell_type": "markdown",
   "id": "148c3a14-ebf1-4bf7-909b-12ba13c6b62c",
   "metadata": {},
   "source": [
    "9. Checking String Contents"
   ]
  },
  {
   "cell_type": "code",
   "execution_count": 33,
   "id": "6f1aae14-dc9a-49b6-8620-4fb7c2270ccb",
   "metadata": {},
   "outputs": [
    {
     "name": "stdout",
     "output_type": "stream",
     "text": [
      "True\n",
      "True\n",
      "True\n"
     ]
    }
   ],
   "source": [
    "alpha_string = \"Hello\"\n",
    "digit_string = \"12345\"\n",
    "alphanumeric_string = \"Hello123\"\n",
    "\n",
    "print(alpha_string.isalpha()) # True\n",
    "print(digit_string.isdigit()) # True\n",
    "print(alphanumeric_string.isalnum()) # True"
   ]
  },
  {
   "cell_type": "markdown",
   "id": "694bab48-b858-4c81-955f-65d4bba264c8",
   "metadata": {},
   "source": [
    "10. Formatting Strings"
   ]
  },
  {
   "cell_type": "code",
   "execution_count": 36,
   "id": "4eecb66a-fbba-4f76-91ed-a94c45b5f00c",
   "metadata": {},
   "outputs": [
    {
     "name": "stdout",
     "output_type": "stream",
     "text": [
      "Alice is 30 years old.\n",
      "Alice is 30 years old.\n",
      "Alice is 30 years old.\n"
     ]
    }
   ],
   "source": [
    "name = \"Alice\"\n",
    "age = 30\n",
    "\n",
    "# Using f-strings (Python 3.6+)\n",
    "formatted_string = f\"{name} is {age} years old.\"\n",
    "print(formatted_string)\n",
    "\n",
    "# Using format()\n",
    "formatted_string_format = \"{} is {} years old.\".format(name, age)\n",
    "print(formatted_string_format)\n",
    "\n",
    "# Using % operator\n",
    "formatted_string_percent = \"%s is %d years old.\" % (name, age)\n",
    "print(formatted_string_percent)"
   ]
  },
  {
   "cell_type": "markdown",
   "id": "531a419a-f471-4084-a7a8-69bf69abad5a",
   "metadata": {},
   "source": [
    "11. Checking String Start and End"
   ]
  },
  {
   "cell_type": "code",
   "execution_count": 39,
   "id": "1b4169e9-647b-4783-bca7-55e01c4130d5",
   "metadata": {},
   "outputs": [
    {
     "name": "stdout",
     "output_type": "stream",
     "text": [
      "True\n",
      "True\n"
     ]
    }
   ],
   "source": [
    "print(my_string.startswith(\"Hello\")) # True\n",
    "print(my_string.endswith(\"!\")) # True"
   ]
  },
  {
   "cell_type": "markdown",
   "id": "f6ccc002-4a99-4104-9a44-653c9dc71223",
   "metadata": {},
   "source": [
    "12. Counting Substrings"
   ]
  },
  {
   "cell_type": "code",
   "execution_count": 42,
   "id": "be62d572-94f7-4148-9587-13eb25f2ea98",
   "metadata": {},
   "outputs": [
    {
     "name": "stdout",
     "output_type": "stream",
     "text": [
      "Count of 'o': 2\n"
     ]
    }
   ],
   "source": [
    "count = my_string.count(\"o\") # 2\n",
    "print(\"Count of 'o':\", count)"
   ]
  },
  {
   "cell_type": "markdown",
   "id": "d1876bb6-9ff7-4d6d-b53e-e945d639f3c3",
   "metadata": {},
   "source": [
    "# Perform operations like concatenation, slicing, finding substrings."
   ]
  },
  {
   "cell_type": "markdown",
   "id": "36035012-c4fa-4e7d-b2c4-40e5baa1b126",
   "metadata": {},
   "source": [
    "1. Concatenation"
   ]
  },
  {
   "cell_type": "code",
   "execution_count": 46,
   "id": "942b293d-d6fb-4059-a1eb-25659c96ed64",
   "metadata": {},
   "outputs": [
    {
     "name": "stdout",
     "output_type": "stream",
     "text": [
      "Hello, World!\n",
      "Hello World\n"
     ]
    }
   ],
   "source": [
    "# String concatenation\n",
    "string1 = \"Hello\"\n",
    "string2 = \"World\"\n",
    "\n",
    "# Using the + operator\n",
    "concatenated_string = string1 + \", \" + string2 + \"!\" # \"Hello, World!\"\n",
    "print(concatenated_string)\n",
    "\n",
    "# Using join() method\n",
    "joined_string = \" \".join([string1, string2]) # \"Hello World\"\n",
    "print(joined_string)"
   ]
  },
  {
   "cell_type": "markdown",
   "id": "40a33e1c-d172-4f00-b489-62f77aa81dd8",
   "metadata": {},
   "source": [
    "2. Slicing"
   ]
  },
  {
   "cell_type": "code",
   "execution_count": 51,
   "id": "ef59bf80-864f-4c41-aa63-19487af4f7af",
   "metadata": {},
   "outputs": [
    {
     "name": "stdout",
     "output_type": "stream",
     "text": [
      "Hello World! Hello World!\n",
      "Hlo ol!\n"
     ]
    }
   ],
   "source": [
    "# Sample string\n",
    "my_string = \"Hello, World!\"\n",
    "\n",
    "# Slicing\n",
    "substring1 = my_string[0:5] # 'Hello' (from index 0 to 4)\n",
    "substring2 = my_string[7:] # 'World!' (from index 7 to end)\n",
    "substring3 = my_string[:5] # 'Hello' (from start to index 4)\n",
    "substring4 = my_string[-6:] # 'World!' (last 6 characters)\n",
    "print(substring1, substring2, substring3, substring4)\n",
    "\n",
    "# Slicing with step\n",
    "substring_step = my_string[::2] # 'Hlo ol!' (every second character)\n",
    "print(substring_step)"
   ]
  },
  {
   "cell_type": "markdown",
   "id": "018ca72d-4920-4964-99ef-f892493093b0",
   "metadata": {},
   "source": [
    "3. Finding Substrings"
   ]
  },
  {
   "cell_type": "code",
   "execution_count": 59,
   "id": "041418e9-7023-42bb-9d84-3ff91f40429b",
   "metadata": {},
   "outputs": [
    {
     "name": "stdout",
     "output_type": "stream",
     "text": [
      "Position of 'World': 7\n",
      "Index of 'World': 7\n",
      "Position of 'Python': -1\n",
      "Count of 'o': 2\n"
     ]
    }
   ],
   "source": [
    "# Sample string\n",
    "search_string = \"Hello, World!\"\n",
    "\n",
    "# Using find() method\n",
    "position = search_string.find(\"World\") # Returns the starting index (7)\n",
    "print(\"Position of 'World':\", position)\n",
    "\n",
    "# Using index() method\n",
    "try:\n",
    "    index_position = search_string.index(\"World\") # Returns the starting index (7)\n",
    "\n",
    "    print(\"Index of 'World':\", index_position)\n",
    "except ValueError:\n",
    "    print(\"'World' not found.\")\n",
    "\n",
    "# Searching for a non-existent substring\n",
    "not_found_position = search_string.find(\"Python\") # Returns -1\n",
    "print(\"Position of 'Python':\", not_found_position)\n",
    "\n",
    "# Using count() to count occurrences\n",
    "count_occurrences = search_string.count(\"o\") # 2\n",
    "print(\"Count of 'o':\", count_occurrences)"
   ]
  },
  {
   "cell_type": "markdown",
   "id": "ba5d7479-4fc4-4c9e-8127-cd7697a3b952",
   "metadata": {},
   "source": [
    "# Convert strings to uppercase, lowercase, and title case."
   ]
  },
  {
   "cell_type": "markdown",
   "id": "259af6c0-83aa-408e-b0bf-668ff4f2b6ca",
   "metadata": {},
   "source": [
    "1. Uppercase Conversion"
   ]
  },
  {
   "cell_type": "code",
   "execution_count": 63,
   "id": "7a01de27-3ec2-441a-832a-c4a4feb4d576",
   "metadata": {},
   "outputs": [
    {
     "name": "stdout",
     "output_type": "stream",
     "text": [
      "Uppercase: HELLO, WORLD!\n"
     ]
    }
   ],
   "source": [
    "# Sample string\n",
    "my_string = \"Hello, World!\"\n",
    "\n",
    "# Convert to uppercase\n",
    "uppercase_string = my_string.upper()\n",
    "print(\"Uppercase:\", uppercase_string) # Output: \"HELLO, WORLD!\""
   ]
  },
  {
   "cell_type": "markdown",
   "id": "4bbe469f-edbe-499a-84f3-3a1d6efdb9e1",
   "metadata": {},
   "source": [
    "2. Lowercase Conversion"
   ]
  },
  {
   "cell_type": "code",
   "execution_count": 66,
   "id": "9c8b3050-e041-441e-ab0b-7344b42051ce",
   "metadata": {},
   "outputs": [
    {
     "name": "stdout",
     "output_type": "stream",
     "text": [
      "Lowercase: hello, world!\n"
     ]
    }
   ],
   "source": [
    "lowercase_string = my_string.lower()\n",
    "print(\"Lowercase:\", lowercase_string) # Output: \"hello, world!\""
   ]
  },
  {
   "cell_type": "markdown",
   "id": "66585f3e-9b15-46a4-a47c-d4027f8c6867",
   "metadata": {},
   "source": [
    "3. Title Case Conversion"
   ]
  },
  {
   "cell_type": "code",
   "execution_count": 69,
   "id": "0420a963-d409-4a01-aeb9-8ae301d99daf",
   "metadata": {},
   "outputs": [
    {
     "name": "stdout",
     "output_type": "stream",
     "text": [
      "Title Case: Hello, World!\n"
     ]
    }
   ],
   "source": [
    "# Convert to title case\n",
    "titlecase_string = my_string.title()\n",
    "print(\"Title Case:\", titlecase_string) # Output: \"Hello, World!\""
   ]
  },
  {
   "cell_type": "code",
   "execution_count": 71,
   "id": "882af925-0629-4434-91cf-63bd3c737241",
   "metadata": {},
   "outputs": [
    {
     "name": "stdout",
     "output_type": "stream",
     "text": [
      "Uppercase: PYTHON PROGRAMMING\n",
      "Lowercase: welcome to the jungle\n",
      "Title Case: Python Programming\n",
      "Title Case: Welcome To The Jungle\n"
     ]
    }
   ],
   "source": [
    "# Complete Example\n",
    "\n",
    "# Sample strings\n",
    "str1 = \"python programming\"\n",
    "str2 = \"welcome to the jungle\"\n",
    "\n",
    "# Uppercase\n",
    "print(\"Uppercase:\", str1.upper()) # Output: \"PYTHON PROGRAMMING\"\n",
    "\n",
    "# Lowercase\n",
    "print(\"Lowercase:\", str2.lower()) # Output: \"welcome to the jungle\"\n",
    "\n",
    "# Title Case\n",
    "print(\"Title Case:\", str1.title()) # Output: \"Python Programming\"\n",
    "print(\"Title Case:\", str2.title()) # Output: \"Welcome To The Jungle\""
   ]
  },
  {
   "cell_type": "markdown",
   "id": "0755c505-9942-4352-8fd5-b51a4bb6736a",
   "metadata": {},
   "source": [
    "# Remove whitespace and split strings."
   ]
  },
  {
   "cell_type": "markdown",
   "id": "ea48e8cf-29de-43d0-a84d-b14cf00c7554",
   "metadata": {},
   "source": [
    "1. Removing Whitespace"
   ]
  },
  {
   "cell_type": "code",
   "execution_count": 75,
   "id": "a16661ec-ba20-4957-8875-678899f160ed",
   "metadata": {},
   "outputs": [
    {
     "name": "stdout",
     "output_type": "stream",
     "text": [
      "Stripped: Hello, World!\n",
      "Left Stripped: Hello, World! \n",
      "Right Stripped:  Hello, World!\n"
     ]
    }
   ],
   "source": [
    "# Sample string with leading and trailing whitespace\n",
    "whitespace_string = \" Hello, World! \"\n",
    "\n",
    "# Remove leading and trailing whitespace\n",
    "stripped_string = whitespace_string.strip()\n",
    "print(\"Stripped:\", stripped_string) # Output: \"Hello, World!\"\n",
    "\n",
    "# Remove leading whitespace\n",
    "left_stripped = whitespace_string.lstrip()\n",
    "print(\"Left Stripped:\", left_stripped) # Output: \"Hello, World! \"\n",
    "\n",
    "# Remove trailing whitespace\n",
    "right_stripped = whitespace_string.rstrip()\n",
    "print(\"Right Stripped:\", right_stripped) # Output: \" Hello, World!\""
   ]
  },
  {
   "cell_type": "markdown",
   "id": "214c487d-0fca-4c9c-9f29-a9eb06b1275f",
   "metadata": {},
   "source": [
    "2. Splitting Strings"
   ]
  },
  {
   "cell_type": "code",
   "execution_count": 78,
   "id": "d066c8e6-c088-4302-81d4-924f0e37175f",
   "metadata": {},
   "outputs": [
    {
     "name": "stdout",
     "output_type": "stream",
     "text": [
      "Words List: ['Hello,', 'World!', 'Welcome', 'to', 'Python.']\n",
      "Split by Comma: ['Hello', ' World! Welcome to Python.']\n",
      "Split by 'to': ['Hello, World! Welcome ', ' Python.']\n"
     ]
    }
   ],
   "source": [
    "# Sample string\n",
    "sample_string = \"Hello, World! Welcome to Python.\"\n",
    "\n",
    "# Split by whitespace (default behavior)\n",
    "words = sample_string.split()\n",
    "print(\"Words List:\", words)\n",
    "# Output: ['Hello,', 'World!', 'Welcome', 'to', 'Python.']\n",
    "\n",
    "# Split by a specific delimiter (e.g., ',')\n",
    "split_by_comma = sample_string.split(',')\n",
    "print(\"Split by Comma:\", split_by_comma)\n",
    "# Output: ['Hello', ' World! Welcome to Python.']\n",
    "\n",
    "# Split by a specific substring (e.g., 'to')\n",
    "split_by_to = sample_string.split('to')\n",
    "print(\"Split by 'to':\", split_by_to)\n",
    "# Output: ['Hello, World! Welc', 'me ', ' Python.']"
   ]
  },
  {
   "cell_type": "code",
   "execution_count": 80,
   "id": "e77043f2-a332-4a68-8b26-9e5a0d391d80",
   "metadata": {},
   "outputs": [
    {
     "name": "stdout",
     "output_type": "stream",
     "text": [
      "Cleaned Text: Python is great for data analysis.\n",
      "Words List: ['Python', 'is', 'great', 'for', 'data', 'analysis.']\n"
     ]
    }
   ],
   "source": [
    "# Complete Example\n",
    "# Sample string with extra spaces\n",
    "text = \" Python is great for data analysis. \"\n",
    "# Remove whitespace\n",
    "cleaned_text = text.strip()\n",
    "print(\"Cleaned Text:\", cleaned_text) # Output: \"Python is great for data analysi\n",
    "# Split the cleaned text into words\n",
    "words_list = cleaned_text.split()\n",
    "print(\"Words List:\", words_list)\n",
    "# Output: ['Python', 'is', 'great', 'for', 'data', 'analysis.']"
   ]
  },
  {
   "cell_type": "code",
   "execution_count": null,
   "id": "c1edc5f4-2215-43d3-bc3c-8e0adbe1f81f",
   "metadata": {},
   "outputs": [],
   "source": []
  }
 ],
 "metadata": {
  "kernelspec": {
   "display_name": "Python 3 (ipykernel)",
   "language": "python",
   "name": "python3"
  },
  "language_info": {
   "codemirror_mode": {
    "name": "ipython",
    "version": 3
   },
   "file_extension": ".py",
   "mimetype": "text/x-python",
   "name": "python",
   "nbconvert_exporter": "python",
   "pygments_lexer": "ipython3",
   "version": "3.12.4"
  }
 },
 "nbformat": 4,
 "nbformat_minor": 5
}
