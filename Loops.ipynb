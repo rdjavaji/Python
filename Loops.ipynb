{
 "cells": [
  {
   "cell_type": "markdown",
   "id": "76985f54-b405-4a26-86f1-3222089ef9ef",
   "metadata": {},
   "source": [
    "# Loops"
   ]
  },
  {
   "cell_type": "markdown",
   "id": "8339b6a8-3196-4eb7-8395-f8abc4d6ea1c",
   "metadata": {},
   "source": [
    "# Use for loops to iterate over sequences"
   ]
  },
  {
   "cell_type": "markdown",
   "id": "5faf9fc0-b129-449e-8683-5f6425c21fe4",
   "metadata": {},
   "source": [
    "1: Iterating Over a List"
   ]
  },
  {
   "cell_type": "code",
   "execution_count": 11,
   "id": "e74fc71c-cb7a-428b-aa79-69b823f55f16",
   "metadata": {},
   "outputs": [
    {
     "name": "stdout",
     "output_type": "stream",
     "text": [
      "Iterating over a list:\n",
      "1\n",
      "2\n",
      "3\n",
      "4\n",
      "5\n"
     ]
    }
   ],
   "source": [
    "# List of numbers\n",
    "numbers = [1, 2, 3, 4, 5]\n",
    "\n",
    "# Printing a header for clarity\n",
    "print(\"Iterating over a list:\")\n",
    "\n",
    "# Looping through each number in the list\n",
    "for number in numbers:\n",
    "    print(number)  # Print each number"
   ]
  },
  {
   "cell_type": "markdown",
   "id": "81e24030-00f1-4d15-a5d3-ff8862466ecd",
   "metadata": {},
   "source": [
    "2: Iterating Over a String"
   ]
  },
  {
   "cell_type": "code",
   "execution_count": 14,
   "id": "33d31ed8-8896-434f-ab45-59f42bfbb805",
   "metadata": {},
   "outputs": [
    {
     "name": "stdout",
     "output_type": "stream",
     "text": [
      "\n",
      "Iterating over a string (in uppercase):\n",
      "H\n",
      "A\n",
      "P\n",
      "P\n",
      "Y\n",
      ",\n",
      " \n",
      "W\n",
      "E\n",
      "E\n",
      "K\n",
      "E\n",
      "N\n",
      "D\n",
      "!\n"
     ]
    }
   ],
   "source": [
    "message = \"Happy, Weekend!\"\n",
    "\n",
    "print(\"\\nIterating over a string (in uppercase):\")\n",
    "for char in message:\n",
    "    print(char.upper())  # Print each character in uppercase"
   ]
  },
  {
   "cell_type": "markdown",
   "id": "aa1b7a33-1b4e-428c-b778-8f6b3864611a",
   "metadata": {},
   "source": [
    "3: Iterating Over a Tuple"
   ]
  },
  {
   "cell_type": "code",
   "execution_count": 17,
   "id": "e589cf06-7581-4f61-aba5-63136e17b1ad",
   "metadata": {},
   "outputs": [
    {
     "name": "stdout",
     "output_type": "stream",
     "text": [
      "\n",
      "Iterating over a tuple:\n",
      "apple\n",
      "banana\n",
      "cherry\n"
     ]
    }
   ],
   "source": [
    "# Define a tuple of fruits\n",
    "fruits = (\"apple\", \"banana\", \"cherry\")\n",
    "\n",
    "# Printing a header for clarity\n",
    "print(\"\\nIterating over a tuple:\")\n",
    "\n",
    "# Looping through each element in the tuple\n",
    "for fruit in fruits:\n",
    "    print(fruit)  # Print each fruit"
   ]
  },
  {
   "cell_type": "markdown",
   "id": "e208faf1-89e7-4e4f-b53e-5ab60ff86113",
   "metadata": {},
   "source": [
    "4: Iterating Over a Dictionary"
   ]
  },
  {
   "cell_type": "code",
   "execution_count": 21,
   "id": "79336612-a3b2-4eed-b76b-96ea6da2165a",
   "metadata": {},
   "outputs": [
    {
     "name": "stdout",
     "output_type": "stream",
     "text": [
      "\n",
      "Iterating over a dictionary:\n",
      "Alice: 85\n",
      "Bob: 90\n",
      "Charlie: 78\n"
     ]
    }
   ],
   "source": [
    "# Define a dictionary of student grades\n",
    "student_grades = {\n",
    "    \"Alice\": 85,\n",
    "    \"Bob\": 90,\n",
    "    \"Charlie\": 78\n",
    "}\n",
    "\n",
    "# Printing a header for clarity\n",
    "print(\"\\nIterating over a dictionary:\")\n",
    "\n",
    "# Looping through each key-value pair in the dictionary\n",
    "for student, grade in student_grades.items():\n",
    "    print(f\"{student}: {grade}\")  # Print the student's name and grade"
   ]
  },
  {
   "cell_type": "markdown",
   "id": "79b5b080-11ca-449b-85fc-e3e409bd0783",
   "metadata": {},
   "source": [
    "5: Using range() with a for Loopprint(\"\\nUsing range() to iterate:\") for i in range(5): # This will iterate from 0 to 4 print(i) 6:\n",
    "Nested For Loops"
   ]
  },
  {
   "cell_type": "code",
   "execution_count": 24,
   "id": "47a73d44-c25b-47d5-9faf-7f0e7352c466",
   "metadata": {},
   "outputs": [
    {
     "name": "stdout",
     "output_type": "stream",
     "text": [
      "\n",
      "Iterating over a matrix:\n",
      "1 2 3 \n",
      "4 5 6 \n",
      "7 8 9 \n"
     ]
    }
   ],
   "source": [
    "# Define a 2D list (matrix)\n",
    "matrix = [\n",
    "    [1, 2, 3],\n",
    "    [4, 5, 6],\n",
    "    [7, 8, 9]\n",
    "]\n",
    "\n",
    "# Printing a header for clarity\n",
    "print(\"\\nIterating over a matrix:\")\n",
    "\n",
    "# Looping through each row in the matrix\n",
    "for row in matrix:\n",
    "    # Looping through each element in the current row\n",
    "    for element in row:\n",
    "        print(element, end=' ')  # Print the element followed by a space\n",
    "    print()  # Print a newline after each row"
   ]
  },
  {
   "cell_type": "markdown",
   "id": "a93b3a68-cb8a-4d1a-a5c5-6b26fd83c6ca",
   "metadata": {},
   "source": [
    "# Employ while loops for indefinite iteration."
   ]
  },
  {
   "cell_type": "markdown",
   "id": "620b3131-da5e-4612-a805-38788577a5dd",
   "metadata": {},
   "source": [
    "1: Basic Counter"
   ]
  },
  {
   "cell_type": "code",
   "execution_count": 29,
   "id": "a87c6cb7-b81c-4030-9a11-244785d53a28",
   "metadata": {},
   "outputs": [
    {
     "name": "stdout",
     "output_type": "stream",
     "text": [
      "Counting from 1 to 5:\n",
      "1\n",
      "2\n",
      "3\n",
      "4\n",
      "5\n"
     ]
    }
   ],
   "source": [
    "count = 1\n",
    "\n",
    "print(\"Counting from 1 to 5:\")\n",
    "while count <= 5:\n",
    "   print(count)\n",
    "   count += 1"
   ]
  },
  {
   "cell_type": "markdown",
   "id": "f6392d99-18be-4231-ab00-21f6c3abb628",
   "metadata": {},
   "source": [
    "2: User Input Validation"
   ]
  },
  {
   "cell_type": "code",
   "execution_count": 32,
   "id": "688f3b8e-3e82-4067-8431-32fde13640af",
   "metadata": {},
   "outputs": [
    {
     "name": "stdin",
     "output_type": "stream",
     "text": [
      "Do you want to continue? (yes/no):  yes\n"
     ]
    },
    {
     "name": "stdout",
     "output_type": "stream",
     "text": [
      "Thank you for confirming!\n"
     ]
    }
   ],
   "source": [
    "# Initialize an empty string for user input\n",
    "user_input = \"\"\n",
    "\n",
    "# Start a loop that will continue until the user inputs \"yes\"\n",
    "while user_input.lower() != \"yes\":\n",
    "    # Prompt the user for input\n",
    "    user_input = input(\"Do you want to continue? (yes/no): \")\n",
    "\n",
    "# Once the loop ends, print a thank you message\n",
    "print(\"Thank you for confirming!\")"
   ]
  },
  {
   "cell_type": "markdown",
   "id": "e05b7fa2-1b8d-4047-9a42-1f09587d7d08",
   "metadata": {},
   "source": [
    "3: Summing Numbers"
   ]
  },
  {
   "cell_type": "code",
   "execution_count": 37,
   "id": "609469fc-9a65-4bc1-ab43-4a7bd061b6ec",
   "metadata": {},
   "outputs": [
    {
     "name": "stdout",
     "output_type": "stream",
     "text": [
      "Enter numbers to sum them up (enter a negative number to stop):\n"
     ]
    },
    {
     "name": "stdin",
     "output_type": "stream",
     "text": [
      "Enter a number:  2\n",
      "Enter a number:  1\n",
      "Enter a number:  5\n",
      "Enter a number:  -4\n"
     ]
    },
    {
     "name": "stdout",
     "output_type": "stream",
     "text": [
      "The total sum is: 8\n"
     ]
    }
   ],
   "source": [
    "total = 0  # Initialize total sum to 0\n",
    "number = 0  # Initialize number to 0 (this will be updated in the loop)\n",
    "\n",
    "print(\"Enter numbers to sum them up (enter a negative number to stop):\")\n",
    "\n",
    "# The loop continues as long as number is non-negative\n",
    "while number >= 0:\n",
    "    number = int(input(\"Enter a number: \"))  # Get user input and convert it to an integer\n",
    "    if number >= 0:  # Check if the number is non-negative\n",
    "        total += number  # Add the number to total if it's non-negative\n",
    "\n",
    "# After the loop ends (when a negative number is entered), print the total sum\n",
    "print(f\"The total sum is: {total}\")"
   ]
  },
  {
   "cell_type": "markdown",
   "id": "e9d2b6bb-dc0a-4479-8ab6-51896ac93d7a",
   "metadata": {},
   "source": [
    "4: Infinite Loop with Break"
   ]
  },
  {
   "cell_type": "code",
   "execution_count": 40,
   "id": "ee8bec87-b610-48c6-b12e-f95211bdbccc",
   "metadata": {},
   "outputs": [
    {
     "name": "stdin",
     "output_type": "stream",
     "text": [
      "Enter 'exit' to quit:  exit\n"
     ]
    },
    {
     "name": "stdout",
     "output_type": "stream",
     "text": [
      "Exiting the loop.\n"
     ]
    }
   ],
   "source": [
    "while True:\n",
    "    command = input(\"Enter 'exit' to quit: \")\n",
    "    if command.lower() == \"exit\":\n",
    "        print(\"Exiting the loop.\")\n",
    "        break  # Exit the loop\n",
    "    else:\n",
    "        print(\"You entered:\", command)"
   ]
  },
  {
   "cell_type": "markdown",
   "id": "9c130aa9-4ec8-41ef-bdb4-0755c63c80dd",
   "metadata": {},
   "source": [
    "5: Guessing Game"
   ]
  },
  {
   "cell_type": "code",
   "execution_count": 45,
   "id": "4eea25a5-e6cb-4260-8183-f8168eebd5c5",
   "metadata": {},
   "outputs": [
    {
     "name": "stdout",
     "output_type": "stream",
     "text": [
      "Guess the secret number between 1 and 10:\n"
     ]
    },
    {
     "name": "stdin",
     "output_type": "stream",
     "text": [
      "Enter your guess:  5\n"
     ]
    },
    {
     "name": "stdout",
     "output_type": "stream",
     "text": [
      "Too low! Try again.\n"
     ]
    },
    {
     "name": "stdin",
     "output_type": "stream",
     "text": [
      "Enter your guess:  9\n"
     ]
    },
    {
     "name": "stdout",
     "output_type": "stream",
     "text": [
      "Congratulations! You guessed it right!\n"
     ]
    }
   ],
   "source": [
    "import random\n",
    "\n",
    "secret_number = random.randint(1, 10)\n",
    "guess = 0\n",
    "\n",
    "print(\"Guess the secret number between 1 and 10:\")\n",
    "\n",
    "while guess != secret_number:\n",
    "    try:\n",
    "        guess = int(input(\"Enter your guess: \"))\n",
    "        if guess < secret_number:\n",
    "            print(\"Too low! Try again.\")\n",
    "        elif guess > secret_number:\n",
    "            print(\"Too high! Try again.\")\n",
    "        else:\n",
    "            print(\"Congratulations! You guessed it right!\")\n",
    "    except ValueError:\n",
    "        print(\"Please enter a valid integer.\")"
   ]
  },
  {
   "cell_type": "markdown",
   "id": "a3c0cd41-b658-4144-afff-f9a3663c46c4",
   "metadata": {},
   "source": [
    "# Implement nested loops."
   ]
  },
  {
   "cell_type": "markdown",
   "id": "6dcee0a4-3923-48f9-9473-f72ec5fd6fd3",
   "metadata": {},
   "source": [
    "1: Multiplication Table"
   ]
  },
  {
   "cell_type": "code",
   "execution_count": 53,
   "id": "9dde4fc9-5e2e-421b-b74d-06e74aba2c02",
   "metadata": {},
   "outputs": [
    {
     "name": "stdout",
     "output_type": "stream",
     "text": [
      "Multiplication Table:\n",
      " 1  2  3  4  5 \n",
      " 2  4  6  8 10 \n",
      " 3  6  9 12 15 \n",
      " 4  8 12 16 20 \n",
      " 5 10 15 20 25 \n"
     ]
    }
   ],
   "source": [
    "print(\"Multiplication Table:\")\n",
    "for i in range(1, 6):\n",
    "    for j in range(1, 6):\n",
    "        print(f\"{i * j:2}\", end=' ')  # Print the product, formatted to be right-aligned\n",
    "    print()  # Print a newline after each row"
   ]
  },
  {
   "cell_type": "code",
   "execution_count": 58,
   "id": "dcdea1ed-8e07-49fa-98ff-0ec1f5e26a27",
   "metadata": {},
   "outputs": [
    {
     "name": "stdout",
     "output_type": "stream",
     "text": [
      "Matrix Elements:\n",
      "1 2 3 \n",
      "4 5 6 \n",
      "7 8 9 \n"
     ]
    }
   ],
   "source": [
    "matrix = [\n",
    "    [1, 2, 3],\n",
    "    [4, 5, 6],\n",
    "    [7, 8, 9]\n",
    "]\n",
    "\n",
    "print(\"Matrix Elements:\")\n",
    "for row in matrix:\n",
    "    for element in row:\n",
    "        print(element, end=' ')\n",
    "    print()  # Print a newline after each row"
   ]
  },
  {
   "cell_type": "markdown",
   "id": "c6a2aa07-7c7f-4683-ab07-2e26bcab0984",
   "metadata": {},
   "source": [
    "2: Generating Combinations"
   ]
  },
  {
   "cell_type": "code",
   "execution_count": 60,
   "id": "f7336a85-bcd2-47bb-b934-3fe6d9741614",
   "metadata": {},
   "outputs": [
    {
     "name": "stdout",
     "output_type": "stream",
     "text": [
      "Fruit and Color Combinations:\n",
      "apple - red\n",
      "apple - yellow\n",
      "apple - green\n",
      "banana - red\n",
      "banana - yellow\n",
      "banana - green\n",
      "cherry - red\n",
      "cherry - yellow\n",
      "cherry - green\n"
     ]
    }
   ],
   "source": [
    "fruits = [\"apple\", \"banana\", \"cherry\"]\n",
    "colors = [\"red\", \"yellow\", \"green\"]\n",
    "\n",
    "print(\"Fruit and Color Combinations:\")\n",
    "for fruit in fruits:\n",
    "    for color in colors:\n",
    "        print(f\"{fruit} - {color}\")"
   ]
  },
  {
   "cell_type": "markdown",
   "id": "5d55389f-94d9-4488-865f-fc86ecf1da90",
   "metadata": {},
   "source": [
    "4: Nested While Loops"
   ]
  },
  {
   "cell_type": "code",
   "execution_count": 64,
   "id": "5b657d7b-c859-4e71-8a0f-f32f2bf54036",
   "metadata": {},
   "outputs": [
    {
     "name": "stdout",
     "output_type": "stream",
     "text": [
      "Star Pattern:\n",
      "* \n",
      "* * \n",
      "* * * \n",
      "* * * * \n",
      "* * * * * \n"
     ]
    }
   ],
   "source": [
    "rows = 5\n",
    "current_row = 1\n",
    "print(\"Star Pattern:\")\n",
    "while current_row <= rows:\n",
    "    current_star = 1\n",
    "    while current_star <= current_row:\n",
    "        print(\"*\", end=' ')\n",
    "        current_star += 1\n",
    "    print()  # Newline after each row\n",
    "    current_row += 1"
   ]
  },
  {
   "cell_type": "markdown",
   "id": "9ceaae3c-bdb3-425a-8d62-e97751fba658",
   "metadata": {},
   "source": [
    "5: Finding Common Elements"
   ]
  },
  {
   "cell_type": "code",
   "execution_count": 66,
   "id": "973163aa-0566-46c8-8ece-18a7bbfd7947",
   "metadata": {},
   "outputs": [
    {
     "name": "stdout",
     "output_type": "stream",
     "text": [
      "Common Elements:\n",
      "[4, 5]\n"
     ]
    }
   ],
   "source": [
    "list1 = [1, 2, 3, 4, 5]\n",
    "list2 = [4, 5, 6, 7, 8]\n",
    "common_elements = []\n",
    "\n",
    "print(\"Common Elements:\")\n",
    "for a in list1:\n",
    "    for b in list2:\n",
    "        if a == b:\n",
    "            common_elements.append(a)\n",
    "\n",
    "print(common_elements)"
   ]
  },
  {
   "cell_type": "markdown",
   "id": "81a39fad-1c70-4bae-9e71-bb8bd2f49542",
   "metadata": {},
   "source": [
    "# Utilize break and continue statements."
   ]
  },
  {
   "cell_type": "markdown",
   "id": "e997b9b6-48ca-4a25-8d68-6fceb6441268",
   "metadata": {},
   "source": [
    "1: Using break to Exit a Loop"
   ]
  },
  {
   "cell_type": "code",
   "execution_count": 74,
   "id": "7c200846-1212-4f9d-a940-ea5253cc7452",
   "metadata": {},
   "outputs": [
    {
     "name": "stdout",
     "output_type": "stream",
     "text": [
      "Finding first even number:\n",
      "The first even number is: 2\n"
     ]
    }
   ],
   "source": [
    "print(\"Finding first even number:\")\n",
    "for number in range(1, 11):\n",
    "    if number % 2 == 0:\n",
    "       print(f\"The first even number is: {number}\")\n",
    "       break"
   ]
  },
  {
   "cell_type": "markdown",
   "id": "06bb30f5-cca3-4867-93ba-04506d700a44",
   "metadata": {},
   "source": [
    "2: Using continue to Skip Iterations"
   ]
  },
  {
   "cell_type": "code",
   "execution_count": 77,
   "id": "827299b7-4f9a-45f6-b5ae-44fb4b7052a6",
   "metadata": {},
   "outputs": [
    {
     "name": "stdout",
     "output_type": "stream",
     "text": [
      "Skipping odd numbers:\n",
      "2\n",
      "4\n",
      "6\n",
      "8\n",
      "10\n"
     ]
    }
   ],
   "source": [
    "print(\"Skipping odd numbers:\")\n",
    "for number in range(1, 11):\n",
    "    if number % 2 != 0:\n",
    "       continue # Skip the rest of the loop for odd numbers\n",
    "    print(number)"
   ]
  },
  {
   "cell_type": "markdown",
   "id": "3dccfcc7-9b0c-4730-a6a9-6ef8c3624a27",
   "metadata": {},
   "source": [
    "3: Combining break and continue"
   ]
  },
  {
   "cell_type": "code",
   "execution_count": 81,
   "id": "04ab189f-71b8-4857-892f-23c062ea09d4",
   "metadata": {},
   "outputs": [
    {
     "name": "stdout",
     "output_type": "stream",
     "text": [
      "Finding numbers greater than 5, skipping 3:\n",
      "Found a number greater than 5: 6\n"
     ]
    }
   ],
   "source": [
    "print(\"Finding numbers greater than 5, skipping 3:\")\n",
    "for number in range(10):\n",
    "    if number == 3:\n",
    "        continue  # Skip number 3\n",
    "    if number > 5:\n",
    "        print(f\"Found a number greater than 5: {number}\")\n",
    "        break  # Exit the loop after finding the first number greater than 5"
   ]
  },
  {
   "cell_type": "markdown",
   "id": "213fdadc-7dbf-4f1f-b73d-03a3ffc27219",
   "metadata": {},
   "source": [
    "4: Using break in a While Loop"
   ]
  },
  {
   "cell_type": "code",
   "execution_count": 84,
   "id": "05eb523e-04ee-436a-836a-cc42ae97fd0f",
   "metadata": {},
   "outputs": [
    {
     "name": "stdout",
     "output_type": "stream",
     "text": [
      "Counting until 5:\n",
      "1\n",
      "2\n",
      "3\n",
      "4\n",
      "5\n"
     ]
    }
   ],
   "source": [
    "count = 0\n",
    "print(\"Counting until 5:\")\n",
    "while True:\n",
    "    count += 1\n",
    "    if count > 5:\n",
    "        break  # Exit the loop when count exceeds 5\n",
    "    print(count)"
   ]
  },
  {
   "cell_type": "markdown",
   "id": "15d932d1-5fbb-4688-80b4-b437c7d5b138",
   "metadata": {},
   "source": [
    "5: User Input with continue"
   ]
  },
  {
   "cell_type": "code",
   "execution_count": 86,
   "id": "d6832164-0ac3-489b-88e0-aab5c9fd48e4",
   "metadata": {},
   "outputs": [
    {
     "name": "stdout",
     "output_type": "stream",
     "text": [
      "Enter numbers (enter a negative number to stop):\n"
     ]
    },
    {
     "name": "stdin",
     "output_type": "stream",
     "text": [
      "Enter a number:  4\n"
     ]
    },
    {
     "name": "stdout",
     "output_type": "stream",
     "text": [
      "Processing even number: 4\n"
     ]
    },
    {
     "name": "stdin",
     "output_type": "stream",
     "text": [
      "Enter a number:  5\n"
     ]
    },
    {
     "name": "stdout",
     "output_type": "stream",
     "text": [
      "Skipping odd number.\n"
     ]
    },
    {
     "name": "stdin",
     "output_type": "stream",
     "text": [
      "Enter a number:  -2\n"
     ]
    },
    {
     "name": "stdout",
     "output_type": "stream",
     "text": [
      "Exiting loop.\n"
     ]
    }
   ],
   "source": [
    "print(\"Enter numbers (enter a negative number to stop):\")\n",
    "while True:\n",
    "    number = int(input(\"Enter a number: \"))\n",
    "    if number < 0:\n",
    "        print(\"Exiting loop.\")\n",
    "        break  # Exit the loop on negative input\n",
    "    if number % 2 != 0:\n",
    "        print(\"Skipping odd number.\")\n",
    "        continue  # Skip processing for odd numbers\n",
    "    print(f\"Processing even number: {number}\")"
   ]
  },
  {
   "cell_type": "code",
   "execution_count": null,
   "id": "019a4188-d20b-46e8-b2c0-22513f36fd6f",
   "metadata": {},
   "outputs": [],
   "source": []
  }
 ],
 "metadata": {
  "kernelspec": {
   "display_name": "Python 3 (ipykernel)",
   "language": "python",
   "name": "python3"
  },
  "language_info": {
   "codemirror_mode": {
    "name": "ipython",
    "version": 3
   },
   "file_extension": ".py",
   "mimetype": "text/x-python",
   "name": "python",
   "nbconvert_exporter": "python",
   "pygments_lexer": "ipython3",
   "version": "3.12.4"
  }
 },
 "nbformat": 4,
 "nbformat_minor": 5
}
