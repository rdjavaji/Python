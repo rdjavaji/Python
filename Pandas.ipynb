{
 "cells": [
  {
   "cell_type": "markdown",
   "id": "443d812c-740e-4b2e-9869-fc0826438d00",
   "metadata": {},
   "source": [
    "# Pandas"
   ]
  },
  {
   "cell_type": "markdown",
   "id": "2ca0b1fe-e947-4de7-acc1-c351fdfb7757",
   "metadata": {},
   "source": [
    "# Create Pandas Series and DataFrames."
   ]
  },
  {
   "cell_type": "markdown",
   "id": "28c11e22-9fae-48fb-8b6d-adacd42e4e9a",
   "metadata": {},
   "source": [
    "1. Creating a Pandas Series"
   ]
  },
  {
   "cell_type": "code",
   "execution_count": 6,
   "id": "5ac49948-d28e-4318-8f5d-924d064ce789",
   "metadata": {},
   "outputs": [
    {
     "name": "stdout",
     "output_type": "stream",
     "text": [
      "Pandas Series:\n",
      "0    10\n",
      "1    20\n",
      "2    30\n",
      "3    40\n",
      "4    50\n",
      "dtype: int64\n"
     ]
    }
   ],
   "source": [
    "# Importing Pandas\n",
    "import pandas as pd\n",
    "\n",
    "# Creating a Series from a list\n",
    "data = [10, 20, 30, 40, 50]\n",
    "series = pd.Series(data)\n",
    "\n",
    "print(\"Pandas Series:\")\n",
    "print(series)"
   ]
  },
  {
   "cell_type": "code",
   "execution_count": 8,
   "id": "639ea1eb-edc4-4c22-9ec3-fde2042ead1f",
   "metadata": {},
   "outputs": [
    {
     "name": "stdout",
     "output_type": "stream",
     "text": [
      "\n",
      "Pandas Series with Custom Index:\n",
      "a    10\n",
      "b    20\n",
      "c    30\n",
      "d    40\n",
      "e    50\n",
      "dtype: int64\n"
     ]
    }
   ],
   "source": [
    "# Creating a Series with a custom index\n",
    "index = ['a', 'b', 'c', 'd', 'e']\n",
    "series_with_index = pd.Series(data, index=index)\n",
    "\n",
    "print(\"\\nPandas Series with Custom Index:\")\n",
    "print(series_with_index)"
   ]
  },
  {
   "cell_type": "markdown",
   "id": "c4b5d258-4bb6-4b45-aee7-46e112e7ad77",
   "metadata": {},
   "source": [
    "2. Creating a Pandas DataFrame"
   ]
  },
  {
   "cell_type": "code",
   "execution_count": 17,
   "id": "88a3e631-e09c-4ba9-b6ba-a8cc138aa828",
   "metadata": {},
   "outputs": [
    {
     "name": "stdout",
     "output_type": "stream",
     "text": [
      "\n",
      "Pandas DataFrame from List of Lists:\n",
      "      Name  Age         City\n",
      "0    Alice   25     New York\n",
      "1      Bob   30  Los Angeles\n",
      "2  Charlie   35      Chicago\n"
     ]
    }
   ],
   "source": [
    "# Creating a list of lists\n",
    "data_list = [\n",
    "    ['Alice', 25, 'New York'],\n",
    "    ['Bob', 30, 'Los Angeles'],\n",
    "    ['Charlie', 35, 'Chicago']\n",
    "]\n",
    "\n",
    "# Creating a DataFrame from the list of lists\n",
    "df_from_list = pd.DataFrame(data_list, columns=['Name', 'Age', 'City'])\n",
    "\n",
    "# Printing the DataFrame\n",
    "print(\"\\nPandas DataFrame from List of Lists:\")\n",
    "print(df_from_list)"
   ]
  },
  {
   "cell_type": "markdown",
   "id": "a2451227-0c89-4bc7-87fd-4091d8521e85",
   "metadata": {},
   "source": [
    "3. Accessing Data in Series and DataFrames"
   ]
  },
  {
   "cell_type": "code",
   "execution_count": 20,
   "id": "afd8afd9-de71-41bc-853c-ff24635ca229",
   "metadata": {},
   "outputs": [
    {
     "name": "stdout",
     "output_type": "stream",
     "text": [
      "\n",
      "Element at index 'b': 20\n"
     ]
    }
   ],
   "source": [
    "# Accessing an element by index\n",
    "print(\"\\nElement at index 'b':\", series_with_index['b'])"
   ]
  },
  {
   "cell_type": "code",
   "execution_count": 22,
   "id": "712ee12f-7886-443e-97c3-e79f4065f8a0",
   "metadata": {},
   "outputs": [
    {
     "name": "stdout",
     "output_type": "stream",
     "text": [
      "\n",
      "Row at index 1:\n",
      "Name            Bob\n",
      "Age              30\n",
      "City    Los Angeles\n",
      "Name: 1, dtype: object\n"
     ]
    }
   ],
   "source": [
    "# Accessing a row by index\n",
    "print(\"\\nRow at index 1:\")\n",
    "print(df.loc[1])"
   ]
  },
  {
   "cell_type": "markdown",
   "id": "6e838317-0474-45d5-ba4f-7ff4f3dba117",
   "metadata": {},
   "source": [
    "4. Additional DataFrame Creation Methods"
   ]
  },
  {
   "cell_type": "code",
   "execution_count": 31,
   "id": "ed24bc86-4008-4088-a6c4-df2ab7a65b94",
   "metadata": {},
   "outputs": [
    {
     "name": "stdout",
     "output_type": "stream",
     "text": [
      "\n",
      "Pandas DataFrame with Random Data:\n",
      "          A         B         C         D\n",
      "0 -0.955162  0.467663  1.049015  1.126842\n",
      "1 -1.307570  0.083076 -1.844965  0.413410\n",
      "2  0.711443 -0.216711 -1.079776 -1.224930\n"
     ]
    }
   ],
   "source": [
    "import pandas as pd  # Import the pandas library\n",
    "import numpy as np   # Import the numpy library\n",
    "\n",
    "# Creating a DataFrame with random data\n",
    "random_data = pd.DataFrame(np.random.randn(3, 4), columns=['A', 'B', 'C', 'D'])\n",
    "\n",
    "# Printing the DataFrame with random data\n",
    "print(\"\\nPandas DataFrame with Random Data:\")\n",
    "print(random_data)"
   ]
  },
  {
   "cell_type": "markdown",
   "id": "3dceff50-31b7-435e-856a-e0b7fc26510e",
   "metadata": {},
   "source": [
    "# Load data from various file formats (CSV, Excel, etc.)."
   ]
  },
  {
   "cell_type": "code",
   "execution_count": 39,
   "id": "fc9050e5-eac9-4d31-8872-a56fad14adb6",
   "metadata": {},
   "outputs": [
    {
     "name": "stdout",
     "output_type": "stream",
     "text": [
      "Requirement already satisfied: pandas in c:\\users\\rajsh\\anaconda3\\lib\\site-packages (2.2.2)\n",
      "Requirement already satisfied: numpy>=1.26.0 in c:\\users\\rajsh\\anaconda3\\lib\\site-packages (from pandas) (1.26.4)\n",
      "Requirement already satisfied: python-dateutil>=2.8.2 in c:\\users\\rajsh\\anaconda3\\lib\\site-packages (from pandas) (2.9.0.post0)\n",
      "Requirement already satisfied: pytz>=2020.1 in c:\\users\\rajsh\\anaconda3\\lib\\site-packages (from pandas) (2024.1)\n",
      "Requirement already satisfied: tzdata>=2022.7 in c:\\users\\rajsh\\anaconda3\\lib\\site-packages (from pandas) (2023.3)\n",
      "Requirement already satisfied: six>=1.5 in c:\\users\\rajsh\\anaconda3\\lib\\site-packages (from python-dateutil>=2.8.2->pandas) (1.16.0)\n",
      "Note: you may need to restart the kernel to use updated packages.\n"
     ]
    }
   ],
   "source": [
    "pip install pandas"
   ]
  },
  {
   "cell_type": "code",
   "execution_count": 41,
   "id": "c998b26c-cf0e-4f6b-9e4c-e053f0dd8b16",
   "metadata": {},
   "outputs": [],
   "source": [
    "import pandas as pd"
   ]
  },
  {
   "cell_type": "markdown",
   "id": "7a472fbc-89b9-409e-bd26-73f5e1297106",
   "metadata": {},
   "source": [
    "1. Loading Data from a CSV File"
   ]
  },
  {
   "cell_type": "code",
   "execution_count": null,
   "id": "495ef51e-9748-4ece-8354-7da9cc380f9e",
   "metadata": {},
   "outputs": [],
   "source": [
    "df_csv = pd.read_csv('data.csv')\n",
    "print(\"Data Loaded from CSV:\")\n",
    "print(df_csv)"
   ]
  },
  {
   "cell_type": "markdown",
   "id": "e8575f91-5d40-480f-a45f-8008c5152477",
   "metadata": {},
   "source": [
    "2. Loading Data from an Excel File"
   ]
  },
  {
   "cell_type": "code",
   "execution_count": null,
   "id": "9892c2df-09a7-4752-9a17-3845b8b9a87d",
   "metadata": {},
   "outputs": [],
   "source": [
    "df_excel = pd.read_excel('data.xlsx')\n",
    "print(\"\\nData Loaded from Excel:\")\n",
    "print(df_excel)"
   ]
  },
  {
   "cell_type": "markdown",
   "id": "4834f304-252f-41a7-b6a9-a2e5a238d5b9",
   "metadata": {},
   "source": [
    "3. Loading Data from a JSON File"
   ]
  },
  {
   "cell_type": "code",
   "execution_count": null,
   "id": "61dcaaf9-ebe6-47de-8a90-a99cd6a43184",
   "metadata": {},
   "outputs": [],
   "source": [
    "df_json = pd.read_json('data.json')\n",
    "print(\"\\nData Loaded from JSON:\")\n",
    "print(df_json)"
   ]
  },
  {
   "cell_type": "markdown",
   "id": "a686bdfb-3ac7-423e-9b05-2f1f4bf0b647",
   "metadata": {},
   "source": [
    "4. Loading Data from a SQL Database"
   ]
  },
  {
   "cell_type": "code",
   "execution_count": null,
   "id": "13007aa6-90dd-4af7-be34-0a703f438539",
   "metadata": {},
   "outputs": [],
   "source": [
    "import sqlite3\n",
    "\n",
    "# Create a connection to the SQLite database\n",
    "conn = sqlite3.connect('example.db')\n",
    "\n",
    "# Load data from a SQL query\n",
    "df_sql = pd.read_sql_query('SELECT * FROM your_table_name', conn)\n",
    "print(\"\\nData Loaded from SQL Database:\")\n",
    "print(df_sql)\n",
    "\n",
    "# Don't forget to close the connection\n",
    "conn.close()"
   ]
  },
  {
   "cell_type": "markdown",
   "id": "d0d9d621-b3ed-4e0e-b35b-e76166f21d48",
   "metadata": {},
   "source": [
    "5. Loading Data from a Text File"
   ]
  },
  {
   "cell_type": "code",
   "execution_count": null,
   "id": "496fc90c-bedb-4a49-8cef-563f1b565de9",
   "metadata": {},
   "outputs": [],
   "source": [
    "df_txt = pd.read_csv('data.txt', delimiter='\\t')\n",
    "print(\"\\nData Loaded from Text File:\")\n",
    "print(df_txt)"
   ]
  },
  {
   "cell_type": "markdown",
   "id": "96cf6ca8-78e2-47a8-8e1b-2574ca5fa49d",
   "metadata": {},
   "source": [
    "# Perform data cleaning and manipulation tasks."
   ]
  },
  {
   "cell_type": "markdown",
   "id": "955aaea7-29e8-4b3d-97bf-359404247bd7",
   "metadata": {},
   "source": [
    "1. Creating a Sample DataFrame"
   ]
  },
  {
   "cell_type": "code",
   "execution_count": 63,
   "id": "75750a1a-a7b0-4533-8eb4-70052d460df3",
   "metadata": {},
   "outputs": [
    {
     "name": "stdout",
     "output_type": "stream",
     "text": [
      "Original DataFrame:\n",
      "      Name   Age         City    Salary\n",
      "0    Alice  25.0     New York   70000.0\n",
      "1      Bob  30.0  Los Angeles   80000.0\n",
      "2     None  35.0      Chicago       NaN\n",
      "3  Charlie   NaN         None  120000.0\n",
      "4    David  45.0      Houston   90000.0\n",
      "5   Edward  50.0      Phoenix   60000.0\n"
     ]
    }
   ],
   "source": [
    "data = {\n",
    "'Name': ['Alice', 'Bob', None, 'Charlie', 'David', 'Edward'],\n",
    "'Age': [25, 30, 35, None, 45, 50],\n",
    "'City': ['New York', 'Los Angeles', 'Chicago', None, 'Houston', 'Phoenix'],\n",
    "'Salary': [70000, 80000, None, 120000, 90000, 60000]\n",
    "}\n",
    "\n",
    "df = pd.DataFrame(data)\n",
    "print(\"Original DataFrame:\")\n",
    "print(df)"
   ]
  },
  {
   "cell_type": "markdown",
   "id": "2ad05947-d0cf-488a-924b-f2dea2927b8d",
   "metadata": {},
   "source": [
    "2. Handling Missing Values"
   ]
  },
  {
   "cell_type": "code",
   "execution_count": 70,
   "id": "5e5769a8-15d0-4b22-afd3-5ade6e648883",
   "metadata": {},
   "outputs": [
    {
     "name": "stdout",
     "output_type": "stream",
     "text": [
      "\n",
      "Missing Values:\n",
      "Name      1\n",
      "Age       1\n",
      "City      1\n",
      "Salary    1\n",
      "dtype: int64\n"
     ]
    }
   ],
   "source": [
    "# Check for missing values\n",
    "\n",
    "print(\"\\nMissing Values:\")\n",
    "print(df.isnull().sum())"
   ]
  },
  {
   "cell_type": "code",
   "execution_count": 72,
   "id": "d947d3d2-35ee-4d41-a3e5-10a1217cf66a",
   "metadata": {},
   "outputs": [
    {
     "name": "stdout",
     "output_type": "stream",
     "text": [
      "\n",
      "DataFrame after Dropping Rows with Missing Values:\n",
      "     Name   Age         City   Salary\n",
      "0   Alice  25.0     New York  70000.0\n",
      "1     Bob  30.0  Los Angeles  80000.0\n",
      "4   David  45.0      Houston  90000.0\n",
      "5  Edward  50.0      Phoenix  60000.0\n"
     ]
    }
   ],
   "source": [
    "# Dropping rows with any missing values\n",
    "\n",
    "df_dropped = df.dropna()\n",
    "print(\"\\nDataFrame after Dropping Rows with Missing Values:\")\n",
    "print(df_dropped)"
   ]
  },
  {
   "cell_type": "code",
   "execution_count": 76,
   "id": "40b0f198-a7bd-4f41-9a7c-2a70bcf5cd1f",
   "metadata": {},
   "outputs": [
    {
     "name": "stdout",
     "output_type": "stream",
     "text": [
      "\n",
      "DataFrame after Filling Missing Values:\n",
      "      Name   Age         City    Salary\n",
      "0    Alice  25.0     New York   70000.0\n",
      "1      Bob  30.0  Los Angeles   80000.0\n",
      "2     None  35.0      Chicago       NaN\n",
      "3  Charlie  37.0      Unknown  120000.0\n",
      "4    David  45.0      Houston   90000.0\n",
      "5   Edward  50.0      Phoenix   60000.0\n"
     ]
    }
   ],
   "source": [
    "# Filling missing values with a specified value\n",
    "df_filled = df.fillna({'Age': df['Age'].mean(), 'City': 'Unknown', 'Salary': df['Salary']})\n",
    "\n",
    "print(\"\\nDataFrame after Filling Missing Values:\")\n",
    "print(df_filled)       "
   ]
  },
  {
   "cell_type": "markdown",
   "id": "11076a4c-cd4c-4fca-b12c-13605aa233d7",
   "metadata": {},
   "source": [
    "3. Data Type Conversion"
   ]
  },
  {
   "cell_type": "code",
   "execution_count": 81,
   "id": "647f3fa6-6d98-4cab-84cc-dc8396a47e69",
   "metadata": {},
   "outputs": [
    {
     "name": "stdout",
     "output_type": "stream",
     "text": [
      "\n",
      "DataFrame after Converting Age to Integer:\n",
      "      Name  Age         City    Salary\n",
      "0    Alice   25     New York   70000.0\n",
      "1      Bob   30  Los Angeles   80000.0\n",
      "2     None   35      Chicago       NaN\n",
      "3  Charlie   37         None  120000.0\n",
      "4    David   45      Houston   90000.0\n",
      "5   Edward   50      Phoenix   60000.0\n"
     ]
    }
   ],
   "source": [
    "# Fill missing values in 'Age' with the mean and convert to integer\n",
    "df['Age'] = df['Age'].fillna(df['Age'].mean()).astype(int)\n",
    "\n",
    "# Printing the updated DataFrame\n",
    "print(\"\\nDataFrame after Converting Age to Integer:\")\n",
    "print(df)"
   ]
  },
  {
   "cell_type": "markdown",
   "id": "40660374-fa8f-408d-a5d9-147986c186dd",
   "metadata": {},
   "source": [
    "4. Renaming Columns"
   ]
  },
  {
   "cell_type": "code",
   "execution_count": 86,
   "id": "85ab9418-1fd9-4e71-a8bb-e63947618244",
   "metadata": {},
   "outputs": [
    {
     "name": "stdout",
     "output_type": "stream",
     "text": [
      "\n",
      "DataFrame after Renaming Columns:\n"
     ]
    }
   ],
   "source": [
    "# Renaming columns\n",
    "df.rename(columns={'City': 'Location', 'Salary': 'Annual Salary'}, inplace=True)\n",
    "\n",
    "print(\"\\nDataFrame after Renaming Columns:\")"
   ]
  },
  {
   "cell_type": "markdown",
   "id": "71d9ecf2-0810-4c4d-abe4-f9c5ea885450",
   "metadata": {},
   "source": [
    "5. Filtering Rows"
   ]
  },
  {
   "cell_type": "code",
   "execution_count": 89,
   "id": "05880215-101e-4ecb-93cf-cd939688d631",
   "metadata": {},
   "outputs": [
    {
     "name": "stdout",
     "output_type": "stream",
     "text": [
      "\n",
      "Filtered DataFrame (Age > 30):\n",
      "      Name  Age Location  Annual Salary\n",
      "2     None   35  Chicago            NaN\n",
      "3  Charlie   37     None       120000.0\n",
      "4    David   45  Houston        90000.0\n",
      "5   Edward   50  Phoenix        60000.0\n"
     ]
    }
   ],
   "source": [
    "# Filtering rows where Age is greater than 30\n",
    "filtered_df = df[df['Age'] > 30]\n",
    "\n",
    "print(\"\\nFiltered DataFrame (Age > 30):\")\n",
    "print(filtered_df)"
   ]
  },
  {
   "cell_type": "markdown",
   "id": "feec716c-b6c8-4e95-8352-31efb7c234f3",
   "metadata": {},
   "source": [
    "6. Adding New Columns"
   ]
  },
  {
   "cell_type": "code",
   "execution_count": 92,
   "id": "cf9edbb5-e832-4b0a-95ec-0e78c480a9c6",
   "metadata": {},
   "outputs": [
    {
     "name": "stdout",
     "output_type": "stream",
     "text": [
      "\n",
      "DataFrame after Adding Experience Column:\n",
      "      Name  Age     Location  Annual Salary  Experience\n",
      "0    Alice   25     New York        70000.0           3\n",
      "1      Bob   30  Los Angeles        80000.0           8\n",
      "2     None   35      Chicago            NaN          13\n",
      "3  Charlie   37         None       120000.0          15\n",
      "4    David   45      Houston        90000.0          23\n",
      "5   Edward   50      Phoenix        60000.0          28\n"
     ]
    }
   ],
   "source": [
    "# Adding a new column for experience\n",
    "df['Experience'] = df['Age'] - 22 # Assuming 22 is the starting age for work\n",
    "\n",
    "print(\"\\nDataFrame after Adding Experience Column:\")\n",
    "print(df)"
   ]
  },
  {
   "cell_type": "markdown",
   "id": "b45527d9-e285-4b4c-bed6-2888b0801d17",
   "metadata": {},
   "source": [
    "7. Grouping Data"
   ]
  },
  {
   "cell_type": "code",
   "execution_count": 95,
   "id": "78019fb3-2934-485c-ba3d-e1bc6188e473",
   "metadata": {},
   "outputs": [
    {
     "name": "stdout",
     "output_type": "stream",
     "text": [
      "\n",
      "Average Salary by Location:\n",
      "      Location  Annual Salary\n",
      "0      Chicago            NaN\n",
      "1      Houston        90000.0\n",
      "2  Los Angeles        80000.0\n",
      "3     New York        70000.0\n",
      "4      Phoenix        60000.0\n"
     ]
    }
   ],
   "source": [
    "# Grouping by City and calculating the average salary\n",
    "grouped_df = df.groupby('Location')['Annual Salary'].mean().reset_index()\n",
    "\n",
    "print(\"\\nAverage Salary by Location:\")\n",
    "print(grouped_df)"
   ]
  },
  {
   "cell_type": "markdown",
   "id": "7470924f-75da-4368-b761-ff03c6bf25ac",
   "metadata": {},
   "source": [
    "# Explore data analysis and visualization using Pandas."
   ]
  },
  {
   "cell_type": "markdown",
   "id": "414f55bd-62bc-42a8-a8d1-f256fb057f5e",
   "metadata": {},
   "source": [
    "1. Importing Required Libraries"
   ]
  },
  {
   "cell_type": "code",
   "execution_count": 99,
   "id": "59dca587-ea9e-466b-9de0-8aad473ac2e9",
   "metadata": {},
   "outputs": [],
   "source": [
    "import pandas as pd\n",
    "import matplotlib.pyplot as plt\n",
    "import seaborn as sns"
   ]
  },
  {
   "cell_type": "markdown",
   "id": "09f8fb17-cffb-48eb-bbe9-37fe49eea1fc",
   "metadata": {},
   "source": [
    "2. Creating a Sample DataFrame"
   ]
  },
  {
   "cell_type": "code",
   "execution_count": 102,
   "id": "af5529dd-eef1-4da3-bb9e-316403fc5575",
   "metadata": {},
   "outputs": [
    {
     "name": "stdout",
     "output_type": "stream",
     "text": [
      "Original DataFrame:\n",
      "      Name  Age         City  Salary\n",
      "0    Alice   25     New York   70000\n",
      "1      Bob   30  Los Angeles   80000\n",
      "2  Charlie   35      Chicago  120000\n",
      "3    David   40     New York  110000\n",
      "4   Edward   45  Los Angeles   90000\n",
      "5    Fiona   50      Chicago   95000\n"
     ]
    }
   ],
   "source": [
    "# data dictionary\n",
    "data = {\n",
    "    'Name': ['Alice', 'Bob', 'Charlie', 'David', 'Edward', 'Fiona'],\n",
    "    'Age': [25, 30, 35, 40, 45, 50],\n",
    "    'City': ['New York', 'Los Angeles', 'Chicago', 'New York', 'Los Angeles', 'Chicago'],\n",
    "    'Salary': [70000, 80000, 120000, 110000, 90000, 95000]\n",
    "}\n",
    "\n",
    "# Creating the DataFrame\n",
    "df = pd.DataFrame(data)\n",
    "\n",
    "# Printing the original DataFrame\n",
    "print(\"Original DataFrame:\")\n",
    "print(df)"
   ]
  },
  {
   "cell_type": "markdown",
   "id": "960e07b9-ad99-4e12-9057-bdf8484eb984",
   "metadata": {},
   "source": [
    "3. Descriptive Statistics"
   ]
  },
  {
   "cell_type": "code",
   "execution_count": 105,
   "id": "530a5cf4-5e67-418e-a023-1cc1a2f46804",
   "metadata": {},
   "outputs": [
    {
     "name": "stdout",
     "output_type": "stream",
     "text": [
      "\n",
      "Descriptive Statistics:\n",
      "             Age         Salary\n",
      "count   6.000000       6.000000\n",
      "mean   37.500000   94166.666667\n",
      "std     9.354143   18551.729479\n",
      "min    25.000000   70000.000000\n",
      "25%    31.250000   82500.000000\n",
      "50%    37.500000   92500.000000\n",
      "75%    43.750000  106250.000000\n",
      "max    50.000000  120000.000000\n"
     ]
    }
   ],
   "source": [
    "# Descriptive statistics\n",
    "print(\"\\nDescriptive Statistics:\")\n",
    "print(df.describe())"
   ]
  },
  {
   "cell_type": "markdown",
   "id": "10091f11-5420-4458-b651-d52e2bbd8335",
   "metadata": {},
   "source": [
    "4. Grouping Data"
   ]
  },
  {
   "cell_type": "code",
   "execution_count": 108,
   "id": "8540c80f-1e2f-462a-9864-57464c280da2",
   "metadata": {},
   "outputs": [
    {
     "name": "stdout",
     "output_type": "stream",
     "text": [
      "\n",
      "Average Salary by City:\n",
      "          City    Salary\n",
      "0      Chicago  107500.0\n",
      "1  Los Angeles   85000.0\n",
      "2     New York   90000.0\n"
     ]
    }
   ],
   "source": [
    "# Grouping by City and calculating average salary\n",
    "average_salary_by_city = df.groupby('City')['Salary'].mean().reset_index()\n",
    "print(\"\\nAverage Salary by City:\")\n",
    "print(average_salary_by_city)"
   ]
  },
  {
   "cell_type": "markdown",
   "id": "0572826e-f945-4499-b28c-83d8e84d6fd0",
   "metadata": {},
   "source": [
    "5. Visualizing Data"
   ]
  },
  {
   "cell_type": "code",
   "execution_count": 111,
   "id": "85f05e83-b164-4536-b54f-3ca9542e23fe",
   "metadata": {},
   "outputs": [
    {
     "name": "stderr",
     "output_type": "stream",
     "text": [
      "C:\\Users\\rajsh\\AppData\\Local\\Temp\\ipykernel_21764\\3133909832.py:3: FutureWarning: \n",
      "\n",
      "Passing `palette` without assigning `hue` is deprecated and will be removed in v0.14.0. Assign the `x` variable to `hue` and set `legend=False` for the same effect.\n",
      "\n",
      "  sns.barplot(x='City', y='Salary', data=average_salary_by_city, palette='viridis')\n"
     ]
    },
    {
     "data": {
      "image/png": "[encoded data removed]",
      "text/plain": [
       "<Figure size 800x500 with 1 Axes>"
      ]
     },
     "metadata": {},
     "output_type": "display_data"
    }
   ],
   "source": [
    "# Bar plot for average salary by city\n",
    "plt.figure(figsize=(8, 5))\n",
    "sns.barplot(x='City', y='Salary', data=average_salary_by_city, palette='viridis')\n",
    "plt.title('Average Salary by City')\n",
    "plt.xlabel('City')\n",
    "plt.ylabel('Average Salary')\n",
    "plt.show()"
   ]
  },
  {
   "cell_type": "code",
   "execution_count": 113,
   "id": "c9be804d-082e-48ad-8cee-237cb0224c7e",
   "metadata": {},
   "outputs": [
    {
     "data": {
      "image/png": "[encoded data removed]",
      "text/plain": [
       "<Figure size 800x500 with 1 Axes>"
      ]
     },
     "metadata": {},
     "output_type": "display_data"
    }
   ],
   "source": [
    "# Scatter plot for Age vs Salary\n",
    "plt.figure(figsize=(8, 5))\n",
    "sns.scatterplot(x='Age', y='Salary', data=df, hue='City', style='City', s=100)\n",
    "plt.title('Salary vs Age')\n",
    "plt.xlabel('Age')\n",
    "plt.ylabel('Salary')\n",
    "plt.legend(title='City')\n",
    "plt.show()"
   ]
  },
  {
   "cell_type": "code",
   "execution_count": 115,
   "id": "62228ecd-0835-40ab-bb27-66ee51fe6b55",
   "metadata": {},
   "outputs": [
    {
     "name": "stderr",
     "output_type": "stream",
     "text": [
      "C:\\Users\\rajsh\\AppData\\Local\\Temp\\ipykernel_21764\\1967012850.py:3: FutureWarning: \n",
      "\n",
      "Passing `palette` without assigning `hue` is deprecated and will be removed in v0.14.0. Assign the `x` variable to `hue` and set `legend=False` for the same effect.\n",
      "\n",
      "  sns.boxplot(x='City', y='Salary', data=df, palette='Set2')\n"
     ]
    },
    {
     "data": {
      "image/png": "[encoded data removed]",
      "text/plain": [
       "<Figure size 800x500 with 1 Axes>"
      ]
     },
     "metadata": {},
     "output_type": "display_data"
    }
   ],
   "source": [
    "# Box plot to show salary distribution by city\n",
    "plt.figure(figsize=(8, 5))\n",
    "sns.boxplot(x='City', y='Salary', data=df, palette='Set2')\n",
    "plt.title('Salary Distribution by City')\n",
    "plt.xlabel('City')\n",
    "plt.ylabel('Salary')\n",
    "plt.show()"
   ]
  },
  {
   "cell_type": "markdown",
   "id": "e263cf83-1018-4c18-ad9c-4cbbd42dd90d",
   "metadata": {},
   "source": [
    "# Create pivot tables and group data for analysis"
   ]
  },
  {
   "cell_type": "markdown",
   "id": "0863a472-8ce3-4376-a16b-799def4b6f32",
   "metadata": {},
   "source": [
    "1. Creating a Sample DataFrame"
   ]
  },
  {
   "cell_type": "code",
   "execution_count": 129,
   "id": "87bccbd5-13ca-4b2a-827a-fc03ade23eaa",
   "metadata": {},
   "outputs": [
    {
     "name": "stdout",
     "output_type": "stream",
     "text": [
      "Original DataFrame:\n",
      "      Name         City  Sales Quarter\n",
      "0    Alice     New York    250      Q1\n",
      "1      Bob  Los Angeles    300      Q1\n",
      "2  Charlie      Chicago    200      Q2\n",
      "3    David     New York    400      Q2\n",
      "4   Edward  Los Angeles    500      Q2\n",
      "5    Fiona      Chicago    300      Q3\n",
      "6   George     New York    150      Q3\n"
     ]
    }
   ],
   "source": [
    "data = {\n",
    "'Name': ['Alice', 'Bob', 'Charlie', 'David', 'Edward', 'Fiona', 'George'],\n",
    "'City': ['New York', 'Los Angeles', 'Chicago', 'New York', 'Los Angeles', 'Chicago', 'New York'],\n",
    "'Sales': [250, 300, 200, 400, 500, 300, 150],\n",
    "'Quarter': ['Q1', 'Q1', 'Q2', 'Q2', 'Q2', 'Q3', 'Q3']\n",
    "}\n",
    "\n",
    "df = pd.DataFrame(data)\n",
    "\n",
    "print(\"Original DataFrame:\")\n",
    "print(df)"
   ]
  },
  {
   "cell_type": "markdown",
   "id": "2c5e606d-9f4b-4bc6-8cb8-7474113f704e",
   "metadata": {},
   "source": [
    "2. Creating a Pivot Table"
   ]
  },
  {
   "cell_type": "code",
   "execution_count": 134,
   "id": "9a921987-e145-4885-8d59-b11c62713f21",
   "metadata": {},
   "outputs": [
    {
     "name": "stdout",
     "output_type": "stream",
     "text": [
      "\n",
      "Pivot Table (Total Sales by City and Quarter):\n",
      "Quarter       Q1   Q2   Q3\n",
      "City                      \n",
      "Chicago        0  200  300\n",
      "Los Angeles  300  500    0\n",
      "New York     250  400  150\n"
     ]
    }
   ],
   "source": [
    "# Creating a pivot table\n",
    "pivot_table = df.pivot_table(values='Sales', index='City', columns='Quarter', aggfunc='sum', fill_value=0)\n",
    "\n",
    "print(\"\\nPivot Table (Total Sales by City and Quarter):\")\n",
    "print(pivot_table)"
   ]
  },
  {
   "cell_type": "markdown",
   "id": "463772f7-f73c-4fe8-9177-3103812647b0",
   "metadata": {},
   "source": [
    "3. Grouping Data"
   ]
  },
  {
   "cell_type": "code",
   "execution_count": 136,
   "id": "ec9adcfe-a8d4-4203-b4c3-e5af09baab72",
   "metadata": {},
   "outputs": [
    {
     "name": "stdout",
     "output_type": "stream",
     "text": [
      "\n",
      "Grouped Data (Total Sales by City):\n",
      "          City  Sales\n",
      "0      Chicago    500\n",
      "1  Los Angeles    800\n",
      "2     New York    800\n"
     ]
    }
   ],
   "source": [
    "# Grouping by City and calculating the total sales\n",
    "grouped_data = df.groupby('City')['Sales'].sum().reset_index()\n",
    "print(\"\\nGrouped Data (Total Sales by City):\")\n",
    "print(grouped_data)"
   ]
  },
  {
   "cell_type": "markdown",
   "id": "de40b350-c54c-4775-a1a3-7e7cde739ca1",
   "metadata": {},
   "source": [
    "4. Grouping by Multiple Columns"
   ]
  },
  {
   "cell_type": "code",
   "execution_count": 144,
   "id": "2f5accda-a7be-4927-8de4-9c48ef165fd8",
   "metadata": {},
   "outputs": [
    {
     "name": "stdout",
     "output_type": "stream",
     "text": [
      "\n",
      "Grouped DataFrame with Total Sales:\n",
      "          City Quarter  Sales\n",
      "0      Chicago      Q2    200\n",
      "1      Chicago      Q3    300\n",
      "2  Los Angeles      Q1    300\n",
      "3  Los Angeles      Q2    500\n",
      "4     New York      Q1    250\n",
      "5     New York      Q2    400\n",
      "6     New York      Q3    150\n"
     ]
    }
   ],
   "source": [
    "# Grouping by City and Quarter and calculating total sales\n",
    "grouped_sales = df.groupby(['City', 'Quarter'])['Sales'].sum().reset_index()\n",
    "\n",
    "# Printing the grouped DataFrame\n",
    "print(\"\\nGrouped DataFrame with Total Sales:\")\n",
    "print(grouped_sales)"
   ]
  },
  {
   "cell_type": "code",
   "execution_count": null,
   "id": "0fed6919-b6a4-48ba-a036-cbe684e43e22",
   "metadata": {},
   "outputs": [],
   "source": []
  }
 ],
 "metadata": {
  "kernelspec": {
   "display_name": "Python 3 (ipykernel)",
   "language": "python",
   "name": "python3"
  },
  "language_info": {
   "codemirror_mode": {
    "name": "ipython",
    "version": 3
   },
   "file_extension": ".py",
   "mimetype": "text/x-python",
   "name": "python",
   "nbconvert_exporter": "python",
   "pygments_lexer": "ipython3",
   "version": "3.12.4"
  }
 },
 "nbformat": 4,
 "nbformat_minor": 5
}
